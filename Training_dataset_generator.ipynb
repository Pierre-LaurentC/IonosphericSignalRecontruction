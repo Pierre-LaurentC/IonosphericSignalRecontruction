{
 "cells": [
  {
   "cell_type": "code",
   "execution_count": 122,
   "metadata": {},
   "outputs": [],
   "source": [
    "import matlab\n",
    "import matlab.engine\n",
    "import matplotlib as mpl\n",
    "import matplotlib.pyplot as plt\n",
    "import numpy as np\n",
    "import pandas as pd\n",
    "import sys\n",
    "import datetime\n",
    "from scipy.io import loadmat\n",
    "from collections import defaultdict\n",
    "from IPython.display import clear_output\n",
    "import math\n",
    "import warnings\n",
    "warnings.filterwarnings('ignore')"
   ]
  },
  {
   "cell_type": "code",
   "execution_count": 123,
   "metadata": {},
   "outputs": [],
   "source": [
    "eng = matlab.engine.start_matlab()"
   ]
  },
  {
   "cell_type": "code",
   "execution_count": 12,
   "metadata": {},
   "outputs": [],
   "source": [
    "quietDays = np.array(eng.quiet())\n",
    "# Quiet days from 2009/09/5 to 2009/09/19\n",
    "# quietDays[1580-1] = 2009/09/14\n",
    "\n",
    "year = np.int16(quietDays[1572-1][0])\n",
    "month = np.int16(quietDays[1572-1][1])\n",
    "day = np.int16(quietDays[1572-1][2])\n",
    "# year = 2010\n",
    "# month = 9\n",
    "# day = 6\n",
    "hour = 0\n",
    "minute = 0\n",
    "second = 0\n",
    "numberOfDaysWithData = 2\n",
    "\n",
    "\n",
    "startDateMatlab = [year, month, day, hour, minute, second]\n",
    "endDateMatlab = [year, month, day+numberOfDaysWithData, hour, minute, second]\n",
    "\n",
    "startDate = datetime.datetime(year, month, day, hour, minute, second)\n",
    "endDate = datetime.datetime(year, month, day+numberOfDaysWithData, hour, minute, second)\n",
    "\n",
    "\n",
    "stationsWithNoData = []\n",
    "stationsNonexistentInFolder = []\n",
    "stationsOut = dict()\n",
    "dotsX=[]\n",
    "dotsY=[]\n",
    "dotsHeights=[]\n",
    "stationIndicatorVariation = defaultdict(list)\n",
    "\n",
    "# mat = loadmat(\"../../../../opt/dir.indices/station.mat\")\n",
    "mat = loadmat(\"D:/IRAP/dir.indices/station.mat\")\n",
    "allMatData = mat.get(\"station\", \"none\")[0]\n",
    "allStationCodes=[]\n",
    "\n",
    "for x in allMatData:\n",
    "    allStationCodes.append(x[1][0])\n",
    "    "
   ]
  },
  {
   "cell_type": "code",
   "execution_count": 61,
   "metadata": {},
   "outputs": [],
   "source": [
    "stationIndicatorRatioVariation = defaultdict(list)\n",
    "numberOfMinutesNeededInTheTimeStamp=0\n",
    "timeBetweenValues=0\n",
    "numberOfValues=0\n",
    "dataResolution=0\n",
    "latMin=40\n",
    "latMax=60"
   ]
  },
  {
   "cell_type": "code",
   "execution_count": 14,
   "metadata": {},
   "outputs": [],
   "source": [
    "indicatorVariationArray = np.array([])\n",
    "localIndicatorVariationArray = np.array([])\n",
    "indicatorVariationArrayLocalTime = np.array([])\n",
    "localNormalized01StationIndicatorVariation = np.array([])\n",
    "stationsPerLat = defaultdict(list)"
   ]
  },
  {
   "cell_type": "code",
   "execution_count": 15,
   "metadata": {},
   "outputs": [],
   "source": [
    "normalizedStationIndicatorVariation = defaultdict(list)\n",
    "normalized01StationIndicatorVariation = defaultdict(list)\n",
    "maxValueinDataset=0\n",
    "minValueinDataset=0"
   ]
  },
  {
   "cell_type": "code",
   "execution_count": 16,
   "metadata": {},
   "outputs": [],
   "source": [
    "ReconstructedArray = np.array([])"
   ]
  },
  {
   "cell_type": "code",
   "execution_count": 143,
   "metadata": {},
   "outputs": [],
   "source": [
    "trainingDatasetPathWindows = \"D:/IRAP/Training_Dataset\""
   ]
  },
  {
   "cell_type": "code",
   "execution_count": 150,
   "metadata": {},
   "outputs": [
    {
     "name": "stdout",
     "output_type": "stream",
     "text": [
      "Request Matlab done\n",
      "Make arrays, normalize and calculate local time done\n",
      "Reconstruct array and save label done\n",
      "Make gaps and save feature done\n",
      "Matrix saved for date: 2010-02-21 00:00:00\n"
     ]
    }
   ],
   "source": [
    "def GenerateTrainingSet():\n",
    "    global year\n",
    "    global month\n",
    "    global day\n",
    "    global startDate\n",
    "    global endDate\n",
    "    global startDateMatlab\n",
    "    global endDateMatlab\n",
    "    global stationsWithNoData\n",
    "    global stationsNonexistentInFolder\n",
    "    global stationsOut\n",
    "    global dotsX\n",
    "    global dotsY\n",
    "    global dotsHeights\n",
    "    global indicatorVariationArrayLocalTime\n",
    "    \n",
    "    stationsWithNoData = []\n",
    "    stationsNonexistentInFolder = []\n",
    "    stationsOut = dict()\n",
    "    dotsX=[]\n",
    "    dotsY=[]\n",
    "    dotsHeights=[]\n",
    "    stationIndicatorVariation = defaultdict(list)\n",
    "    index=0\n",
    "    for i in range(1500, 1700, numberOfDaysWithData):\n",
    "        year = np.int16(quietDays[i][0])\n",
    "        month = np.int16(quietDays[i][1])\n",
    "        day = np.int16(quietDays[i][2])\n",
    "        \n",
    "        startDate = datetime.datetime(year, month, day, hour, minute, second)\n",
    "        endDate = startDate+datetime.timedelta(days=numberOfDaysWithData)\n",
    "        \n",
    "        startDateMatlab = [year, month, day, hour, minute, second]\n",
    "        endDateMatlab = [year, month, day+numberOfDaysWithData, hour, minute, second]\n",
    "        \n",
    "        RequestMatlab()\n",
    "        print(\"Request Matlab done\")\n",
    "        MakeStationIndicatorVariation()\n",
    "        ManuallyNormalizeData01()      \n",
    "        makeIndicatorVariationArray(False,True)\n",
    "        ResizeForPlot()\n",
    "        print(\"Make arrays, normalize and calculate local time done\")\n",
    "        ReconstructedArray = PredictIndicatorForAllLatitudes(indicatorVariationArrayLocalTime)\n",
    "        np.save(\"{}/x_train/indicatorVariationArrayLocalTime{}\".format(trainingDatasetPathWindows,index), ReconstructedArray)\n",
    "        print(\"Reconstruct array and save label done\")\n",
    "        ArrayWithGaps=RemoveData(ReconstructedArray)\n",
    "        np.save(\"{}/x_train_lines/indicatorVariationArrayLocalTime{}\".format(trainingDatasetPathWindows,index), ArrayWithGaps)\n",
    "        print(\"Make gaps and save feature done\")\n",
    "        index+=1\n",
    "        print(\"Matrix saved for date: {}\".format(startDate))\n",
    "        clear_output(wait=True)\n",
    "    \n",
    "GenerateTrainingSet()       "
   ]
  },
  {
   "cell_type": "code",
   "execution_count": 17,
   "metadata": {},
   "outputs": [],
   "source": [
    "def RemoveData(array):\n",
    "    fromLat=46\n",
    "    toLat=50\n",
    "    target=np.full((toLat-fromLat, array.shape[1]), np.nan)\n",
    "    c=0\n",
    "    for i in range(fromLat,toLat):\n",
    "        target[c]=array[i-latMin]\n",
    "        array[i-latMin]=np.full(array.shape[1],np.nan)\n",
    "        c+=1\n",
    "    return array"
   ]
  },
  {
   "cell_type": "code",
   "execution_count": 125,
   "metadata": {},
   "outputs": [],
   "source": [
    "def RequestMatlab():\n",
    "    for st in allStationCodes: \n",
    "        try:\n",
    "            stationsOut[st] = eng.indices_alpha(matlab.double(startDateMatlab), matlab.double(endDateMatlab),str(st))\n",
    "            stLongeo=np.float32(stationsOut[st].get(\"longeo\"))\n",
    "            stLatgeo=np.float32(stationsOut[st].get(\"latgeo\"))\n",
    "            stAlt=np.float32(stationsOut[st].get(\"alt\"))\n",
    "            igrf = eng.igrf(matlab.double([stLongeo]), matlab.double([stLatgeo]), matlab.double([stAlt]), matlab.double([startDateMatlab]), nargout=4)\n",
    "            stationsOut[st][\"igrf\"] = igrf[3]\n",
    "        except:\n",
    "            stationsNonexistentInFolder.append(st)"
   ]
  },
  {
   "cell_type": "code",
   "execution_count": 19,
   "metadata": {},
   "outputs": [
    {
     "name": "stdout",
     "output_type": "stream",
     "text": [
      "Wall time: 30.7 ms\n"
     ]
    }
   ],
   "source": [
    "%%time\n",
    "from collections import OrderedDict\n",
    "\n",
    "stationsYearMagPosition = OrderedDict(OrderedDict())\n",
    "stationPosition = OrderedDict()  \n",
    "\n",
    "for x in allMatData:  \n",
    "    stationsYearMagPosition[str(x[1][0])] = OrderedDict()  \n",
    "    try:\n",
    "        for i in range(len(x[5][0])):\n",
    "            stationPosition[x[5][0][i]] = x[9][0][i], x[10][0][i]\n",
    "            stationsYearMagPosition[str(x[1][0])] = stationPosition.copy()\n",
    "    except:\n",
    "        print(\"no value\")"
   ]
  },
  {
   "cell_type": "code",
   "execution_count": 96,
   "metadata": {},
   "outputs": [],
   "source": [
    "def IndicatorCalculation(dataSt, timeshift, currentDate):\n",
    "    \n",
    "#     a1=np.float32(dataSt.get(\"a1\")[timeshift])\n",
    "#     x=np.float32(dataSt.get(\"x\")[timeshift])\n",
    "    x1=np.float32(dataSt.get(\"x1\")[timeshift])\n",
    "    x2=np.float32(dataSt.get(\"x2\")[timeshift])\n",
    "#     x3=np.float32(dataSt.get(\"x3\")[timeshift])\n",
    "#     x4=np.float32(dataSt.get(\"x4\")[timeshift])\n",
    "#     y=np.float32(dataSt.get(\"y\")[timeshift])\n",
    "    y1=np.float32(dataSt.get(\"y1\")[timeshift])\n",
    "#     y2=np.float32(dataSt.get(\"y2\")[timeshift])\n",
    "#     y3=np.float32(dataSt.get(\"y3\")[timeshift])\n",
    "#     y4=np.float32(dataSt.get(\"y4\")[timeshift])\n",
    "#     z=np.float32(dataSt.get(\"z\")[timeshift])\n",
    "    z1=np.float32(dataSt.get(\"z1\")[timeshift])\n",
    "#     z2=np.float32(dataSt.get(\"z2\")[timeshift])\n",
    "    igrf=np.float32(dataSt.get(\"igrf\"))\n",
    "    \n",
    "    currentDateMatlab = [currentDate.year, currentDate.month, currentDate.day, currentDate.hour, currentDate.minute, currentDate.second]\n",
    "    \n",
    "    ratio = ((math.sqrt(pow(x1, 2)+pow(y1, 2)+pow(z1, 2)))/igrf)\n",
    "#     weight = gaussian(ratio, 1, 0)\n",
    "    return np.round(x2,10), ratio"
   ]
  },
  {
   "cell_type": "code",
   "execution_count": 91,
   "metadata": {},
   "outputs": [],
   "source": [
    "def MakeStationIndicatorVariation():\n",
    "    \n",
    "    global stationIndicatorVariation\n",
    "    global stationIndicatorRatioVariation\n",
    "    global stationIndicatorVariation\n",
    "    global numberOfMinutesNeededInTheTimeStamp\n",
    "    global timeBetweenValues\n",
    "    global numberOfValues\n",
    "    global dataResolution\n",
    "    global latMin\n",
    "    global latMax\n",
    "    \n",
    "    stationIndicatorRatioVariation = defaultdict(list)\n",
    "    stationIndicatorVariation.clear()\n",
    "    numberOfMinutesNeededInTheTimeStamp = 1440*numberOfDaysWithData\n",
    "    timeBetweenValues = 10\n",
    "    numberOfValues = np.int16(numberOfMinutesNeededInTheTimeStamp/timeBetweenValues)\n",
    "    dataResolution = 0\n",
    "\n",
    "    if float(360%(numberOfMinutesNeededInTheTimeStamp/timeBetweenValues)).is_integer():\n",
    "        dataResolution = 360/(numberOfMinutesNeededInTheTimeStamp/timeBetweenValues)\n",
    "\n",
    "        for st in allStationCodes:\n",
    "            if stationsOut[st]:\n",
    "                if stationsOut[st].get(\"latgeo\") > latMin and stationsOut[st].get(\"latgeo\") < latMax:\n",
    "            #         st=\"mcq\"\n",
    "                    delta = endDate-startDate\n",
    "                    totalMinutes = (delta.total_seconds()+1)/60\n",
    "                    for i in range(0, np.int16(totalMinutes), timeBetweenValues):\n",
    "#                         try:\n",
    "                        update = datetime.timedelta(minutes=i)\n",
    "                        currentDate = startDate+update\n",
    "                        magneticValue, ratio = IndicatorCalculation(stationsOut.get(st), i, currentDate)\n",
    "                        stationIndicatorVariation[st].append(magneticValue)\n",
    "                        stationIndicatorRatioVariation[st].append(ratio)\n",
    "#                         except:\n",
    "#                             None\n",
    "\n",
    "    else:\n",
    "        print(\"!ERROR! -- Your timeBetweenValues must be a multiple of the chosen time delta's amount of minutes -- !ERROR!\")\n",
    "        sys.exit"
   ]
  },
  {
   "cell_type": "code",
   "execution_count": 22,
   "metadata": {},
   "outputs": [],
   "source": [
    "def normalizeWithGivenBounds(values, bounds):\n",
    "    return [bounds['desired']['lower'] + (x - bounds['actual']['lower']) * (bounds['desired']['upper'] - bounds['desired']['lower']) / (bounds['actual']['upper'] - bounds['actual']['lower']) for x in values]               \n",
    "\n",
    "def ManuallyNormalizeData01():\n",
    "    global normalizedStationIndicatorVariation\n",
    "    global normalized01StationIndicatorVariation\n",
    "    global maxValueinDataset\n",
    "    global minValueinDataset\n",
    "    normalizedStationIndicatorVariation = defaultdict(list)\n",
    "    normalized01StationIndicatorVariation = defaultdict(list)\n",
    "    maxValueinDataset=0\n",
    "    minValueinDataset=0\n",
    "    max_values = np.array([])\n",
    "    min_values = np.array([])\n",
    "    max_values_ratio = np.array([])\n",
    "    min_values_ratio = np.array([])\n",
    "    \n",
    "    for st in allStationCodes:\n",
    "        if stationIndicatorVariation[st]:\n",
    "            if not math.isnan(stationIndicatorVariation[st][0]):\n",
    "                max_values = np.append(max_values, max(stationIndicatorVariation[st])) \n",
    "                min_values = np.append(min_values, min(stationIndicatorVariation[st]))\n",
    "                max_values_ratio = np.append(max_values_ratio, max(stationIndicatorRatioVariation[st])) \n",
    "                min_values_ratio = np.append(min_values_ratio, min(stationIndicatorRatioVariation[st])) \n",
    "\n",
    "    totalMax = max(max_values)\n",
    "    totalMin = min(min_values)\n",
    "    totalMaxRatio = max(max_values_ratio)\n",
    "    totalMinRatio = min(min_values_ratio)\n",
    "    maxValueinDataset = totalMax\n",
    "    minValueinDataset = totalMin\n",
    "    \n",
    "    bounds = np.array([0,1])   \n",
    "    boundsRatio = np.array([-1,1])   \n",
    "    for st in allStationCodes:\n",
    "        if stationIndicatorVariation[st]:\n",
    "            localMax = max(stationIndicatorVariation[st])\n",
    "            localMin = min(stationIndicatorVariation[st])\n",
    "            localMaxRatio = max(stationIndicatorRatioVariation[st])\n",
    "            localMinRatio = min(stationIndicatorRatioVariation[st])\n",
    "            \n",
    "#             stationIndicatorRatioVariation[st]=normalizeWithGivenBounds(np.array(stationIndicatorRatioVariation[st]), {'actual': {'lower': localMinRatio, 'upper': localMaxRatio}, 'desired': {'lower': boundsRatio[0], 'upper': boundsRatio[1]}})\n",
    "            #When the ratio is far from the reference it's value tends to 0, when the ration corresponds to the reference the value tends to 1\n",
    "            IndicatorVariationAppliedRatio=stationIndicatorVariation.copy()\n",
    "            for i in range(0, len(stationIndicatorVariation[st])):\n",
    "                IndicatorVariationAppliedRatio[st][i] = stationIndicatorVariation[st][i]*stationIndicatorRatioVariation[st][i]\n",
    "            normalized01StationIndicatorVariation[st] = normalizeWithGivenBounds(np.array(IndicatorVariationAppliedRatio[st]), {'actual': {'lower': totalMin, 'upper': totalMax}, 'desired': {'lower': bounds[0], 'upper': bounds[1]}})"
   ]
  },
  {
   "cell_type": "code",
   "execution_count": 55,
   "metadata": {},
   "outputs": [],
   "source": [
    "def indexValueOnLocalTime(array, st, i):\n",
    "    numberOfValuesLong = array.shape[1]\n",
    "    localTimeValuesArray = np.full((180, numberOfValuesLong), np.nan)\n",
    "    long = float(stationsOut[st].get(\"longeo\"))\n",
    "    shiftValues = np.round((long*4)/timeBetweenValues,0)\n",
    "    initialShiftValues = shiftValues\n",
    "    decreasingIndex=0\n",
    "    increasingIndex=0\n",
    "    for y in range(np.int16(numberOfValues/numberOfDaysWithData),np.int16(numberOfValues)):\n",
    "        if y+shiftValues>=array.shape[1]:\n",
    "            localTimeValuesArray[i][np.int16(y-(y-shiftValues))-decreasingIndex] = array[i][np.int16(numberOfValues/numberOfDaysWithData-decreasingIndex)]\n",
    "            decreasingIndex+=1\n",
    "#             shiftValues-=1\n",
    "        else:\n",
    "            localTimeValuesArray[i][np.int16(y-y+shiftValues+increasingIndex)] = array[i][y]\n",
    "            increasingIndex+=1\n",
    "            \n",
    "    return localTimeValuesArray[i] "
   ]
  },
  {
   "cell_type": "code",
   "execution_count": 42,
   "metadata": {},
   "outputs": [
    {
     "name": "stdout",
     "output_type": "stream",
     "text": [
      "aqu\n"
     ]
    }
   ],
   "source": [
    "print(list(normalized01StationIndicatorVariation.keys())[1])"
   ]
  },
  {
   "cell_type": "code",
   "execution_count": 63,
   "metadata": {},
   "outputs": [],
   "source": [
    "\n",
    "def makeIndicatorVariationArray(normalizedGauss, normalizedScaler):\n",
    "    global indicatorVariationArray\n",
    "    global localIndicatorVariationArray\n",
    "    global indicatorVariationArrayLocalTime\n",
    "    global localNormalized01StationIndicatorVariation\n",
    "    global stationsPerLat\n",
    "    \n",
    "    indicatorVariationArray = np.full((180, len(normalized01StationIndicatorVariation[list(normalized01StationIndicatorVariation.keys())[1]])), np.nan)\n",
    "    localIndicatorVariationArray = np.full_like(indicatorVariationArray, np.nan)\n",
    "    indicatorVariationArrayLocalTime = np.full((180, len(normalized01StationIndicatorVariation[list(normalized01StationIndicatorVariation.keys())[1]])), np.nan)\n",
    "    localNormalized01StationIndicatorVariation = np.full((180, len(normalized01StationIndicatorVariation[list(normalized01StationIndicatorVariation.keys())[1]])), np.nan)\n",
    "    stationsPerLat = defaultdict(list)\n",
    "\n",
    "    intermediateLocalIndicatorVariationArray = np.empty_like(localIndicatorVariationArray)\n",
    "    intermediateLocalNormalized01StationIndicatorVariation = np.empty_like(localNormalized01StationIndicatorVariation)\n",
    "    alreadyFilled = False\n",
    "    for st in allStationCodes:\n",
    "#         st='clf'\n",
    "        alreadyFilled=False\n",
    "        for i in range(latMin, latMax):\n",
    "            if not isinstance(stationsOut[st], matlab.double):\n",
    "                if i == np.round(np.int16(stationsOut[st].get(\"latgeo\")),0):\n",
    "                    if stationsOut[st].get('longeo')<40:\n",
    "                        stationsPerLat[i+90].append(st)\n",
    "                        if len(stationsPerLat[i+90])>1:\n",
    "                            alreadyFilled=True\n",
    "    #                     if st==\"aae\": print i+90\n",
    "    #                     if i+90==112: print stationsOut[st].get('longeo')\n",
    "                        if normalizedScaler:\n",
    "                            if normalized01StationIndicatorVariation[st]:\n",
    "                                if alreadyFilled==True:\n",
    "                                    intermediateLocalIndicatorVariationArray = np.array(localIndicatorVariationArray, copy=True)\n",
    "                                    intermediateLocalNormalized01StationIndicatorVariation = np.array(localNormalized01StationIndicatorVariation, copy=True)\n",
    "\n",
    "                                for t in range(np.int16(numberOfValues/numberOfDaysWithData), np.int16(numberOfValues)):\n",
    "#                                     print i+90, t\n",
    "                                    try:\n",
    "                                        localIndicatorVariationArray[i+90][t] = normalized01StationIndicatorVariation[st][t]\n",
    "                                    except:\n",
    "                                        print (st)\n",
    "                                try:\n",
    "                                    localNormalized01StationIndicatorVariation[i+90] = normalized01StationIndicatorVariation[st]\n",
    "                                except:\n",
    "                                    print (st)\n",
    "                                    \n",
    "                                if alreadyFilled==True:\n",
    "                                    for a in range(0,len(indicatorVariationArray[1])):\n",
    "                                        localIndicatorVariationArray[i+90][a] = (intermediateLocalIndicatorVariationArray[i+90][a]+localIndicatorVariationArray[i+90][a])/2\n",
    "                                        localNormalized01StationIndicatorVariation[i+90][a] = (intermediateLocalNormalized01StationIndicatorVariation[i+90][a]+localNormalized01StationIndicatorVariation[i+90][a])/2\n",
    "\n",
    "                                indicatorVariationArrayLocalTime[i+90] = indexValueOnLocalTime(localNormalized01StationIndicatorVariation, st, i+90)\n",
    "                                indicatorVariationArray[i+90] = localIndicatorVariationArray[i+90]\n",
    "\n",
    "                        elif normalizedGauss: \n",
    "                            indicatorVariationArray[i+90]=AdaptDimensions(np.array(normalizedStationIndicatorVariation[st]), indicatorVariationArray.shape[1])\n",
    "                        else: \n",
    "                            indicatorVariationArray[i+90]=AdaptDimensions(np.array(stationIndicatorVariation[st]), indicatorVariationArray.shape[1])\n",
    "                else:\n",
    "                    None"
   ]
  },
  {
   "cell_type": "code",
   "execution_count": 60,
   "metadata": {},
   "outputs": [
    {
     "name": "stdout",
     "output_type": "stream",
     "text": [
      "288.0\n"
     ]
    }
   ],
   "source": [
    "print(numberOfValues)"
   ]
  },
  {
   "cell_type": "code",
   "execution_count": 69,
   "metadata": {},
   "outputs": [],
   "source": [
    "def ResizeForPlot():\n",
    "    global indicatorVariationArrayLocalTime\n",
    "    global indicatorVariationArray\n",
    "    indicatorVariationArrayResized = np.empty([latMax-latMin, np.int16(numberOfValues-(numberOfValues/numberOfDaysWithData))])\n",
    "    indicatorVariationArrayLocalTimeResized = np.empty([latMax-latMin, np.int16(numberOfValues-(numberOfValues/numberOfDaysWithData))])\n",
    "    m=0\n",
    "    for i in range(latMin+90, latMax+90):\n",
    "        for y in range(np.int16(numberOfValues/numberOfDaysWithData),numberOfValues):\n",
    "            indicatorVariationArrayResized[m][np.int16(y-numberOfValues/numberOfDaysWithData)]=indicatorVariationArray[i][y]\n",
    "        m+=1\n",
    "    indicatorVariationArray = np.empty_like(indicatorVariationArrayResized)\n",
    "    indicatorVariationArray=indicatorVariationArrayResized[:]\n",
    "\n",
    "    m=0\n",
    "    for i in range(latMin+90, latMax+90):\n",
    "        for y in range(0,np.int16(numberOfValues-(numberOfValues/numberOfDaysWithData))):\n",
    "            indicatorVariationArrayLocalTimeResized[m][y]=indicatorVariationArrayLocalTime[i][y]\n",
    "        m+=1\n",
    "    indicatorVariationArrayLocalTime = np.empty_like(indicatorVariationArrayLocalTimeResized)\n",
    "    indicatorVariationArrayLocalTime=indicatorVariationArrayLocalTimeResized[:]"
   ]
  },
  {
   "cell_type": "code",
   "execution_count": 149,
   "metadata": {},
   "outputs": [],
   "source": [
    "def PredictIndicatorForAllLatitudes(baseArray):\n",
    "    global ReconstructedArray\n",
    "    predictionArray = np.empty_like(baseArray)\n",
    "    \n",
    "    predictionArray=np.copy(baseArray)\n",
    "    \n",
    "#     params = ParametersTuningPoly(predictionArray,predictionArray.shape[1]/2)\n",
    "    modelTuned = ParametersTuningPoly(predictionArray,baseArray.shape[1]/2)\n",
    "    for i in range(0,baseArray.shape[0]):\n",
    "        specificLatitudeTimePrediction = np.full(baseArray.shape[1], np.nan)\n",
    "        if math.isnan(baseArray[i][5]):\n",
    "            for y in range(5,baseArray.shape[1]):  \n",
    "#                 print(\"Latitude index {} predicted out of {} in total, value: {}\".format(i+latMin, baseArray.shape[0]+latMin,y))\n",
    "#                 print(\"Hyper parameters {}\".format(modelTuned))\n",
    "                specificLatitudeTimePrediction[y] = GetIndicatorLongPrediction(i,y,modelTuned,predictionArray)\n",
    "            predictionArray[i] = specificLatitudeTimePrediction\n",
    "    return predictionArray"
   ]
  },
  {
   "cell_type": "code",
   "execution_count": 34,
   "metadata": {},
   "outputs": [],
   "source": [
    "def SaveMatrix(i):\n",
    "    global indicatorVariationArrayLocalTime\n",
    "    global ReconstructedArray\n",
    "    np.save(\"../TrainingDataset/x_train_lines/indicatorVariationArrayLocalTime{}\".format(i), indicatorVariationArrayLocalTime)\n",
    "    np.save(\"../TrainingDataset/x_train/indicatorVariationArrayLocalTime{}\".format(i), ReconstructedArray)"
   ]
  },
  {
   "cell_type": "code",
   "execution_count": 141,
   "metadata": {},
   "outputs": [],
   "source": [
    "def GetIndicatorLongPrediction(latitude,longitude, params, baseArray):\n",
    "    indicatorLatVariation = np.array([])\n",
    "    for i in range(0, baseArray.shape[0]):\n",
    "        indicatorLatVariation = np.append(indicatorLatVariation, baseArray[i][longitude])\n",
    "    y = np.array(indicatorLatVariation)\n",
    "    x = np.arange(0, baseArray.shape[0], 1)\n",
    "    x,y = RemoveInfNan(x, y)\n",
    "    latitude = np.array(latitude)\n",
    "    return PolyRegression(x,y,params).predict(latitude.reshape(-1,1))\n",
    "#     return SupportVectorRegression(x,y,params).predict(latitude)"
   ]
  },
  {
   "cell_type": "code",
   "execution_count": 29,
   "metadata": {},
   "outputs": [],
   "source": [
    "def RemoveInfNan(latValues, indicatorValues):\n",
    "    indexDeleteY = np.array([])\n",
    "    for i in range(0, indicatorValues.shape[0]):\n",
    "        if math.isinf(indicatorValues[i]) or math.isnan(indicatorValues[i]):\n",
    "            indexDeleteY = np.append(indexDeleteY, i)\n",
    "    newY = np.delete(indicatorValues, indexDeleteY)\n",
    "    newX = np.delete(latValues, indexDeleteY)\n",
    "    newY=newY.reshape(newY.shape[0],1)\n",
    "    newX=newX.reshape(newY.shape[0],1)\n",
    "    \n",
    "    return newX, newY"
   ]
  },
  {
   "cell_type": "code",
   "execution_count": 140,
   "metadata": {},
   "outputs": [],
   "source": [
    "from sklearn.svm import SVR\n",
    "\n",
    "def SupportVectorRegression(latValues, indicatorValues,params):\n",
    "    svr_rbf = SVR(kernel='rbf', C=params['C'], gamma=params['gamma'])\n",
    "    model = svr_rbf.fit(latValues, indicatorValues)\n",
    "    \n",
    "    return model\n",
    "\n",
    "def PolyRegression(latValues, indicatorValues, params):\n",
    "#     params = {'polynomialfeatures__degree': np.array([16]), 'linearregression__fit_intercept': [True, False], 'linearregression__normalize': [True, False]}\n",
    "#     poly_grid = GridSearchCV(PolynomialRegression(), params, cv=10, scoring='r2', verbose=1) #Scoring with coefficient of determination r2\n",
    "    poly_grid = PolynomialRegression()\n",
    "    poly_grid.set_params(**params)\n",
    "    poly_grid.fit(latValues, indicatorValues)\n",
    "#     print(\"Best hyper parameters found at: {}\".format(poly_grid.best_params_))\n",
    "#     print(\"With {}% accuracy\".format(poly_grid.best_score_))\n",
    "    return poly_grid"
   ]
  },
  {
   "cell_type": "code",
   "execution_count": 71,
   "metadata": {},
   "outputs": [],
   "source": [
    "from sklearn.model_selection import GridSearchCV\n",
    "from sklearn.model_selection import train_test_split\n",
    "\n",
    "def ParametersTuning(baseArray,long):\n",
    "    indicatorLatVariation = np.array([])\n",
    "    for i in range(0, baseArray.shape[0]):\n",
    "        indicatorLatVariation = np.append(indicatorLatVariation, baseArray[i][long])\n",
    "\n",
    "    y = np.array(indicatorLatVariation)\n",
    "    x = np.arange(0, baseArray.shape[0], 1)\n",
    "\n",
    "    x, y = RemoveInfNan(x, y)\n",
    "    X_train, X_test, y_train, y_test = train_test_split(x, y, test_size=0.5, random_state=0)\n",
    "    \n",
    "#     fig, (ax1, ax2) = plt.subplots(1, 2)\n",
    "#     ax1.scatter(X_train, y_train)\n",
    "#     ax2.scatter(X_test, y_test)\n",
    "#     fig.set_size_inches(15,5)\n",
    "    \n",
    "    parameters = {'kernel':['rbf'], 'gamma': [1e-4, 1e-3],'C': [1, 10, 50, 100]}\n",
    "    svr = GridSearchCV(SVR(), parameters)\n",
    "    svr.fit(X_train, y_train)\n",
    "    print('score',svr.score(X_test, y_test))\n",
    "    modelBestParams = svr.best_params_\n",
    "    print (\"Parameters tuning finished, best params: {}\".format(modelBestParams))\n",
    "    return modelBestParams\n",
    "\n",
    "def ParametersTuningPoly(baseArray,long):\n",
    "    indicatorLatVariation = np.array([])\n",
    "    for i in range(0, baseArray.shape[0]):\n",
    "        indicatorLatVariation = np.append(indicatorLatVariation, baseArray[i][np.int16(long)])\n",
    "\n",
    "    y = np.array(indicatorLatVariation)\n",
    "    x = np.arange(0, baseArray.shape[0], 1)\n",
    "\n",
    "    x, y = RemoveInfNan(x, y)\n",
    "    \n",
    "    paramsTuning = {'polynomialfeatures__degree': np.arange(2,5,1), 'linearregression__fit_intercept': [True, False], 'linearregression__normalize': [True, False]}\n",
    "    poly_gridTuning = GridSearchCV(PolynomialRegression(), paramsTuning, cv=10, scoring='r2', verbose=0) #Scoring with coefficient of determination r2\n",
    "    poly_gridTuning.fit(x, y)\n",
    "#     print(\"Best hyper parameters found at: {}\".format(poly_gridTuning.best_params_))\n",
    "#     print(\"With {}% accuracy\".format(poly_gridTuning.best_score_))\n",
    "    return poly_gridTuning.best_params_"
   ]
  },
  {
   "cell_type": "code",
   "execution_count": 32,
   "metadata": {},
   "outputs": [],
   "source": [
    "from sklearn.preprocessing import PolynomialFeatures\n",
    "from sklearn.pipeline import make_pipeline\n",
    "from sklearn.linear_model import LinearRegression\n",
    "\n",
    "def PolynomialRegression(degree=2, **kwargs):\n",
    "    return make_pipeline(PolynomialFeatures(degree), LinearRegression(**kwargs))"
   ]
  },
  {
   "cell_type": "code",
   "execution_count": 156,
   "metadata": {},
   "outputs": [
    {
     "data": {
      "text/plain": [
       "<matplotlib.colorbar.Colorbar at 0x18822a26278>"
      ]
     },
     "execution_count": 156,
     "metadata": {},
     "output_type": "execute_result"
    },
    {
     "data": {
      "image/png": "[encoded data removed]",
      "text/plain": [
       "<Figure size 2160x288 with 2 Axes>"
      ]
     },
     "metadata": {
      "needs_background": "light"
     },
     "output_type": "display_data"
    }
   ],
   "source": [
    "fig= plt.figure(figsize=(30,4))\n",
    "imageIndex=2\n",
    "matrixToPlot = np.load(\"{}/x_train/indicatorVariationArrayLocalTime{}.npy\".format(trainingDatasetPathWindows,imageIndex))\n",
    "# matrixToPlot = np.load(\"../TrainingDataset/x_train_lines/indicatorVariationArrayLocalTime{}.npy\".format(imageIndex))\n",
    "# print matrixToPlot\n",
    "plt.imshow(matrixToPlot, origin='lower', cmap=plt.get_cmap('jet', 20) , aspect='auto')\n",
    "plt.title(\"Variation of X2 LT\")\n",
    "plt.xlabel(\"NumberOfValues\")\n",
    "plt.ylabel(\"Latitude (degrees)\")\n",
    "plt.colorbar()"
   ]
  },
  {
   "cell_type": "code",
   "execution_count": null,
   "metadata": {},
   "outputs": [],
   "source": []
  }
 ],
 "metadata": {
  "kernelspec": {
   "display_name": "Python 3",
   "language": "python",
   "name": "python3"
  },
  "language_info": {
   "codemirror_mode": {
    "name": "ipython",
    "version": 3
   },
   "file_extension": ".py",
   "mimetype": "text/x-python",
   "name": "python",
   "nbconvert_exporter": "python",
   "pygments_lexer": "ipython3",
   "version": "3.7.3"
  }
 },
 "nbformat": 4,
 "nbformat_minor": 4
}
