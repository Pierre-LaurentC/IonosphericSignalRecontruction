{
 "cells": [
  {
   "cell_type": "code",
   "execution_count": 3,
   "metadata": {},
   "outputs": [],
   "source": [
    "import matlab.engine\n",
    "import matplotlib as mpl\n",
    "import matplotlib.pyplot as plt\n",
    "import numpy as np\n",
    "import pandas as pd\n",
    "import sys\n",
    "import datetime\n",
    "from scipy.io import loadmat\n",
    "from collections import defaultdict\n",
    "from IPython.display import clear_output\n",
    "import math\n",
    "\n",
    "eng = matlab.engine.start_matlab()"
   ]
  },
  {
   "cell_type": "code",
   "execution_count": 4,
   "metadata": {},
   "outputs": [],
   "source": [
    "quietDays = np.array(eng.quiet())\n",
    "# Quiet days from 2009/09/5 to 2009/09/19\n",
    "# quietDays[1580-1] = 2009/09/14\n",
    "\n",
    "year = np.int16(quietDays[1580-1][0])\n",
    "month = np.int16(quietDays[1580-1][1])\n",
    "day = np.int16(quietDays[1580-1][2])\n",
    "hour = 0\n",
    "minute = 0\n",
    "second = 0\n",
    "numberOfDaysWithData = 2\n",
    "\n",
    "\n",
    "startDateMatlab = [year, month, day, hour, minute, second]\n",
    "endDateMatlab = [year, month, day+numberOfDaysWithData, hour, minute, second]\n",
    "\n",
    "startDate = datetime.datetime(year, month, day, hour, minute, second)\n",
    "endDate = datetime.datetime(year, month, day+numberOfDaysWithData, hour, minute, second)\n",
    "\n",
    "\n",
    "stationsWithNoData = []\n",
    "stationsNonexistentInFolder = []\n",
    "stationsOut = dict()\n",
    "dotsX=[]\n",
    "dotsY=[]\n",
    "dotsHeights=[]\n",
    "stationIndicatorVariation = defaultdict(list)\n",
    "\n",
    "mat = loadmat(\"../../../../opt/dir.indices/station.mat\")\n",
    "\n",
    "allMatData = mat.get(\"station\", \"none\")[0]\n",
    "allStationCodes=[]\n",
    "\n",
    "for x in allMatData:\n",
    "    allStationCodes.append(x[1][0])\n",
    "    "
   ]
  },
  {
   "cell_type": "code",
   "execution_count": 5,
   "metadata": {},
   "outputs": [
    {
     "name": "stdout",
     "output_type": "stream",
     "text": [
      "CPU times: user 517 ms, sys: 314 ms, total: 830 ms\n",
      "Wall time: 4.13 s\n"
     ]
    }
   ],
   "source": [
    "%%time\n",
    "for st in allStationCodes: \n",
    "    try:\n",
    "        stationsOut[st] = eng.indices_alpha(matlab.double(startDateMatlab), matlab.double(endDateMatlab),str(st))\n",
    "    except:\n",
    "        stationsNonexistentInFolder.append(st)"
   ]
  },
  {
   "cell_type": "code",
   "execution_count": 6,
   "metadata": {},
   "outputs": [],
   "source": [
    "def IndicatorCalculation(dataSt, timeshift, currentDate):\n",
    "    \n",
    "#     a1=np.float32(dataSt.get(\"a1\")[timeshift])\n",
    "#     x=np.float32(dataSt.get(\"x\")[timeshift])\n",
    "    x1=np.float32(dataSt.get(\"x1\")[timeshift])\n",
    "    x2=np.float32(dataSt.get(\"x2\")[timeshift])\n",
    "#     x3=np.float32(dataSt.get(\"x3\")[timeshift])\n",
    "#     x4=np.float32(dataSt.get(\"x4\")[timeshift])\n",
    "    y=np.float32(dataSt.get(\"y\")[timeshift])\n",
    "    y1=np.float32(dataSt.get(\"y1\")[timeshift])\n",
    "#     y2=np.float32(dataSt.get(\"y2\")[timeshift])\n",
    "#     y3=np.float32(dataSt.get(\"y3\")[timeshift])\n",
    "#     y4=np.float32(dataSt.get(\"y4\")[timeshift])\n",
    "    z1=np.float32(dataSt.get(\"z1\")[timeshift])\n",
    "    stLongeo=np.float32(dataSt.get(\"longeo\"))\n",
    "    stLatgeo=np.float32(dataSt.get(\"latgeo\"))\n",
    "    stAlt=np.float32(dataSt.get(\"alt\"))\n",
    "    \n",
    "    currentDateMatlab = [currentDate.year, currentDate.month, currentDate.day, currentDate.hour, currentDate.minute, currentDate.second]\n",
    "    \n",
    "    b=eng.igrf(matlab.double([stLongeo]), matlab.double([stLatgeo]), matlab.double([stAlt]), matlab.double([currentDateMatlab]), nargout=4)\n",
    "    \n",
    "    ratio = (((math.sqrt(pow(x1, 2)+pow(y1, 2)+pow(z1, 2)))/b[3])-1)*100\n",
    "#     indicator = gaussian(ratio, 1, 0)\n",
    "    return np.round(x2,10)"
   ]
  },
  {
   "cell_type": "code",
   "execution_count": 10,
   "metadata": {},
   "outputs": [
    {
     "name": "stdout",
     "output_type": "stream",
     "text": [
      "CPU times: user 48.6 s, sys: 2.5 s, total: 51.1 s\n",
      "Wall time: 1min 14s\n"
     ]
    }
   ],
   "source": [
    "%%time\n",
    "stationIndicatorVariation.clear()\n",
    "numberOfMinutesNeededInTheTimeStamp = 1440\n",
    "timeBetweenValues = 8\n",
    "dataResolution = 0\n",
    "dataBeforeNormalizaton = np.array([])\n",
    "\n",
    "if 360%(numberOfMinutesNeededInTheTimeStamp/timeBetweenValues)==0:\n",
    "    dataResolution = 360/(numberOfMinutesNeededInTheTimeStamp/timeBetweenValues)\n",
    "    \n",
    "    for st in allStationCodes:\n",
    "        delta = endDate-startDate\n",
    "        totalMinutes = (delta.total_seconds()+1)/60\n",
    "        for i in range(0, np.int16(totalMinutes), timeBetweenValues):\n",
    "            try:\n",
    "                update = datetime.timedelta(minutes=i)\n",
    "                currentDate = startDate+update\n",
    "                stationIndicatorVariation[st].append(float(IndicatorCalculation(stationsOut.get(st), i, currentDate)))\n",
    "            except:\n",
    "                None\n",
    "            \n",
    "else:\n",
    "    print(\"!ERROR! -- Your timeBetweenValues must be a multiple of the chosen time delta's amount of minutes -- !ERROR!\")\n",
    "    sys.exit\n",
    "\n"
   ]
  },
  {
   "cell_type": "code",
   "execution_count": 11,
   "metadata": {},
   "outputs": [],
   "source": [
    "normalized01StationIndicatorVariation = defaultdict(list)\n",
    "\n",
    "def ManuallyNormalizeData01():\n",
    "\n",
    "    max_values = np.array([])\n",
    "    min_values = np.array([])\n",
    "    \n",
    "    for st in allStationCodes:\n",
    "        if stationIndicatorVariation[st]:\n",
    "            if not math.isnan(stationIndicatorVariation[st][0]):\n",
    "                max_values = np.append(max_values, max(stationIndicatorVariation[st])) \n",
    "                min_values = np.append(min_values, min(stationIndicatorVariation[st]))\n",
    "    \n",
    "    totalMax = max(max_values)\n",
    "    totalMin = min(min_values)\n",
    "    \n",
    "    for st in allStationCodes:\n",
    "        for i in range(0, len(stationIndicatorVariation[st])):\n",
    "            normalized01StationIndicatorVariation[st].append((stationIndicatorVariation[st][i] - totalMin) / (totalMax - totalMin))\n",
    "\n",
    "\n",
    "\n",
    "# NormalizeDataGauss()\n",
    "# NormalizeData01()\n",
    "ManuallyNormalizeData01()"
   ]
  },
  {
   "cell_type": "code",
   "execution_count": 13,
   "metadata": {},
   "outputs": [],
   "source": [
    "def indexValueOnLocalTime(array, st, i):\n",
    "    numberOfValuesLong = numberOfMinutesNeededInTheTimeStamp/timeBetweenValues\n",
    "    localTimeValuesArray = np.full((180, numberOfValuesLong), np.nan)\n",
    "    long = float(stationsOut[st].get(\"longeo\"))\n",
    "    shiftValues = np.round((long*4)/timeBetweenValues,0)\n",
    "    initialShiftValues = shiftValues\n",
    "    z=0\n",
    "    for y in range(numberOfValuesLong,array.shape[1]):\n",
    "        if y+shiftValues>=array.shape[1]:\n",
    "            localTimeValuesArray[i][np.int16(np.int16(y-(y-shiftValues+1)))] = array[i][numberOfValuesLong-z-1]\n",
    "            shiftValues-=1\n",
    "            z+=1\n",
    "        else:\n",
    "            localTimeValuesArray[i][np.int16(y+shiftValues)-numberOfValuesLong] = array[i][y]\n",
    "            \n",
    "    return localTimeValuesArray[i] "
   ]
  },
  {
   "cell_type": "code",
   "execution_count": 14,
   "metadata": {},
   "outputs": [],
   "source": [
    "indicatorVariationArray = np.full((180, (1440*numberOfDaysWithData)/timeBetweenValues), np.nan)\n",
    "indicatorVariationArrayLocalTime = np.full((180, numberOfMinutesNeededInTheTimeStamp/timeBetweenValues), np.nan)\n",
    "\n",
    "\n",
    "def makeIndicatorVariationArray(normalizedGauss, normalizedScaler):\n",
    "    for st in allStationCodes:\n",
    "#         st='aae'\n",
    "        for i in range(-90, 90):\n",
    "            if not isinstance(stationsOut[st], matlab.mlarray.double):\n",
    "                if i == np.round(np.int16(stationsOut[st].get(\"latgeo\")),0):\n",
    "#                     if st==\"aae\": print i+90\n",
    "#                     if i+90==138: print st\n",
    "#                     print(st)\n",
    "                    if normalizedScaler: \n",
    "                        indicatorVariationArray[i+90]=np.array(normalized01StationIndicatorVariation[st])\n",
    "                        indicatorVariationArrayLocalTime[i+90] = indexValueOnLocalTime(indicatorVariationArray, st, i+90)\n",
    "                        \n",
    "                    elif normalizedGauss: \n",
    "                        indicatorVariationArray[i+90]=AdaptDimensions(np.array(normalizedStationIndicatorVariation[st]), indicatorVariationArray.shape[1])\n",
    "                    else: \n",
    "                        indicatorVariationArray[i+90]=AdaptDimensions(np.array(stationIndicatorVariation[st]), indicatorVariationArray.shape[1])\n",
    "                else:\n",
    "                    None\n",
    "                    \n",
    "makeIndicatorVariationArray(False,True)"
   ]
  },
  {
   "cell_type": "code",
   "execution_count": 39,
   "metadata": {},
   "outputs": [
    {
     "name": "stdout",
     "output_type": "stream",
     "text": [
      "[0.29504001 0.29653252 0.2982249  0.3001138  0.30219772 0.3044726\n",
      " 0.30693676 0.30958657 0.31241902 0.31542986 0.3186142  0.32196819\n",
      " 0.32548764 0.32916749 0.33300205 0.33698669 0.34111602 0.34538421\n",
      " 0.34978533 0.35431278 0.35896096 0.36372258 0.36859171 0.37356143\n",
      " 0.37862464 0.38377362 0.38900228 0.39430238 0.39966663 0.40508831\n",
      " 0.41055896 0.41607108 0.42161707 0.42718904 0.43277921 0.43837956\n",
      " 0.44398222 0.44957943 0.45516359 0.46072682 0.46626128 0.47175919\n",
      " 0.47721255 0.48261384 0.48795566 0.49323096 0.49843212 0.5035518\n",
      " 0.50858318 0.51351881 0.51835241 0.52307677 0.52768575 0.53217355\n",
      " 0.53653356 0.54076028 0.54484862 0.54879199 0.55258593 0.55622502\n",
      " 0.55970563 0.56302223 0.56617195 0.56915019 0.57195293 0.57457631\n",
      " 0.57701756 0.57927471 0.58134308 0.58322036 0.58490569 0.58639655\n",
      " 0.58769113 0.58878943 0.5896897  0.5903902  0.59089123 0.59119225\n",
      " 0.59129408 0.5911959  0.59089878 0.59040432 0.58971448 0.58882855\n",
      " 0.58775032 0.58648178 0.58502468 0.58338275 0.58155789 0.5795532\n",
      " 0.57737334 0.57502133 0.57249977 0.56981502 0.56697178 0.56397266\n",
      " 0.56082313 0.55752958 0.55409631 0.55052941 0.54683382 0.54301594\n",
      " 0.53908099 0.53503527 0.53088413 0.52663457 0.52229322 0.51786594\n",
      " 0.51335921 0.50877943 0.50413332 0.49942713 0.49466787 0.48986191\n",
      " 0.48501581 0.48013597 0.47522975 0.4703037  0.46536437 0.46041873\n",
      " 0.4554731  0.45053431 0.44560894 0.44070346 0.43582411 0.43097733\n",
      " 0.42616915 0.4214056  0.41669286 0.41203637 0.40744185 0.40291537\n",
      " 0.39846183 0.39408631 0.38979458 0.38559107 0.38148057 0.3774681\n",
      " 0.37355742 0.36975307 0.36605906 0.36247919 0.35901678 0.35567551\n",
      " 0.3524592  0.34937065 0.34641261 0.3435879  0.34089916 0.33834797\n",
      " 0.33593716 0.3336681  0.33154331 0.32956337 0.32772932 0.32604257\n",
      " 0.32450467 0.32311539 0.32187598 0.32078541 0.31984453 0.31905329\n",
      " 0.31841146 0.31791833 0.31757252 0.31737448 0.3173228  0.3174154\n",
      " 0.31765135 0.31802947 0.31854763 0.31920407 0.31999597 0.3209231\n",
      " 0.32198205 0.3231696  0.32448464 0.32592461 0.32748548 0.32916599]\n"
     ]
    }
   ],
   "source": [
    "print indicatorVariationArrayLocalTime[99]"
   ]
  },
  {
   "cell_type": "code",
   "execution_count": 48,
   "metadata": {},
   "outputs": [],
   "source": [
    "X=np.array([])\n",
    "Y=np.array([])\n",
    "Z=np.array([])\n",
    "\n",
    "for t in range(0, indicatorVariationArrayLocalTime.shape[1]):\n",
    "    Y = np.append(Y, t)\n",
    "    for l in range(0, indicatorVariationArrayLocalTime.shape[0]):\n",
    "        X = np.append(X, l)\n",
    "        if not math.isnan(indicatorVariationArrayLocalTime[l][t]):\n",
    "            Z = np.append(Z, indicatorVariationArrayLocalTime[l][t])\n",
    "\n",
    "X=X.reshape(X.shape[0], 1)\n",
    "Y=Y.reshape(Y.shape[0], 1)\n",
    "Z=Z.reshape(Z.shape[0], 1)"
   ]
  },
  {
   "cell_type": "code",
   "execution_count": 49,
   "metadata": {},
   "outputs": [
    {
     "name": "stdout",
     "output_type": "stream",
     "text": [
      "((32400, 1), (180, 1), (12420, 1))\n"
     ]
    }
   ],
   "source": [
    "value = 50\n",
    "print(X.shape,Y.shape,Z.shape)"
   ]
  },
  {
   "cell_type": "code",
   "execution_count": 50,
   "metadata": {},
   "outputs": [
    {
     "ename": "ValueError",
     "evalue": "shape mismatch: objects cannot be broadcast to a single shape",
     "output_type": "error",
     "traceback": [
      "\u001b[0;31m\u001b[0m",
      "\u001b[0;31mValueError\u001b[0mTraceback (most recent call last)",
      "\u001b[0;32m<ipython-input-50-d6426049f790>\u001b[0m in \u001b[0;36m<module>\u001b[0;34m()\u001b[0m\n\u001b[1;32m      3\u001b[0m \u001b[0mfig\u001b[0m \u001b[0;34m=\u001b[0m \u001b[0mplt\u001b[0m\u001b[0;34m.\u001b[0m\u001b[0mfigure\u001b[0m\u001b[0;34m(\u001b[0m\u001b[0;34m)\u001b[0m\u001b[0;34m\u001b[0m\u001b[0m\n\u001b[1;32m      4\u001b[0m \u001b[0max\u001b[0m \u001b[0;34m=\u001b[0m \u001b[0mfig\u001b[0m\u001b[0;34m.\u001b[0m\u001b[0madd_subplot\u001b[0m\u001b[0;34m(\u001b[0m\u001b[0;36m111\u001b[0m\u001b[0;34m,\u001b[0m \u001b[0mprojection\u001b[0m\u001b[0;34m=\u001b[0m\u001b[0;34m'3d'\u001b[0m\u001b[0;34m)\u001b[0m\u001b[0;34m\u001b[0m\u001b[0m\n\u001b[0;32m----> 5\u001b[0;31m \u001b[0mdem3d\u001b[0m\u001b[0;34m=\u001b[0m\u001b[0max\u001b[0m\u001b[0;34m.\u001b[0m\u001b[0mplot_surface\u001b[0m\u001b[0;34m(\u001b[0m\u001b[0mX\u001b[0m\u001b[0;34m,\u001b[0m\u001b[0mY\u001b[0m\u001b[0;34m,\u001b[0m\u001b[0mZ\u001b[0m\u001b[0;34m,\u001b[0m\u001b[0mcmap\u001b[0m\u001b[0;34m=\u001b[0m\u001b[0;34m'afmhot'\u001b[0m\u001b[0;34m,\u001b[0m \u001b[0mlinewidth\u001b[0m\u001b[0;34m=\u001b[0m\u001b[0;36m0\u001b[0m\u001b[0;34m)\u001b[0m\u001b[0;34m\u001b[0m\u001b[0m\n\u001b[0m\u001b[1;32m      6\u001b[0m \u001b[0mplt\u001b[0m\u001b[0;34m.\u001b[0m\u001b[0mshow\u001b[0m\u001b[0;34m(\u001b[0m\u001b[0;34m)\u001b[0m\u001b[0;34m\u001b[0m\u001b[0m\n",
      "\u001b[0;32m/home/cristille/anaconda3/envs/py27/lib/python2.7/site-packages/mpl_toolkits/mplot3d/axes3d.pyc\u001b[0m in \u001b[0;36mplot_surface\u001b[0;34m(self, X, Y, Z, *args, **kwargs)\u001b[0m\n\u001b[1;32m   1636\u001b[0m             \u001b[0;32mraise\u001b[0m \u001b[0mValueError\u001b[0m\u001b[0;34m(\u001b[0m\u001b[0;34m\"Argument Z must be 2-dimensional.\"\u001b[0m\u001b[0;34m)\u001b[0m\u001b[0;34m\u001b[0m\u001b[0m\n\u001b[1;32m   1637\u001b[0m         \u001b[0;31m# TODO: Support masked arrays\u001b[0m\u001b[0;34m\u001b[0m\u001b[0;34m\u001b[0m\u001b[0m\n\u001b[0;32m-> 1638\u001b[0;31m         \u001b[0mX\u001b[0m\u001b[0;34m,\u001b[0m \u001b[0mY\u001b[0m\u001b[0;34m,\u001b[0m \u001b[0mZ\u001b[0m \u001b[0;34m=\u001b[0m \u001b[0mnp\u001b[0m\u001b[0;34m.\u001b[0m\u001b[0mbroadcast_arrays\u001b[0m\u001b[0;34m(\u001b[0m\u001b[0mX\u001b[0m\u001b[0;34m,\u001b[0m \u001b[0mY\u001b[0m\u001b[0;34m,\u001b[0m \u001b[0mZ\u001b[0m\u001b[0;34m)\u001b[0m\u001b[0;34m\u001b[0m\u001b[0m\n\u001b[0m\u001b[1;32m   1639\u001b[0m         \u001b[0mrows\u001b[0m\u001b[0;34m,\u001b[0m \u001b[0mcols\u001b[0m \u001b[0;34m=\u001b[0m \u001b[0mZ\u001b[0m\u001b[0;34m.\u001b[0m\u001b[0mshape\u001b[0m\u001b[0;34m\u001b[0m\u001b[0m\n\u001b[1;32m   1640\u001b[0m \u001b[0;34m\u001b[0m\u001b[0m\n",
      "\u001b[0;32m/home/cristille/anaconda3/envs/py27/lib/python2.7/site-packages/numpy/lib/stride_tricks.pyc\u001b[0m in \u001b[0;36mbroadcast_arrays\u001b[0;34m(*args, **kwargs)\u001b[0m\n\u001b[1;32m    257\u001b[0m     \u001b[0margs\u001b[0m \u001b[0;34m=\u001b[0m \u001b[0;34m[\u001b[0m\u001b[0mnp\u001b[0m\u001b[0;34m.\u001b[0m\u001b[0marray\u001b[0m\u001b[0;34m(\u001b[0m\u001b[0m_m\u001b[0m\u001b[0;34m,\u001b[0m \u001b[0mcopy\u001b[0m\u001b[0;34m=\u001b[0m\u001b[0mFalse\u001b[0m\u001b[0;34m,\u001b[0m \u001b[0msubok\u001b[0m\u001b[0;34m=\u001b[0m\u001b[0msubok\u001b[0m\u001b[0;34m)\u001b[0m \u001b[0;32mfor\u001b[0m \u001b[0m_m\u001b[0m \u001b[0;32min\u001b[0m \u001b[0margs\u001b[0m\u001b[0;34m]\u001b[0m\u001b[0;34m\u001b[0m\u001b[0m\n\u001b[1;32m    258\u001b[0m \u001b[0;34m\u001b[0m\u001b[0m\n\u001b[0;32m--> 259\u001b[0;31m     \u001b[0mshape\u001b[0m \u001b[0;34m=\u001b[0m \u001b[0m_broadcast_shape\u001b[0m\u001b[0;34m(\u001b[0m\u001b[0;34m*\u001b[0m\u001b[0margs\u001b[0m\u001b[0;34m)\u001b[0m\u001b[0;34m\u001b[0m\u001b[0m\n\u001b[0m\u001b[1;32m    260\u001b[0m \u001b[0;34m\u001b[0m\u001b[0m\n\u001b[1;32m    261\u001b[0m     \u001b[0;32mif\u001b[0m \u001b[0mall\u001b[0m\u001b[0;34m(\u001b[0m\u001b[0marray\u001b[0m\u001b[0;34m.\u001b[0m\u001b[0mshape\u001b[0m \u001b[0;34m==\u001b[0m \u001b[0mshape\u001b[0m \u001b[0;32mfor\u001b[0m \u001b[0marray\u001b[0m \u001b[0;32min\u001b[0m \u001b[0margs\u001b[0m\u001b[0;34m)\u001b[0m\u001b[0;34m:\u001b[0m\u001b[0;34m\u001b[0m\u001b[0m\n",
      "\u001b[0;32m/home/cristille/anaconda3/envs/py27/lib/python2.7/site-packages/numpy/lib/stride_tricks.pyc\u001b[0m in \u001b[0;36m_broadcast_shape\u001b[0;34m(*args)\u001b[0m\n\u001b[1;32m    191\u001b[0m     \u001b[0;31m# use the old-iterator because np.nditer does not handle size 0 arrays\u001b[0m\u001b[0;34m\u001b[0m\u001b[0;34m\u001b[0m\u001b[0m\n\u001b[1;32m    192\u001b[0m     \u001b[0;31m# consistently\u001b[0m\u001b[0;34m\u001b[0m\u001b[0;34m\u001b[0m\u001b[0m\n\u001b[0;32m--> 193\u001b[0;31m     \u001b[0mb\u001b[0m \u001b[0;34m=\u001b[0m \u001b[0mnp\u001b[0m\u001b[0;34m.\u001b[0m\u001b[0mbroadcast\u001b[0m\u001b[0;34m(\u001b[0m\u001b[0;34m*\u001b[0m\u001b[0margs\u001b[0m\u001b[0;34m[\u001b[0m\u001b[0;34m:\u001b[0m\u001b[0;36m32\u001b[0m\u001b[0;34m]\u001b[0m\u001b[0;34m)\u001b[0m\u001b[0;34m\u001b[0m\u001b[0m\n\u001b[0m\u001b[1;32m    194\u001b[0m     \u001b[0;31m# unfortunately, it cannot handle 32 or more arguments directly\u001b[0m\u001b[0;34m\u001b[0m\u001b[0;34m\u001b[0m\u001b[0m\n\u001b[1;32m    195\u001b[0m     \u001b[0;32mfor\u001b[0m \u001b[0mpos\u001b[0m \u001b[0;32min\u001b[0m \u001b[0mrange\u001b[0m\u001b[0;34m(\u001b[0m\u001b[0;36m32\u001b[0m\u001b[0;34m,\u001b[0m \u001b[0mlen\u001b[0m\u001b[0;34m(\u001b[0m\u001b[0margs\u001b[0m\u001b[0;34m)\u001b[0m\u001b[0;34m,\u001b[0m \u001b[0;36m31\u001b[0m\u001b[0;34m)\u001b[0m\u001b[0;34m:\u001b[0m\u001b[0;34m\u001b[0m\u001b[0m\n",
      "\u001b[0;31mValueError\u001b[0m: shape mismatch: objects cannot be broadcast to a single shape"
     ]
    },
    {
     "data": {
      "image/png": "[encoded data removed]",
      "text/plain": [
       "<Figure size 432x288 with 1 Axes>"
      ]
     },
     "metadata": {
      "needs_background": "light"
     },
     "output_type": "display_data"
    }
   ],
   "source": [
    "from mpl_toolkits.mplot3d import Axes3D\n",
    "\n",
    "fig = plt.figure()\n",
    "ax = fig.add_subplot(111, projection='3d')\n",
    "dem3d=ax.plot_surface(X,Y,Z,cmap='afmhot', linewidth=0)\n",
    "plt.show()\n"
   ]
  },
  {
   "cell_type": "code",
   "execution_count": null,
   "metadata": {},
   "outputs": [],
   "source": []
  }
 ],
 "metadata": {
  "kernelspec": {
   "display_name": "Python 2.7 matlab",
   "language": "python",
   "name": "dlwp"
  },
  "language_info": {
   "codemirror_mode": {
    "name": "ipython",
    "version": 2
   },
   "file_extension": ".py",
   "mimetype": "text/x-python",
   "name": "python",
   "nbconvert_exporter": "python",
   "pygments_lexer": "ipython2",
   "version": "2.7.15"
  }
 },
 "nbformat": 4,
 "nbformat_minor": 4
}
