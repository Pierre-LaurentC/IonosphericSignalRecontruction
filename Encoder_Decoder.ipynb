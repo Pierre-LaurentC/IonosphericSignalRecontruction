{
 "cells": [
  {
   "cell_type": "markdown",
   "metadata": {},
   "source": [
    "autoencoder: https://towardsdatascience.com/applied-deep-learning-part-3-autoencoders-1c083af4d798 \\\n",
    "autoencoder: https://github.com/ardendertat/Applied-Deep-Learning-with-Keras/blob/master/notebooks/Part%203%20-%20Autoencoders.ipynb \\\n",
    "Unet: https://towardsdatascience.com/unet-line-by-line-explanation-9b191c76baf5 \\\n",
    "Convolutional autoencoder maths: https://pgaleone.eu/neural-networks/2016/11/24/convolutional-autoencoders/ \\\n",
    "Convolutional autoencoder code: https://blog.keras.io/building-autoencoders-in-keras.html"
   ]
  },
  {
   "cell_type": "code",
   "execution_count": 6,
   "metadata": {},
   "outputs": [],
   "source": [
    "import matplotlib.pyplot as plt\n",
    "import pandas as pd\n",
    "import numpy as np\n",
    "import keras\n",
    "import os, os.path\n",
    "from keras import layers\n",
    "from keras.models import Model\n",
    "from keras.layers import Dense, Input\n",
    "from keras.datasets import mnist\n",
    "from keras.optimizers import Adam\n",
    "from keras.callbacks import TensorBoard\n",
    "from IPython.display import clear_output"
   ]
  },
  {
   "cell_type": "code",
   "execution_count": 7,
   "metadata": {},
   "outputs": [],
   "source": [
    "#SIMPLE AUTOENCODER"
   ]
  },
  {
   "cell_type": "code",
   "execution_count": 110,
   "metadata": {},
   "outputs": [],
   "source": [
    "numberOfFiles=0\n",
    "try: \n",
    "    filesXtrain = os.listdir('../TrainingDataset/x_train/'); \n",
    "    filesXtrainLines = os.listdir('../TrainingDataset/x_train_lines/'); \n",
    "    if len(filesXtrain)>len(filesXtrainLines): \n",
    "        numberOfFiles=len(filesXtrainLines); \n",
    "    else: numberOfFiles=len(filesXtrain)   \n",
    "except: None\n",
    "numberOfFiles-=1\n",
    "testingSetSize = 20\n",
    "mx_train_lines = np.zeros((numberOfFiles-testingSetSize,20,144))\n",
    "mx_train = np.zeros((numberOfFiles-testingSetSize,20,144))\n",
    "mx_test_lines = np.zeros((testingSetSize,20,144))\n",
    "mx_test = np.zeros((testingSetSize,20,144))\n",
    "\n",
    "for i in range(0,numberOfFiles-testingSetSize):\n",
    "    mx_train_lines[i] = np.load('../TrainingDataset/x_train_lines/indicatorVariationArrayLocalTime{}.npy'.format(i))\n",
    "    mx_train[i] = np.load('../TrainingDataset/x_train/indicatorVariationArrayLocalTime{}.npy'.format(i))\n",
    "for i in range(numberOfFiles-testingSetSize,numberOfFiles):\n",
    "    mx_test_lines[i-(numberOfFiles-testingSetSize)-1] = np.load('../TrainingDataset/x_train_lines/indicatorVariationArrayLocalTime{}.npy'.format(i))\n",
    "    mx_test[i-(numberOfFiles-testingSetSize)-1] = np.load('../TrainingDataset/x_train/indicatorVariationArrayLocalTime{}.npy'.format(i))\n",
    "\n",
    "\n",
    "# for i in range(0,90):\n",
    "#     mx_train_lines[i] = np.load('../../../../media/cristille/PL_EXTHD1/IRAP/Training_Dataset/x_train_lines/indicatorVariationArrayLocalTime{}.npy'.format(i))\n",
    "#     mx_train[i] = np.load('../../../../media/cristille/PL_EXTHD1/IRAP/Training_Dataset/x_train/indicatorVariationArrayLocalTime{}.npy'.format(i))\n",
    "\n",
    "# for i in range(90,100):\n",
    "#     mx_test_lines[i-90] = np.load('../../../../media/cristille/PL_EXTHD1/IRAP/Training_Dataset/x_train_lines/indicatorVariationArrayLocalTime{}.npy'.format(i))\n",
    "#     mx_test[i-90] = np.load('../../../../media/cristille/PL_EXTHD1/IRAP/Training_Dataset/x_train/indicatorVariationArrayLocalTime{}.npy'.format(i))\n",
    "\n",
    "mx_train_lines=np.nan_to_num(mx_train_lines)\n",
    "mx_train=np.nan_to_num(mx_train)\n",
    "mx_test_lines=np.nan_to_num(mx_test_lines)\n",
    "mx_test=np.nan_to_num(mx_test)\n",
    "# mx_train = mx_train.reshape((len(mx_train), np.prod(mx_train.shape[1:])))\n",
    "# mx_train_lines = mx_train_lines.reshape((len(mx_train_lines), np.prod(mx_train_lines.shape[1:])))"
   ]
  },
  {
   "cell_type": "code",
   "execution_count": 56,
   "metadata": {},
   "outputs": [],
   "source": [
    "def makeLines(array):\n",
    "    lineStart=5\n",
    "    lineEnd=10\n",
    "    arrayLines=np.empty_like(array)\n",
    "    for i in range(lineStart, lineEnd):\n",
    "        arrayLines[i] = np.zeros_like(array.shape[1])\n",
    "    return arrayLines"
   ]
  },
  {
   "cell_type": "code",
   "execution_count": 111,
   "metadata": {},
   "outputs": [
    {
     "data": {
      "text/plain": [
       "<matplotlib.image.AxesImage at 0x7fd0135697d0>"
      ]
     },
     "execution_count": 111,
     "metadata": {},
     "output_type": "execute_result"
    },
    {
     "data": {
      "image/png": "[encoded data removed]",
      "text/plain": [
       "<Figure size 2160x288 with 1 Axes>"
      ]
     },
     "metadata": {
      "needs_background": "light"
     },
     "output_type": "display_data"
    }
   ],
   "source": [
    "fig= plt.figure(figsize=(30,4))\n",
    "plt.imshow(mx_train_lines[50], origin='lower', cmap=plt.get_cmap('jet', 20) , aspect='auto')"
   ]
  },
  {
   "cell_type": "code",
   "execution_count": 112,
   "metadata": {},
   "outputs": [
    {
     "data": {
      "text/plain": [
       "<matplotlib.image.AxesImage at 0x7fd0135148d0>"
      ]
     },
     "execution_count": 112,
     "metadata": {},
     "output_type": "execute_result"
    },
    {
     "data": {
      "image/png": "[encoded data removed]",
      "text/plain": [
       "<Figure size 2160x288 with 1 Axes>"
      ]
     },
     "metadata": {
      "needs_background": "light"
     },
     "output_type": "display_data"
    }
   ],
   "source": [
    "fig= plt.figure(figsize=(30,4))\n",
    "plt.imshow(mx_train[50], origin='lower', cmap=plt.get_cmap('jet', 20) , aspect='auto')"
   ]
  },
  {
   "cell_type": "code",
   "execution_count": 96,
   "metadata": {},
   "outputs": [
    {
     "name": "stdout",
     "output_type": "stream",
     "text": [
      "Epoch 1/50\n",
      "313/313 [==============================] - 1s 3ms/step - loss: 0.6905\n",
      "Epoch 2/50\n",
      "313/313 [==============================] - 1s 3ms/step - loss: 0.6847\n",
      "Epoch 3/50\n",
      "313/313 [==============================] - 1s 3ms/step - loss: 0.6823\n",
      "Epoch 4/50\n",
      "313/313 [==============================] - 1s 3ms/step - loss: 0.6816\n",
      "Epoch 5/50\n",
      "313/313 [==============================] - 1s 3ms/step - loss: 0.6807\n",
      "Epoch 6/50\n",
      "313/313 [==============================] - 1s 3ms/step - loss: 0.6790\n",
      "Epoch 7/50\n",
      "313/313 [==============================] - 1s 3ms/step - loss: 0.6785\n",
      "Epoch 8/50\n",
      "313/313 [==============================] - 1s 3ms/step - loss: 0.6726\n",
      "Epoch 9/50\n",
      "313/313 [==============================] - 1s 3ms/step - loss: 0.6662\n",
      "Epoch 10/50\n",
      "313/313 [==============================] - 1s 3ms/step - loss: 0.6036\n",
      "Epoch 11/50\n",
      "313/313 [==============================] - 1s 3ms/step - loss: 0.4325\n",
      "Epoch 12/50\n",
      "313/313 [==============================] - 1s 3ms/step - loss: -0.7276\n",
      "Epoch 13/50\n",
      "313/313 [==============================] - 1s 3ms/step - loss: -2.1454\n",
      "Epoch 14/50\n",
      "313/313 [==============================] - 1s 3ms/step - loss: -8.7253\n",
      "Epoch 15/50\n",
      "313/313 [==============================] - 1s 3ms/step - loss: -12.1194\n",
      "Epoch 16/50\n",
      "313/313 [==============================] - 1s 3ms/step - loss: -38.9287\n",
      "Epoch 17/50\n",
      "313/313 [==============================] - 1s 3ms/step - loss: -77.1728\n",
      "Epoch 18/50\n",
      "313/313 [==============================] - 1s 3ms/step - loss: -167.6616\n",
      "Epoch 19/50\n",
      "313/313 [==============================] - 1s 3ms/step - loss: -354.6580\n",
      "Epoch 20/50\n",
      "313/313 [==============================] - 1s 3ms/step - loss: -551.5617\n",
      "Epoch 21/50\n",
      "313/313 [==============================] - 1s 3ms/step - loss: -1019.9997\n",
      "Epoch 22/50\n",
      "313/313 [==============================] - 1s 3ms/step - loss: -1577.6205\n",
      "Epoch 23/50\n",
      "313/313 [==============================] - 1s 3ms/step - loss: -2611.7094\n",
      "Epoch 24/50\n",
      "313/313 [==============================] - 1s 3ms/step - loss: -4297.0391\n",
      "Epoch 25/50\n",
      "313/313 [==============================] - 1s 3ms/step - loss: -6214.9399\n",
      "Epoch 26/50\n",
      "313/313 [==============================] - 1s 3ms/step - loss: -9526.9337\n",
      "Epoch 27/50\n",
      "313/313 [==============================] - 1s 3ms/step - loss: -15712.2003\n",
      "Epoch 28/50\n",
      "313/313 [==============================] - 1s 3ms/step - loss: -22016.5463\n",
      "Epoch 29/50\n",
      "313/313 [==============================] - 1s 3ms/step - loss: -27103.3535\n",
      "Epoch 30/50\n",
      "313/313 [==============================] - 1s 3ms/step - loss: -43420.4574\n",
      "Epoch 31/50\n",
      "313/313 [==============================] - 1s 3ms/step - loss: -53807.4497\n",
      "Epoch 32/50\n",
      "313/313 [==============================] - 1s 3ms/step - loss: -81909.8850\n",
      "Epoch 33/50\n",
      "313/313 [==============================] - 1s 3ms/step - loss: -113387.2310\n",
      "Epoch 34/50\n",
      "313/313 [==============================] - 1s 3ms/step - loss: -148998.6431\n",
      "Epoch 35/50\n",
      "313/313 [==============================] - 1s 3ms/step - loss: -163978.8088\n",
      "Epoch 36/50\n",
      "313/313 [==============================] - 1s 3ms/step - loss: -226939.1907\n",
      "Epoch 37/50\n",
      "313/313 [==============================] - 1s 3ms/step - loss: -308604.7242\n",
      "Epoch 38/50\n",
      "313/313 [==============================] - 1s 3ms/step - loss: -365433.4967\n",
      "Epoch 39/50\n",
      "313/313 [==============================] - 1s 3ms/step - loss: -454366.0023\n",
      "Epoch 40/50\n",
      "313/313 [==============================] - 1s 3ms/step - loss: -555442.2453\n",
      "Epoch 41/50\n",
      "313/313 [==============================] - 1s 3ms/step - loss: -751300.9032\n",
      "Epoch 42/50\n",
      "313/313 [==============================] - 1s 3ms/step - loss: -818913.9515\n",
      "Epoch 43/50\n",
      "313/313 [==============================] - 1s 3ms/step - loss: -1001731.7762\n",
      "Epoch 44/50\n",
      "313/313 [==============================] - 1s 3ms/step - loss: -1165295.9334\n",
      "Epoch 45/50\n",
      "313/313 [==============================] - 1s 3ms/step - loss: -1539659.3557\n",
      "Epoch 46/50\n",
      "313/313 [==============================] - 1s 3ms/step - loss: -1909232.0477\n",
      "Epoch 47/50\n",
      "313/313 [==============================] - 1s 3ms/step - loss: -2151412.7505\n",
      "Epoch 48/50\n",
      "313/313 [==============================] - 1s 3ms/step - loss: -2634456.7600\n",
      "Epoch 49/50\n",
      "313/313 [==============================] - 1s 3ms/step - loss: -2961107.0125\n",
      "Epoch 50/50\n",
      "313/313 [==============================] - 1s 3ms/step - loss: -3786333.0316\n"
     ]
    },
    {
     "data": {
      "text/plain": [
       "<keras.callbacks.callbacks.History at 0x7fd013d34e50>"
      ]
     },
     "execution_count": 96,
     "metadata": {},
     "output_type": "execute_result"
    }
   ],
   "source": [
    "input_size = 2880\n",
    "hidden_size = 1440\n",
    "hidden2_size = 720\n",
    "code_size = 32\n",
    "\n",
    "input_img = Input(shape=(2880,))\n",
    "x = Dense(hidden_size, activation='relu')(input_img)\n",
    "x = Dense(hidden2_size, activation='relu')(x)\n",
    "code = Dense(code_size, activation='relu')(x)\n",
    "x = Dense(hidden2_size, activation='relu')(code)\n",
    "x = Dense(hidden_size, activation='relu')(x)\n",
    "output_img = Dense(input_size, activation='sigmoid')(x)\n",
    "\n",
    "autoencoder = Model(input_img, output_img)\n",
    "autoencoder.compile(optimizer='adam', loss='binary_crossentropy')\n",
    "autoencoder.fit(mx_train_lines, mx_train, epochs=10)"
   ]
  },
  {
   "cell_type": "code",
   "execution_count": 105,
   "metadata": {},
   "outputs": [],
   "source": [
    "testMatrixNumber=8"
   ]
  },
  {
   "cell_type": "code",
   "execution_count": 106,
   "metadata": {},
   "outputs": [
    {
     "data": {
      "text/plain": [
       "<matplotlib.image.AxesImage at 0x7fd01376add0>"
      ]
     },
     "execution_count": 106,
     "metadata": {},
     "output_type": "execute_result"
    },
    {
     "data": {
      "image/png": "[encoded data removed]",
      "text/plain": [
       "<Figure size 2160x288 with 1 Axes>"
      ]
     },
     "metadata": {
      "needs_background": "light"
     },
     "output_type": "display_data"
    }
   ],
   "source": [
    "fig= plt.figure(figsize=(30,4))\n",
    "plt.imshow(mx_test[testMatrixNumber].reshape(20,144), origin='lower', cmap=plt.get_cmap('jet', 20) , aspect='auto')"
   ]
  },
  {
   "cell_type": "code",
   "execution_count": 107,
   "metadata": {},
   "outputs": [
    {
     "data": {
      "text/plain": [
       "<matplotlib.image.AxesImage at 0x7fd0136f1090>"
      ]
     },
     "execution_count": 107,
     "metadata": {},
     "output_type": "execute_result"
    },
    {
     "data": {
      "image/png": "[encoded data removed]",
      "text/plain": [
       "<Figure size 2160x288 with 1 Axes>"
      ]
     },
     "metadata": {
      "needs_background": "light"
     },
     "output_type": "display_data"
    }
   ],
   "source": [
    "fig= plt.figure(figsize=(30,4))\n",
    "plt.imshow(autoencoder.predict(mx_test_lines[testMatrixNumber].reshape(1,-1)).reshape(20,144), origin='lower', cmap=plt.get_cmap('jet', 20) , aspect='auto')"
   ]
  },
  {
   "cell_type": "code",
   "execution_count": 189,
   "metadata": {},
   "outputs": [],
   "source": [
    "mx_train_lines = np.squeeze(mx_train_lines,3)\n",
    "mx_train = np.squeeze(mx_train,3)"
   ]
  },
  {
   "cell_type": "code",
   "execution_count": 243,
   "metadata": {},
   "outputs": [],
   "source": [
    "#CONVOLUTIONAL AUTOENCODER\n",
    "\n",
    "input_img = keras.Input(shape=(20, 144, 1))\n",
    "\n",
    "x = layers.Conv2D(256, (3, 3), activation='relu', padding='same')(input_img)\n",
    "x = layers.MaxPooling2D((2, 2), padding='same')(x)\n",
    "x = layers.Conv2D(128, (3, 3), activation='relu', padding='same')(x)\n",
    "x = layers.MaxPooling2D((2, 2), padding='same')(x)\n",
    "x = layers.Conv2D(64, (3, 3), activation='relu', padding='same')(x)\n",
    "encoded = layers.MaxPooling2D((2, 2), padding='same')(x)\n",
    "\n",
    "x = layers.Conv2D(64, (3, 3), activation='relu', padding='same')(encoded)\n",
    "x = layers.UpSampling2D((2, 2))(x)\n",
    "x = layers.Conv2D(128, (3, 3), activation='relu', padding='same')(x)\n",
    "x = layers.UpSampling2D((2, 2))(x)\n",
    "x = layers.Conv2D(256, (3, 1), activation='relu')(x)\n",
    "x = layers.UpSampling2D((2, 2))(x)\n",
    "decoded = layers.Conv2D(1, (3, 3), activation='sigmoid', padding='same')(x)\n",
    "\n",
    "convolutional_autoencoder = keras.Model(input_img, decoded)\n",
    "convolutional_autoencoder.compile(optimizer='adam', loss='binary_crossentropy')"
   ]
  },
  {
   "cell_type": "code",
   "execution_count": 244,
   "metadata": {},
   "outputs": [
    {
     "name": "stdout",
     "output_type": "stream",
     "text": [
      "Epoch 1/10\n",
      "313/313 [==============================] - 13s 40ms/step - loss: 0.6913\n",
      "Epoch 2/10\n",
      "313/313 [==============================] - 8s 25ms/step - loss: 0.6904\n",
      "Epoch 3/10\n",
      "313/313 [==============================] - 8s 25ms/step - loss: 0.6874\n",
      "Epoch 4/10\n",
      "313/313 [==============================] - 8s 25ms/step - loss: 0.6759\n",
      "Epoch 5/10\n",
      "313/313 [==============================] - 8s 25ms/step - loss: 0.6678\n",
      "Epoch 6/10\n",
      "313/313 [==============================] - 8s 25ms/step - loss: 0.6647\n",
      "Epoch 7/10\n",
      "313/313 [==============================] - 8s 25ms/step - loss: 0.6594\n",
      "Epoch 8/10\n",
      "313/313 [==============================] - 8s 25ms/step - loss: 0.6473\n",
      "Epoch 9/10\n",
      "313/313 [==============================] - 8s 25ms/step - loss: 0.6033\n",
      "Epoch 10/10\n",
      "313/313 [==============================] - 8s 25ms/step - loss: 0.4017\n"
     ]
    },
    {
     "data": {
      "text/plain": [
       "<keras.callbacks.callbacks.History at 0x7fd00611ff50>"
      ]
     },
     "execution_count": 244,
     "metadata": {},
     "output_type": "execute_result"
    }
   ],
   "source": [
    "convolutional_autoencoder._get_distribution_strategy = lambda: None\n",
    "convolutional_autoencoder.fit(mx_train_lines, mx_train, epochs=10, batch_size=50, shuffle=True)"
   ]
  },
  {
   "cell_type": "code",
   "execution_count": 250,
   "metadata": {},
   "outputs": [
    {
     "data": {
      "image/png": "[encoded data removed]",
      "text/plain": [
       "<Figure size 2160x288 with 1 Axes>"
      ]
     },
     "metadata": {
      "needs_background": "light"
     },
     "output_type": "display_data"
    },
    {
     "name": "stderr",
     "output_type": "stream",
     "text": [
      "/home/cristille/anaconda3/envs/py27/lib/python2.7/site-packages/ipykernel_launcher.py:6: DeprecationWarning: Both axis > a.ndim and axis < -a.ndim - 1 are deprecated and will raise an AxisError in the future.\n",
      "  \n"
     ]
    },
    {
     "data": {
      "image/png": "[encoded data removed]",
      "text/plain": [
       "<Figure size 2160x288 with 1 Axes>"
      ]
     },
     "metadata": {
      "needs_background": "light"
     },
     "output_type": "display_data"
    }
   ],
   "source": [
    "testMatrixNumber=13\n",
    "fig= plt.figure(figsize=(30,4))\n",
    "plt.imshow(mx_test[testMatrixNumber], origin='lower', cmap=plt.get_cmap('jet', 20) , aspect='auto')\n",
    "plt.show()\n",
    "fig= plt.figure(figsize=(30,4))\n",
    "plt.imshow(convolutional_autoencoder.predict(np.expand_dims(np.expand_dims(mx_test_lines[testMatrixNumber], 3), 0)).reshape(20,144), origin='lower', cmap=plt.get_cmap('jet', 20) , aspect='auto')\n",
    "plt.show()"
   ]
  },
  {
   "cell_type": "code",
   "execution_count": null,
   "metadata": {},
   "outputs": [],
   "source": []
  }
 ],
 "metadata": {
  "kernelspec": {
   "display_name": "Python 2.7 matlab",
   "language": "python",
   "name": "dlwp"
  },
  "language_info": {
   "codemirror_mode": {
    "name": "ipython",
    "version": 2
   },
   "file_extension": ".py",
   "mimetype": "text/x-python",
   "name": "python",
   "nbconvert_exporter": "python",
   "pygments_lexer": "ipython2",
   "version": "2.7.15"
  }
 },
 "nbformat": 4,
 "nbformat_minor": 4
}
