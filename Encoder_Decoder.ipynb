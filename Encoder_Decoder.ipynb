{
 "cells": [
  {
   "cell_type": "markdown",
   "metadata": {},
   "source": [
    "autoencoder: https://towardsdatascience.com/applied-deep-learning-part-3-autoencoders-1c083af4d798 \\\n",
    "autoencoder: https://github.com/ardendertat/Applied-Deep-Learning-with-Keras/blob/master/notebooks/Part%203%20-%20Autoencoders.ipynb \\\n",
    "Unet: https://towardsdatascience.com/unet-line-by-line-explanation-9b191c76baf5 \\\n",
    "Convolutional autoencoder maths: https://pgaleone.eu/neural-networks/2016/11/24/convolutional-autoencoders/ \\\n",
    "Convolutional autoencoder code: https://blog.keras.io/building-autoencoders-in-keras.html"
   ]
  },
  {
   "cell_type": "code",
   "execution_count": 1,
   "metadata": {},
   "outputs": [
    {
     "name": "stderr",
     "output_type": "stream",
     "text": [
      "Using TensorFlow backend.\n"
     ]
    }
   ],
   "source": [
    "import matplotlib.pyplot as plt\n",
    "import pandas as pd\n",
    "import numpy as np\n",
    "import keras\n",
    "from keras import layers\n",
    "from keras.models import Model\n",
    "from keras.layers import Dense, Input\n",
    "from keras.datasets import mnist\n",
    "from keras.optimizers import Adam\n",
    "from keras.callbacks import TensorBoard\n",
    "from IPython.display import clear_output"
   ]
  },
  {
   "cell_type": "code",
   "execution_count": 92,
   "metadata": {},
   "outputs": [],
   "source": [
    "#SIMPLE AUTOENCODER"
   ]
  },
  {
   "cell_type": "code",
   "execution_count": 97,
   "metadata": {},
   "outputs": [],
   "source": [
    "mx_train_lines = np.zeros((90,20,144))\n",
    "mx_train = np.zeros((90,20,144))\n",
    "mx_test_lines = np.zeros((10,20,144))\n",
    "mx_test = np.zeros((10,20,144))\n",
    "\n",
    "for i in range(0,90):\n",
    "    mx_train_lines[i] = np.load('../../../../media/cristille/PL_EXTHD1/IRAP/Training_Dataset/x_train_lines/indicatorVariationArrayLocalTime{}.npy'.format(i))\n",
    "    mx_train[i] = np.load('../../../../media/cristille/PL_EXTHD1/IRAP/Training_Dataset/x_train/indicatorVariationArrayLocalTime{}.npy'.format(i))\n",
    "\n",
    "for i in range(90,100):\n",
    "    mx_test_lines[i-90] = np.load('../../../../media/cristille/PL_EXTHD1/IRAP/Training_Dataset/x_train_lines/indicatorVariationArrayLocalTime{}.npy'.format(i))\n",
    "    mx_test[i-90] = np.load('../../../../media/cristille/PL_EXTHD1/IRAP/Training_Dataset/x_train/indicatorVariationArrayLocalTime{}.npy'.format(i))\n",
    "\n",
    "mx_train_lines=np.nan_to_num(mx_train_lines)\n",
    "mx_train=np.nan_to_num(mx_train)\n",
    "mx_test_lines=np.nan_to_num(mx_test_lines)\n",
    "mx_test=np.nan_to_num(mx_test)\n",
    "mx_train = mx_train.reshape((len(mx_train), np.prod(mx_train.shape[1:])))\n",
    "mx_train_lines = mx_train_lines.reshape((len(mx_train_lines), np.prod(mx_train_lines.shape[1:])))"
   ]
  },
  {
   "cell_type": "code",
   "execution_count": 82,
   "metadata": {},
   "outputs": [
    {
     "name": "stdout",
     "output_type": "stream",
     "text": [
      "Epoch 1/100\n",
      "90/90 [==============================] - 1s 7ms/step - loss: 0.6916\n",
      "Epoch 2/100\n",
      "90/90 [==============================] - 1s 6ms/step - loss: 0.6799\n",
      "Epoch 3/100\n",
      "90/90 [==============================] - 1s 6ms/step - loss: 0.6785\n",
      "Epoch 4/100\n",
      "90/90 [==============================] - 1s 6ms/step - loss: 0.6730\n",
      "Epoch 5/100\n",
      "90/90 [==============================] - 1s 6ms/step - loss: 0.6712\n",
      "Epoch 6/100\n",
      "90/90 [==============================] - 1s 6ms/step - loss: 0.6694\n",
      "Epoch 7/100\n",
      "90/90 [==============================] - 1s 6ms/step - loss: 0.6679\n",
      "Epoch 8/100\n",
      "90/90 [==============================] - 1s 6ms/step - loss: 0.6670\n",
      "Epoch 9/100\n",
      "90/90 [==============================] - 1s 6ms/step - loss: 0.6662\n",
      "Epoch 10/100\n",
      "90/90 [==============================] - 1s 6ms/step - loss: 0.6654\n",
      "Epoch 11/100\n",
      "90/90 [==============================] - 1s 6ms/step - loss: 0.6641\n",
      "Epoch 12/100\n",
      "90/90 [==============================] - 1s 6ms/step - loss: 0.6631\n",
      "Epoch 13/100\n",
      "90/90 [==============================] - 1s 6ms/step - loss: 0.6624\n",
      "Epoch 14/100\n",
      "90/90 [==============================] - 1s 6ms/step - loss: 0.6622\n",
      "Epoch 15/100\n",
      "90/90 [==============================] - 1s 6ms/step - loss: 0.6619\n",
      "Epoch 16/100\n",
      "90/90 [==============================] - 1s 6ms/step - loss: 0.6615\n",
      "Epoch 17/100\n",
      "90/90 [==============================] - 1s 6ms/step - loss: 0.6609\n",
      "Epoch 18/100\n",
      "90/90 [==============================] - 1s 6ms/step - loss: 0.6599\n",
      "Epoch 19/100\n",
      "90/90 [==============================] - 1s 6ms/step - loss: 0.6595\n",
      "Epoch 20/100\n",
      "90/90 [==============================] - 1s 6ms/step - loss: 0.6625\n",
      "Epoch 21/100\n",
      "90/90 [==============================] - 1s 6ms/step - loss: 0.6597\n",
      "Epoch 22/100\n",
      "90/90 [==============================] - 1s 6ms/step - loss: 0.6597\n",
      "Epoch 23/100\n",
      "90/90 [==============================] - 1s 6ms/step - loss: 0.6589\n",
      "Epoch 24/100\n",
      "90/90 [==============================] - 1s 6ms/step - loss: 0.6576\n",
      "Epoch 25/100\n",
      "90/90 [==============================] - 1s 6ms/step - loss: 0.6576\n",
      "Epoch 26/100\n",
      "90/90 [==============================] - 1s 6ms/step - loss: 0.6579\n",
      "Epoch 27/100\n",
      "90/90 [==============================] - 1s 6ms/step - loss: 0.6569\n",
      "Epoch 28/100\n",
      "90/90 [==============================] - 1s 6ms/step - loss: 0.6565\n",
      "Epoch 29/100\n",
      "90/90 [==============================] - 1s 6ms/step - loss: 0.6565\n",
      "Epoch 30/100\n",
      "90/90 [==============================] - 1s 6ms/step - loss: 0.6563\n",
      "Epoch 31/100\n",
      "90/90 [==============================] - 1s 6ms/step - loss: 0.6572\n",
      "Epoch 32/100\n",
      "90/90 [==============================] - 1s 6ms/step - loss: 0.6564\n",
      "Epoch 33/100\n",
      "90/90 [==============================] - 1s 6ms/step - loss: 0.6561\n",
      "Epoch 34/100\n",
      "90/90 [==============================] - 1s 6ms/step - loss: 0.6554\n",
      "Epoch 35/100\n",
      "90/90 [==============================] - 1s 6ms/step - loss: 0.6552\n",
      "Epoch 36/100\n",
      "90/90 [==============================] - 1s 6ms/step - loss: 0.6551\n",
      "Epoch 37/100\n",
      "90/90 [==============================] - 1s 6ms/step - loss: 0.6552\n",
      "Epoch 38/100\n",
      "90/90 [==============================] - 1s 6ms/step - loss: 0.6548\n",
      "Epoch 39/100\n",
      "90/90 [==============================] - 1s 6ms/step - loss: 0.6545\n",
      "Epoch 40/100\n",
      "90/90 [==============================] - 1s 6ms/step - loss: 0.6557\n",
      "Epoch 41/100\n",
      "90/90 [==============================] - 1s 6ms/step - loss: 0.6547\n",
      "Epoch 42/100\n",
      "90/90 [==============================] - 1s 6ms/step - loss: 0.6551\n",
      "Epoch 43/100\n",
      "90/90 [==============================] - 1s 6ms/step - loss: 0.6546\n",
      "Epoch 44/100\n",
      "90/90 [==============================] - 1s 6ms/step - loss: 0.6538\n",
      "Epoch 45/100\n",
      "90/90 [==============================] - 1s 6ms/step - loss: 0.6533\n",
      "Epoch 46/100\n",
      "90/90 [==============================] - 1s 6ms/step - loss: 0.6531\n",
      "Epoch 47/100\n",
      "90/90 [==============================] - 1s 6ms/step - loss: 0.6537\n",
      "Epoch 48/100\n",
      "90/90 [==============================] - 1s 6ms/step - loss: 0.6538\n",
      "Epoch 49/100\n",
      "90/90 [==============================] - 1s 6ms/step - loss: 0.6531\n",
      "Epoch 50/100\n",
      "90/90 [==============================] - 1s 6ms/step - loss: 0.6529\n",
      "Epoch 51/100\n",
      "90/90 [==============================] - 1s 6ms/step - loss: 0.6537\n",
      "Epoch 52/100\n",
      "90/90 [==============================] - 1s 6ms/step - loss: 0.6551\n",
      "Epoch 53/100\n",
      "90/90 [==============================] - 1s 6ms/step - loss: 0.6535\n",
      "Epoch 54/100\n",
      "90/90 [==============================] - 1s 6ms/step - loss: 0.6538\n",
      "Epoch 55/100\n",
      "90/90 [==============================] - 1s 6ms/step - loss: 0.6520\n",
      "Epoch 56/100\n",
      "90/90 [==============================] - 1s 6ms/step - loss: 0.6523\n",
      "Epoch 57/100\n",
      "90/90 [==============================] - 1s 6ms/step - loss: 0.6524\n",
      "Epoch 58/100\n",
      "90/90 [==============================] - 1s 6ms/step - loss: 0.6522\n",
      "Epoch 59/100\n",
      "90/90 [==============================] - 1s 6ms/step - loss: 0.6516\n",
      "Epoch 60/100\n",
      "90/90 [==============================] - 1s 6ms/step - loss: 0.6509\n",
      "Epoch 61/100\n",
      "90/90 [==============================] - 1s 6ms/step - loss: 0.6517\n",
      "Epoch 62/100\n",
      "90/90 [==============================] - 1s 6ms/step - loss: 0.6506\n",
      "Epoch 63/100\n",
      "90/90 [==============================] - 1s 6ms/step - loss: 0.6503\n",
      "Epoch 64/100\n",
      "90/90 [==============================] - 1s 6ms/step - loss: 0.6496\n",
      "Epoch 65/100\n",
      "90/90 [==============================] - 1s 6ms/step - loss: 0.6530\n",
      "Epoch 66/100\n",
      "90/90 [==============================] - 1s 6ms/step - loss: 0.6505\n",
      "Epoch 67/100\n",
      "90/90 [==============================] - 1s 6ms/step - loss: 0.6504\n",
      "Epoch 68/100\n",
      "90/90 [==============================] - 1s 6ms/step - loss: 0.6490\n",
      "Epoch 69/100\n",
      "90/90 [==============================] - 1s 6ms/step - loss: 0.6488\n",
      "Epoch 70/100\n",
      "90/90 [==============================] - 1s 6ms/step - loss: 0.6503\n",
      "Epoch 71/100\n",
      "90/90 [==============================] - 1s 6ms/step - loss: 0.6491\n",
      "Epoch 72/100\n",
      "90/90 [==============================] - 1s 6ms/step - loss: 0.6482\n",
      "Epoch 73/100\n",
      "90/90 [==============================] - 1s 6ms/step - loss: 0.6479\n",
      "Epoch 74/100\n",
      "90/90 [==============================] - 1s 6ms/step - loss: 0.6472\n",
      "Epoch 75/100\n",
      "90/90 [==============================] - 1s 6ms/step - loss: 0.6471\n",
      "Epoch 76/100\n",
      "90/90 [==============================] - 1s 6ms/step - loss: 0.6471\n",
      "Epoch 77/100\n",
      "90/90 [==============================] - 1s 6ms/step - loss: 0.6503\n",
      "Epoch 78/100\n",
      "90/90 [==============================] - 1s 6ms/step - loss: 0.6491\n",
      "Epoch 79/100\n",
      "90/90 [==============================] - 1s 6ms/step - loss: 0.6521\n",
      "Epoch 80/100\n",
      "90/90 [==============================] - 1s 6ms/step - loss: 0.6500\n",
      "Epoch 81/100\n",
      "90/90 [==============================] - 1s 6ms/step - loss: 0.6498\n",
      "Epoch 82/100\n",
      "90/90 [==============================] - 1s 6ms/step - loss: 0.6487\n",
      "Epoch 83/100\n",
      "90/90 [==============================] - 1s 6ms/step - loss: 0.6479\n",
      "Epoch 84/100\n",
      "90/90 [==============================] - 1s 6ms/step - loss: 0.6471\n",
      "Epoch 85/100\n",
      "90/90 [==============================] - 1s 6ms/step - loss: 0.6469\n",
      "Epoch 86/100\n",
      "90/90 [==============================] - 1s 6ms/step - loss: 0.6474\n",
      "Epoch 87/100\n",
      "90/90 [==============================] - 1s 6ms/step - loss: 0.6472\n",
      "Epoch 88/100\n",
      "90/90 [==============================] - 1s 6ms/step - loss: 0.6465\n",
      "Epoch 89/100\n",
      "90/90 [==============================] - 1s 6ms/step - loss: 0.6460\n",
      "Epoch 90/100\n",
      "90/90 [==============================] - 1s 6ms/step - loss: 0.6467\n",
      "Epoch 91/100\n",
      "90/90 [==============================] - 1s 6ms/step - loss: 0.6472\n",
      "Epoch 92/100\n",
      "90/90 [==============================] - 1s 6ms/step - loss: 0.6474\n",
      "Epoch 93/100\n",
      "90/90 [==============================] - 1s 6ms/step - loss: 0.6472\n",
      "Epoch 94/100\n",
      "90/90 [==============================] - 1s 6ms/step - loss: 0.6464\n",
      "Epoch 95/100\n",
      "90/90 [==============================] - 1s 6ms/step - loss: 0.6456\n",
      "Epoch 96/100\n",
      "90/90 [==============================] - 1s 6ms/step - loss: 0.6456\n",
      "Epoch 97/100\n",
      "90/90 [==============================] - 1s 6ms/step - loss: 0.6453\n",
      "Epoch 98/100\n",
      "90/90 [==============================] - 1s 6ms/step - loss: 0.6452\n",
      "Epoch 99/100\n",
      "90/90 [==============================] - 1s 6ms/step - loss: 0.6451\n",
      "Epoch 100/100\n",
      "90/90 [==============================] - 1s 6ms/step - loss: 0.6449\n"
     ]
    },
    {
     "data": {
      "text/plain": [
       "<keras.callbacks.callbacks.History at 0x7fb07c993fd0>"
      ]
     },
     "execution_count": 82,
     "metadata": {},
     "output_type": "execute_result"
    }
   ],
   "source": [
    "input_size = 2880\n",
    "hidden_size = 2880\n",
    "code_size = 32\n",
    "\n",
    "input_img = Input(shape=(2880,))\n",
    "x = Dense(hidden_size, activation='relu')(input_img)\n",
    "x = Dense(1440, activation='relu')(x)\n",
    "code = Dense(code_size, activation='relu')(x)\n",
    "x = Dense(1440, activation='relu')(x)\n",
    "x = Dense(hidden_size, activation='relu')(code)\n",
    "output_img = Dense(input_size, activation='sigmoid')(x)\n",
    "\n",
    "autoencoder = Model(input_img, output_img)\n",
    "autoencoder.compile(optimizer='adam', loss='binary_crossentropy')\n",
    "autoencoder.fit(mx_train_lines, mx_train, epochs=100)"
   ]
  },
  {
   "cell_type": "code",
   "execution_count": 101,
   "metadata": {},
   "outputs": [],
   "source": [
    "testMatrixNumber=5\n",
    "lines = np.arange(5,20)\n",
    "for y in lines:\n",
    "    mx_test_lines[testMatrixNumber][np.int16(y)] = np.full(144,0)\n",
    "        \n",
    "mx_test_lines[testMatrixNumber][12] = mx_test.reshape(10,20,144)[testMatrixNumber][12]\n",
    "mx_test_lines[testMatrixNumber][18] = mx_test.reshape(10,20,144)[testMatrixNumber][18]\n",
    "mx_test_lines[testMatrixNumber][19] = mx_test.reshape(10,20,144)[testMatrixNumber][19]\n",
    "mx_test_lines[testMatrixNumber][8] = mx_test.reshape(10,20,144)[testMatrixNumber][8]\n",
    "mx_test_lines[testMatrixNumber][7] = mx_test.reshape(10,20,144)[testMatrixNumber][7]"
   ]
  },
  {
   "cell_type": "code",
   "execution_count": 102,
   "metadata": {},
   "outputs": [
    {
     "data": {
      "text/plain": [
       "<matplotlib.image.AxesImage at 0x7fb07c696dd0>"
      ]
     },
     "execution_count": 102,
     "metadata": {},
     "output_type": "execute_result"
    },
    {
     "data": {
      "image/png": "[encoded data removed]",
      "text/plain": [
       "<Figure size 2160x288 with 1 Axes>"
      ]
     },
     "metadata": {
      "needs_background": "light"
     },
     "output_type": "display_data"
    }
   ],
   "source": [
    "fig= plt.figure(figsize=(30,4))\n",
    "plt.imshow(mx_test_lines[testMatrixNumber].reshape(20,144), origin='lower', cmap=plt.get_cmap('jet', 20) , aspect='auto')"
   ]
  },
  {
   "cell_type": "code",
   "execution_count": 103,
   "metadata": {},
   "outputs": [
    {
     "data": {
      "text/plain": [
       "<matplotlib.image.AxesImage at 0x7fb07c4001d0>"
      ]
     },
     "execution_count": 103,
     "metadata": {},
     "output_type": "execute_result"
    },
    {
     "data": {
      "image/png": "[encoded data removed]",
      "text/plain": [
       "<Figure size 2160x288 with 1 Axes>"
      ]
     },
     "metadata": {
      "needs_background": "light"
     },
     "output_type": "display_data"
    }
   ],
   "source": [
    "fig= plt.figure(figsize=(30,4))\n",
    "plt.imshow(autoencoder.predict(mx_test_lines[testMatrixNumber].reshape(1,-1)).reshape(20,144), origin='lower', cmap=plt.get_cmap('jet', 20) , aspect='auto')"
   ]
  },
  {
   "cell_type": "code",
   "execution_count": 104,
   "metadata": {},
   "outputs": [
    {
     "data": {
      "text/plain": [
       "<matplotlib.image.AxesImage at 0x7fb07c3fa150>"
      ]
     },
     "execution_count": 104,
     "metadata": {},
     "output_type": "execute_result"
    },
    {
     "data": {
      "image/png": "[encoded data removed]",
      "text/plain": [
       "<Figure size 2160x288 with 1 Axes>"
      ]
     },
     "metadata": {
      "needs_background": "light"
     },
     "output_type": "display_data"
    }
   ],
   "source": [
    "fig= plt.figure(figsize=(30,4))\n",
    "plt.imshow(mx_test[testMatrixNumber].reshape(20,144), origin='lower', cmap=plt.get_cmap('jet', 20) , aspect='auto')"
   ]
  },
  {
   "cell_type": "code",
   "execution_count": 19,
   "metadata": {},
   "outputs": [
    {
     "name": "stdout",
     "output_type": "stream",
     "text": [
      "(None, 5, 36, 8)\n"
     ]
    }
   ],
   "source": [
    "#CONVOLUTIONAL AUTOENCODER\n",
    "\n",
    "input_img = keras.Input(shape=(20, 144, 1))\n",
    "\n",
    "x = layers.Conv2D(16, (3, 3), activation='relu', padding='same')(input_img)\n",
    "x = layers.MaxPooling2D((2, 2), padding='same')(x)\n",
    "x = layers.Conv2D(8, (3, 3), activation='relu', padding='same')(x)\n",
    "x = layers.MaxPooling2D((2, 2), padding='same')(x)\n",
    "x = layers.Conv2D(8, (3, 3), activation='relu', padding='same')(x)\n",
    "encoded = layers.MaxPooling2D((2, 2), padding='same')(x)\n",
    "\n",
    "# at this point the representation is (4, 4, 8) i.e. 128-dimensional\n",
    "print x.shape\n",
    "x = layers.Conv2D(8, (3, 3), activation='relu', padding='same')(encoded)\n",
    "x = layers.UpSampling2D((2, 2))(x)\n",
    "x = layers.Conv2D(8, (3, 3), activation='relu', padding='same')(x)\n",
    "x = layers.UpSampling2D((2, 2))(x)\n",
    "x = layers.Conv2D(16, (3, 3), activation='relu')(x)\n",
    "x = layers.UpSampling2D((2, 2))(x)\n",
    "decoded = layers.Conv2D(1, (3, 3), activation='sigmoid', padding='same')(x)\n",
    "\n",
    "convolutional_autoencoder = keras.Model(input_img, decoded)\n",
    "convolutional_autoencoder.compile(optimizer='adam', loss='binary_crossentropy')\n"
   ]
  },
  {
   "cell_type": "code",
   "execution_count": null,
   "metadata": {},
   "outputs": [],
   "source": []
  },
  {
   "cell_type": "code",
   "execution_count": 119,
   "metadata": {},
   "outputs": [],
   "source": [
    "(x_train_conv, _), (x_test_conv, _) = mnist.load_data()\n",
    "\n",
    "x_train_conv = x_train_conv.astype('float32') / 255.\n",
    "x_test_conv = x_test_conv.astype('float32') / 255.\n",
    "x_train_conv = np.reshape(x_train_conv, (len(x_train_conv), 28, 28, 1))\n",
    "x_test_conv = np.reshape(x_test_conv, (len(x_test_conv), 28, 28, 1))"
   ]
  },
  {
   "cell_type": "code",
   "execution_count": 120,
   "metadata": {},
   "outputs": [],
   "source": [
    "import random\n",
    "x_train_lines_conv=np.empty_like(x_train_conv)\n",
    "x_train_lines_conv = x_train_conv.copy()\n",
    "x_test_lines_conv=np.empty_like(x_test_conv)\n",
    "x_test_lines_conv = x_test_conv.copy()\n",
    "\n",
    "for t in range(0,x_train_lines_conv.shape[0]):\n",
    "    lines_train = np.array([9,10,11,12,13,14,15,16])\n",
    "#     for i in range(0,4):\n",
    "#         rands = np.append(rands,random.randint(0,27))\n",
    "    trainMatrix_conv = x_train_lines_conv[t]\n",
    "    for y in lines_train:\n",
    "        for i in range(0,28):\n",
    "            trainMatrix_conv[np.int16(y)][i] = 0\n",
    "    x_train_lines_conv[t] = trainMatrix_conv\n",
    "    \n",
    "    \n",
    "    \n",
    "for t in range(0,x_test_lines_conv.shape[0]):\n",
    "    lines_test = np.array([9,10,11,12,13,14,15,16])\n",
    "#     for i in range(0,4):\n",
    "#         rands = np.append(rands,random.randint(0,27))\n",
    "    testMatrix_conv = x_test_lines_conv[t]\n",
    "    for y in lines_test:\n",
    "        for i in range(0,28):\n",
    "            testMatrix_conv[np.int16(y)][i] = 0\n",
    "    x_test_lines_conv[t] = testMatrix_conv"
   ]
  },
  {
   "cell_type": "code",
   "execution_count": 14,
   "metadata": {},
   "outputs": [
    {
     "ename": "ValueError",
     "evalue": "Error when checking input: expected input_1 to have 4 dimensions, but got array with shape (100, 20, 144)",
     "output_type": "error",
     "traceback": [
      "\u001b[0;31m---------------------------------------------------------------------------\u001b[0m",
      "\u001b[0;31mValueError\u001b[0m                                Traceback (most recent call last)",
      "\u001b[0;32m<ipython-input-14-8f128a16b755>\u001b[0m in \u001b[0;36m<module>\u001b[0;34m()\u001b[0m\n\u001b[1;32m      1\u001b[0m \u001b[0mconvolutional_autoencoder\u001b[0m\u001b[0;34m.\u001b[0m\u001b[0m_get_distribution_strategy\u001b[0m \u001b[0;34m=\u001b[0m \u001b[0;32mlambda\u001b[0m\u001b[0;34m:\u001b[0m \u001b[0mNone\u001b[0m\u001b[0;34m\u001b[0m\u001b[0m\n\u001b[0;32m----> 2\u001b[0;31m \u001b[0mconvolutional_autoencoder\u001b[0m\u001b[0;34m.\u001b[0m\u001b[0mfit\u001b[0m\u001b[0;34m(\u001b[0m\u001b[0mmx_train_lines\u001b[0m\u001b[0;34m,\u001b[0m \u001b[0mmx_train\u001b[0m\u001b[0;34m,\u001b[0m \u001b[0mepochs\u001b[0m\u001b[0;34m=\u001b[0m\u001b[0;36m5\u001b[0m\u001b[0;34m,\u001b[0m \u001b[0mbatch_size\u001b[0m\u001b[0;34m=\u001b[0m\u001b[0;36m128\u001b[0m\u001b[0;34m,\u001b[0m \u001b[0mshuffle\u001b[0m\u001b[0;34m=\u001b[0m\u001b[0mTrue\u001b[0m\u001b[0;34m)\u001b[0m\u001b[0;34m\u001b[0m\u001b[0m\n\u001b[0m",
      "\u001b[0;32m/home/cristille/anaconda3/envs/py27/lib/python2.7/site-packages/keras/engine/training.pyc\u001b[0m in \u001b[0;36mfit\u001b[0;34m(self, x, y, batch_size, epochs, verbose, callbacks, validation_split, validation_data, shuffle, class_weight, sample_weight, initial_epoch, steps_per_epoch, validation_steps, validation_freq, max_queue_size, workers, use_multiprocessing, **kwargs)\u001b[0m\n\u001b[1;32m   1152\u001b[0m             \u001b[0msample_weight\u001b[0m\u001b[0;34m=\u001b[0m\u001b[0msample_weight\u001b[0m\u001b[0;34m,\u001b[0m\u001b[0;34m\u001b[0m\u001b[0m\n\u001b[1;32m   1153\u001b[0m             \u001b[0mclass_weight\u001b[0m\u001b[0;34m=\u001b[0m\u001b[0mclass_weight\u001b[0m\u001b[0;34m,\u001b[0m\u001b[0;34m\u001b[0m\u001b[0m\n\u001b[0;32m-> 1154\u001b[0;31m             batch_size=batch_size)\n\u001b[0m\u001b[1;32m   1155\u001b[0m \u001b[0;34m\u001b[0m\u001b[0m\n\u001b[1;32m   1156\u001b[0m         \u001b[0;31m# Prepare validation data.\u001b[0m\u001b[0;34m\u001b[0m\u001b[0;34m\u001b[0m\u001b[0m\n",
      "\u001b[0;32m/home/cristille/anaconda3/envs/py27/lib/python2.7/site-packages/keras/engine/training.pyc\u001b[0m in \u001b[0;36m_standardize_user_data\u001b[0;34m(self, x, y, sample_weight, class_weight, check_array_lengths, batch_size)\u001b[0m\n\u001b[1;32m    577\u001b[0m             \u001b[0mfeed_input_shapes\u001b[0m\u001b[0;34m,\u001b[0m\u001b[0;34m\u001b[0m\u001b[0m\n\u001b[1;32m    578\u001b[0m             \u001b[0mcheck_batch_axis\u001b[0m\u001b[0;34m=\u001b[0m\u001b[0mFalse\u001b[0m\u001b[0;34m,\u001b[0m  \u001b[0;31m# Don't enforce the batch size.\u001b[0m\u001b[0;34m\u001b[0m\u001b[0m\n\u001b[0;32m--> 579\u001b[0;31m             exception_prefix='input')\n\u001b[0m\u001b[1;32m    580\u001b[0m \u001b[0;34m\u001b[0m\u001b[0m\n\u001b[1;32m    581\u001b[0m         \u001b[0;32mif\u001b[0m \u001b[0my\u001b[0m \u001b[0;32mis\u001b[0m \u001b[0;32mnot\u001b[0m \u001b[0mNone\u001b[0m\u001b[0;34m:\u001b[0m\u001b[0;34m\u001b[0m\u001b[0m\n",
      "\u001b[0;32m/home/cristille/anaconda3/envs/py27/lib/python2.7/site-packages/keras/engine/training_utils.pyc\u001b[0m in \u001b[0;36mstandardize_input_data\u001b[0;34m(data, names, shapes, check_batch_axis, exception_prefix)\u001b[0m\n\u001b[1;32m    133\u001b[0m                         \u001b[0;34m': expected '\u001b[0m \u001b[0;34m+\u001b[0m \u001b[0mnames\u001b[0m\u001b[0;34m[\u001b[0m\u001b[0mi\u001b[0m\u001b[0;34m]\u001b[0m \u001b[0;34m+\u001b[0m \u001b[0;34m' to have '\u001b[0m \u001b[0;34m+\u001b[0m\u001b[0;34m\u001b[0m\u001b[0m\n\u001b[1;32m    134\u001b[0m                         \u001b[0mstr\u001b[0m\u001b[0;34m(\u001b[0m\u001b[0mlen\u001b[0m\u001b[0;34m(\u001b[0m\u001b[0mshape\u001b[0m\u001b[0;34m)\u001b[0m\u001b[0;34m)\u001b[0m \u001b[0;34m+\u001b[0m \u001b[0;34m' dimensions, but got array '\u001b[0m\u001b[0;34m\u001b[0m\u001b[0m\n\u001b[0;32m--> 135\u001b[0;31m                         'with shape ' + str(data_shape))\n\u001b[0m\u001b[1;32m    136\u001b[0m                 \u001b[0;32mif\u001b[0m \u001b[0;32mnot\u001b[0m \u001b[0mcheck_batch_axis\u001b[0m\u001b[0;34m:\u001b[0m\u001b[0;34m\u001b[0m\u001b[0m\n\u001b[1;32m    137\u001b[0m                     \u001b[0mdata_shape\u001b[0m \u001b[0;34m=\u001b[0m \u001b[0mdata_shape\u001b[0m\u001b[0;34m[\u001b[0m\u001b[0;36m1\u001b[0m\u001b[0;34m:\u001b[0m\u001b[0;34m]\u001b[0m\u001b[0;34m\u001b[0m\u001b[0m\n",
      "\u001b[0;31mValueError\u001b[0m: Error when checking input: expected input_1 to have 4 dimensions, but got array with shape (100, 20, 144)"
     ]
    }
   ],
   "source": [
    "convolutional_autoencoder._get_distribution_strategy = lambda: None\n",
    "convolutional_autoencoder.fit(mx_train_lines, mx_train, epochs=5, batch_size=128, shuffle=True)"
   ]
  },
  {
   "cell_type": "code",
   "execution_count": 138,
   "metadata": {},
   "outputs": [
    {
     "name": "stdout",
     "output_type": "stream",
     "text": [
      "[ 2. 10. 20. 25. 13. 13. 22.  2. 15. 12.  8. 12.]\n"
     ]
    },
    {
     "data": {
      "image/png": "[encoded data removed]",
      "text/plain": [
       "<Figure size 1440x720 with 3 Axes>"
      ]
     },
     "metadata": {
      "needs_background": "light"
     },
     "output_type": "display_data"
    }
   ],
   "source": [
    "imageID = 1\n",
    "fig_conv, (ax1_conv, ax2_conv, ax3_conv) = plt.subplots(1,3)\n",
    "image_lines_conv = x_test_conv[imageID].copy()\n",
    "randsTest = np.array([])\n",
    "\n",
    "# for y in range(9,12):\n",
    "#     for i in range(0,28):\n",
    "#         image_lines_conv[1][y][i] = 0\n",
    "        \n",
    "for i in range(0,12):\n",
    "    randsTest = np.append(randsTest,random.randint(0,27))\n",
    "print (randsTest)\n",
    "for y in randsTest:\n",
    "    for i in range(0,28):\n",
    "        image_lines_conv[np.int16(y)][i] = 0\n",
    "\n",
    "image_lines_conv = np.expand_dims(image_lines_conv, 0)\n",
    "image_pred_conv = convolutional_autoencoder.predict(image_lines_conv)\n",
    "image_lines_conv = np.squeeze(image_lines_conv, 0)\n",
    "\n",
    "ax1_conv.imshow(x_test_conv[imageID].reshape(28,28))\n",
    "ax2_conv.imshow(image_lines_conv.reshape(28,28))\n",
    "ax3_conv.imshow(image_pred_conv.reshape(28,28))\n",
    "fig_conv.set_size_inches(20,10)\n",
    "fig_conv.show()"
   ]
  }
 ],
 "metadata": {
  "kernelspec": {
   "display_name": "Python 2.7 matlab",
   "language": "python",
   "name": "dlwp"
  },
  "language_info": {
   "codemirror_mode": {
    "name": "ipython",
    "version": 2
   },
   "file_extension": ".py",
   "mimetype": "text/x-python",
   "name": "python",
   "nbconvert_exporter": "python",
   "pygments_lexer": "ipython2",
   "version": "2.7.15"
  }
 },
 "nbformat": 4,
 "nbformat_minor": 4
}
