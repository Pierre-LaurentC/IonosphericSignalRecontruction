{
 "cells": [
  {
   "cell_type": "code",
   "execution_count": null,
   "metadata": {},
   "outputs": [],
   "source": [
    "x = np.arange(0,360,1)\n",
    "y = np.array(indicatorVariationArray[137])\n",
    "x, y = RemoveInfNan(x, y)\n",
    "\n",
    "# SVRmodel = SupportVectorRegression(x,y,ParametersTuning(indicatorVariationArray, 180))\n",
    "svr_rbf = SVR(kernel='rbf', C=50, gamma=0.0005)\n",
    "SVRmodel = svr_rbf.fit(x, y)\n",
    "\n",
    "plt.plot(x, SVRmodel.predict(x), \"r:\")\n",
    "plt.scatter(x,y)"
   ]
  },
  {
   "cell_type": "code",
   "execution_count": null,
   "metadata": {},
   "outputs": [],
   "source": [
    "afterPrediction = np.empty_like(indicatorVariationArray)\n",
    "afterPrediction[:] = indicatorVariationArray\n",
    "\n",
    "for i in range(0,360):\n",
    "    if math.isnan(afterPrediction[137][i]): \n",
    "        afterPrediction[137][i] = SVRmodel.predict(i)\n",
    "x = np.arange(0,360,1)      \n",
    "plt.scatter(x,afterPrediction[137])\n",
    "plt.savefig('plot.png')"
   ]
  }
 ],
 "metadata": {
  "kernelspec": {
   "display_name": "Python 2.7 matlab",
   "language": "python",
   "name": "dlwp"
  },
  "language_info": {
   "codemirror_mode": {
    "name": "ipython",
    "version": 2
   },
   "file_extension": ".py",
   "mimetype": "text/x-python",
   "name": "python",
   "nbconvert_exporter": "python",
   "pygments_lexer": "ipython2",
   "version": "2.7.15"
  }
 },
 "nbformat": 4,
 "nbformat_minor": 4
}
