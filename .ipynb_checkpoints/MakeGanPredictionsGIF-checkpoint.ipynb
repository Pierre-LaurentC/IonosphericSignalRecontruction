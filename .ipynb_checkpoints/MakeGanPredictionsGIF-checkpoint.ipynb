{
 "cells": [
  {
   "cell_type": "code",
   "execution_count": 1,
   "metadata": {},
   "outputs": [],
   "source": [
    "import numpy as np\n",
    "import os\n",
    "import matplotlib.pyplot as plt\n",
    "from PIL import Image, ImageDraw"
   ]
  },
  {
   "cell_type": "code",
   "execution_count": 10,
   "metadata": {},
   "outputs": [],
   "source": [
    "numberOfFiles=0\n",
    "try: \n",
    "    filesXtrain = os.listdir('../GAN/matrices/')\n",
    "    numberOfFiles = len(filesXtrain)\n",
    "except: print('File not found')\n",
    "numberOfFiles-=1\n",
    "\n",
    "matrices = np.empty((numberOfFiles,24,144))\n",
    "\n",
    "for i in range(numberOfFiles):\n",
    "    matrices[i] = np.load('../GAN/matrices/GAN_prediction_{}.npy'.format(i))\n",
    "    \n",
    "fig, ax1 = plt.subplots()\n",
    "fig.set_size_inches(20,10)\n",
    "\n",
    "for mat in range(numberOfFiles):\n",
    "    ax1.imshow(matrices[mat])\n",
    "    fig.savefig(\"../GAN/images/prediction_{}.png\".format(mat))\n",
    "    \n",
    "frames = []\n",
    "for image in range(numberOfFiles):\n",
    "    frames.append(Image.open('../GAN/images/prediction_{}.png'.format(image)))\n",
    "frames[0].save('../GAN/gan_training.gif', format='GIF', append_images=frames[1:], save_all=True, duration=200, loop=0)"
   ]
  }
 ],
 "metadata": {
  "kernelspec": {
   "display_name": "Python 3",
   "language": "python",
   "name": "python3"
  },
  "language_info": {
   "codemirror_mode": {
    "name": "ipython",
    "version": 3
   },
   "file_extension": ".py",
   "mimetype": "text/x-python",
   "name": "python",
   "nbconvert_exporter": "python",
   "pygments_lexer": "ipython3",
   "version": "3.8.3"
  }
 },
 "nbformat": 4,
 "nbformat_minor": 4
}
