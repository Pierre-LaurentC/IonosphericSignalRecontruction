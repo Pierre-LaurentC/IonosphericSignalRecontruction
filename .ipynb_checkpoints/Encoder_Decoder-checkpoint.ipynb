{
 "cells": [
  {
   "cell_type": "markdown",
   "metadata": {},
   "source": [
    "autoencoder: https://towardsdatascience.com/applied-deep-learning-part-3-autoencoders-1c083af4d798 \\\n",
    "autoencoder: https://github.com/ardendertat/Applied-Deep-Learning-with-Keras/blob/master/notebooks/Part%203%20-%20Autoencoders.ipynb \\\n",
    "Unet: https://towardsdatascience.com/unet-line-by-line-explanation-9b191c76baf5 \\\n",
    "Convolutional autoencoder maths: https://pgaleone.eu/neural-networks/2016/11/24/convolutional-autoencoders/ \\\n",
    "Convolutional autoencoder code: https://blog.keras.io/building-autoencoders-in-keras.html"
   ]
  },
  {
   "cell_type": "code",
   "execution_count": 1,
   "metadata": {},
   "outputs": [
    {
     "name": "stderr",
     "output_type": "stream",
     "text": [
      "Using TensorFlow backend.\n"
     ]
    }
   ],
   "source": [
    "import matplotlib.pyplot as plt\n",
    "import pandas as pd\n",
    "import numpy as np\n",
    "import keras\n",
    "from keras import layers\n",
    "from keras.models import Model\n",
    "from keras.layers import Dense, Input\n",
    "from keras.datasets import mnist\n",
    "from keras.optimizers import Adam\n",
    "from keras.callbacks import TensorBoard"
   ]
  },
  {
   "cell_type": "code",
   "execution_count": 65,
   "metadata": {},
   "outputs": [],
   "source": [
    "mx_train_lines = np.zeros((50,20,144))\n",
    "mx_train = np.zeros((50,20,144))\n",
    "\n",
    "for i in range(0,50):\n",
    "    mx_train_lines[i] = np.load('../TrainingDataset/x_train_lines/indicatorVariationArrayLocalTime{}.npy'.format(i))\n",
    "    mx_train[i] = np.load('../TrainingDataset/x_train/indicatorVariationArrayLocalTime{}.npy'.format(i))"
   ]
  },
  {
   "cell_type": "code",
   "execution_count": 67,
   "metadata": {},
   "outputs": [
    {
     "data": {
      "text/plain": [
       "<matplotlib.image.AxesImage at 0x7f37d01f5110>"
      ]
     },
     "execution_count": 67,
     "metadata": {},
     "output_type": "execute_result"
    },
    {
     "data": {
      "image/png": "[encoded data removed]",
      "text/plain": [
       "<Figure size 2160x288 with 1 Axes>"
      ]
     },
     "metadata": {
      "needs_background": "light"
     },
     "output_type": "display_data"
    }
   ],
   "source": [
    "mx_train_lines=np.nan_to_num(mx_train_lines)\n",
    "mx_train=np.nan_to_num(mx_train)\n",
    "fig= plt.figure(figsize=(30,4))\n",
    "plt.imshow(mx_train_lines[0], origin='lower', cmap=plt.get_cmap('jet', 20) , aspect='auto')"
   ]
  },
  {
   "cell_type": "code",
   "execution_count": 70,
   "metadata": {},
   "outputs": [
    {
     "name": "stdout",
     "output_type": "stream",
     "text": [
      "(None, 20, 144, 16) 1\n",
      "(None, 10, 72, 16) 2\n",
      "(None, 10, 72, 8) 3\n",
      "(None, 5, 36, 8) 4\n",
      "(None, 5, 36, 8) 5\n",
      "(None, 5, 36, 8) 6\n",
      "(None, 10, 72, 8) 8\n",
      "(None, 10, 72, 8) 9\n",
      "(None, 20, 144, 8) 10\n"
     ]
    }
   ],
   "source": [
    "#CONVOLUTIONAL AUTOENCODER\n",
    "\n",
    "input_img = keras.Input(shape=(28, 28, 1))\n",
    "\n",
    "x = layers.Conv2D(16, (3, 3), activation='relu', padding='same')(input_img)\n",
    "x = layers.MaxPooling2D((2, 2), padding='same')(x)\n",
    "x = layers.Conv2D(8, (3, 3), activation='relu', padding='same')(x)\n",
    "x = layers.MaxPooling2D((2, 2), padding='same')(x)\n",
    "x = layers.Conv2D(8, (3, 3), activation='relu', padding='same')(x)\n",
    "encoded = layers.MaxPooling2D((2, 2), padding='same')(x)\n",
    "\n",
    "# at this point the representation is (4, 4, 8) i.e. 128-dimensional\n",
    "\n",
    "x = layers.Conv2D(8, (3, 3), activation='relu', padding='same')(encoded)\n",
    "x = layers.UpSampling2D((2, 2))(x)\n",
    "x = layers.Conv2D(8, (3, 3), activation='relu', padding='same')(x)\n",
    "x = layers.UpSampling2D((2, 2))(x)\n",
    "x = layers.Conv2D(16, (3, 3), activation='relu')(x)\n",
    "x = layers.UpSampling2D((2, 2))(x)\n",
    "decoded = layers.Conv2D(1, (3, 3), activation='sigmoid', padding='same')(x)\n",
    "\n",
    "convolutional_autoencoder = keras.Model(input_img, decoded)\n",
    "convolutional_autoencoder.compile(optimizer='adam', loss='binary_crossentropy')\n"
   ]
  },
  {
   "cell_type": "code",
   "execution_count": null,
   "metadata": {},
   "outputs": [],
   "source": []
  },
  {
   "cell_type": "code",
   "execution_count": 119,
   "metadata": {},
   "outputs": [],
   "source": [
    "(x_train_conv, _), (x_test_conv, _) = mnist.load_data()\n",
    "\n",
    "x_train_conv = x_train_conv.astype('float32') / 255.\n",
    "x_test_conv = x_test_conv.astype('float32') / 255.\n",
    "x_train_conv = np.reshape(x_train_conv, (len(x_train_conv), 28, 28, 1))\n",
    "x_test_conv = np.reshape(x_test_conv, (len(x_test_conv), 28, 28, 1))"
   ]
  },
  {
   "cell_type": "code",
   "execution_count": 120,
   "metadata": {},
   "outputs": [],
   "source": [
    "import random\n",
    "x_train_lines_conv=np.empty_like(x_train_conv)\n",
    "x_train_lines_conv = x_train_conv.copy()\n",
    "x_test_lines_conv=np.empty_like(x_test_conv)\n",
    "x_test_lines_conv = x_test_conv.copy()\n",
    "\n",
    "for t in range(0,x_train_lines_conv.shape[0]):\n",
    "    lines_train = np.array([9,10,11,12,13,14,15,16])\n",
    "#     for i in range(0,4):\n",
    "#         rands = np.append(rands,random.randint(0,27))\n",
    "    trainMatrix_conv = x_train_lines_conv[t]\n",
    "    for y in lines_train:\n",
    "        for i in range(0,28):\n",
    "            trainMatrix_conv[np.int16(y)][i] = 0\n",
    "    x_train_lines_conv[t] = trainMatrix_conv\n",
    "    \n",
    "    \n",
    "    \n",
    "for t in range(0,x_test_lines_conv.shape[0]):\n",
    "    lines_test = np.array([9,10,11,12,13,14,15,16])\n",
    "#     for i in range(0,4):\n",
    "#         rands = np.append(rands,random.randint(0,27))\n",
    "    testMatrix_conv = x_test_lines_conv[t]\n",
    "    for y in lines_test:\n",
    "        for i in range(0,28):\n",
    "            testMatrix_conv[np.int16(y)][i] = 0\n",
    "    x_test_lines_conv[t] = testMatrix_conv"
   ]
  },
  {
   "cell_type": "code",
   "execution_count": 71,
   "metadata": {},
   "outputs": [
    {
     "name": "stdout",
     "output_type": "stream",
     "text": [
      "Epoch 1/5\n",
      "50/50 [==============================] - 0s 3ms/step - loss: 0.6945\n",
      "Epoch 2/5\n",
      "50/50 [==============================] - 0s 1ms/step - loss: 0.6939\n",
      "Epoch 3/5\n",
      "50/50 [==============================] - 0s 1ms/step - loss: 0.6933\n",
      "Epoch 4/5\n",
      "50/50 [==============================] - 0s 1ms/step - loss: 0.6929\n",
      "Epoch 5/5\n",
      "50/50 [==============================] - 0s 1ms/step - loss: 0.6926\n"
     ]
    },
    {
     "data": {
      "text/plain": [
       "<keras.callbacks.callbacks.History at 0x7f37d0204b90>"
      ]
     },
     "execution_count": 71,
     "metadata": {},
     "output_type": "execute_result"
    }
   ],
   "source": [
    "convolutional_autoencoder._get_distribution_strategy = lambda: None\n",
    "convolutional_autoencoder.fit(x_train_lines_conv, x_train_conv, epochs=5, batch_size=128, shuffle=True, validation_data=(x_test_lines_conv, x_test_conv), callbacks=[TensorBoard(log_dir='/tmp/convolutional_autoencoder')])"
   ]
  },
  {
   "cell_type": "code",
   "execution_count": 138,
   "metadata": {},
   "outputs": [
    {
     "name": "stdout",
     "output_type": "stream",
     "text": [
      "[ 2. 10. 20. 25. 13. 13. 22.  2. 15. 12.  8. 12.]\n"
     ]
    },
    {
     "data": {
      "image/png": "[encoded data removed]",
      "text/plain": [
       "<Figure size 1440x720 with 3 Axes>"
      ]
     },
     "metadata": {
      "needs_background": "light"
     },
     "output_type": "display_data"
    }
   ],
   "source": [
    "imageID = 1\n",
    "fig_conv, (ax1_conv, ax2_conv, ax3_conv) = plt.subplots(1,3)\n",
    "image_lines_conv = x_test_conv[imageID].copy()\n",
    "randsTest = np.array([])\n",
    "\n",
    "# for y in range(9,12):\n",
    "#     for i in range(0,28):\n",
    "#         image_lines_conv[1][y][i] = 0\n",
    "        \n",
    "for i in range(0,12):\n",
    "    randsTest = np.append(randsTest,random.randint(0,27))\n",
    "print (randsTest)\n",
    "for y in randsTest:\n",
    "    for i in range(0,28):\n",
    "        image_lines_conv[np.int16(y)][i] = 0\n",
    "\n",
    "image_lines_conv = np.expand_dims(image_lines_conv, 0)\n",
    "image_pred_conv = convolutional_autoencoder.predict(image_lines_conv)\n",
    "image_lines_conv = np.squeeze(image_lines_conv, 0)\n",
    "\n",
    "ax1_conv.imshow(x_test_conv[imageID].reshape(28,28))\n",
    "ax2_conv.imshow(image_lines_conv.reshape(28,28))\n",
    "ax3_conv.imshow(image_pred_conv.reshape(28,28))\n",
    "fig_conv.set_size_inches(20,10)\n",
    "fig_conv.show()"
   ]
  },
  {
   "cell_type": "code",
   "execution_count": 92,
   "metadata": {},
   "outputs": [],
   "source": [
    "#SIMPLE AUTOENCODER"
   ]
  },
  {
   "cell_type": "code",
   "execution_count": 72,
   "metadata": {},
   "outputs": [],
   "source": [
    "(x_train, y_train), (x_test, y_test) = mnist.load_data()\n",
    "\n",
    "x_train = x_train.astype('float32') / 255.0\n",
    "x_test = x_test.astype('float32') / 255.0\n",
    "x_train = x_train.reshape((len(x_train), np.prod(x_train.shape[1:])))\n",
    "x_test = x_test.reshape((len(x_test), np.prod(x_test.shape[1:])))"
   ]
  },
  {
   "cell_type": "code",
   "execution_count": 101,
   "metadata": {},
   "outputs": [],
   "source": [
    "import random\n",
    "x_train_lines=np.empty_like(x_train)\n",
    "x_train_lines = x_train.copy()\n",
    "\n",
    "for t in range(0,x_train_lines.shape[0]):\n",
    "    rands = np.array([])\n",
    "    lines = np.array([9,10,11,12,13,14,15,16])\n",
    "#     for i in range(0,4):\n",
    "#         rands = np.append(rands,random.randint(0,27))\n",
    "    testMatrix = x_train_lines[t].reshape(28,28)\n",
    "    for y in lines:\n",
    "        for i in range(0,28):\n",
    "            testMatrix[np.int16(y)][i] = 0\n",
    "    x_train_lines[t] = testMatrix.reshape(1,784)"
   ]
  },
  {
   "cell_type": "code",
   "execution_count": 102,
   "metadata": {},
   "outputs": [
    {
     "name": "stdout",
     "output_type": "stream",
     "text": [
      "Epoch 1/5\n",
      "60000/60000 [==============================] - 7s 113us/step - loss: 0.1477\n",
      "Epoch 2/5\n",
      "60000/60000 [==============================] - 7s 120us/step - loss: 0.1162\n",
      "Epoch 3/5\n",
      "60000/60000 [==============================] - 8s 129us/step - loss: 0.1105\n",
      "Epoch 4/5\n",
      "60000/60000 [==============================] - 7s 119us/step - loss: 0.1075\n",
      "Epoch 5/5\n",
      "60000/60000 [==============================] - 7s 112us/step - loss: 0.1057\n"
     ]
    },
    {
     "data": {
      "text/plain": [
       "<keras.callbacks.callbacks.History at 0x7f6f094f8990>"
      ]
     },
     "execution_count": 102,
     "metadata": {},
     "output_type": "execute_result"
    }
   ],
   "source": [
    "input_size = 784\n",
    "hidden_size = 256\n",
    "code_size = 32\n",
    "\n",
    "input_img = Input(shape=(input_size,))\n",
    "hidden_1 = Dense(hidden_size, activation='relu')(input_img)\n",
    "code = Dense(code_size, activation='relu')(hidden_1)\n",
    "hidden_2 = Dense(hidden_size, activation='relu')(code)\n",
    "output_img = Dense(input_size, activation='sigmoid')(hidden_2)\n",
    "\n",
    "autoencoder = Model(input_img, output_img)\n",
    "autoencoder.compile(optimizer='adam', loss='binary_crossentropy')\n",
    "autoencoder.fit(x_train_lines, x_train, epochs=5)"
   ]
  },
  {
   "cell_type": "code",
   "execution_count": 105,
   "metadata": {},
   "outputs": [
    {
     "data": {
      "image/png": "[encoded data removed]",
      "text/plain": [
       "<Figure size 1440x720 with 3 Axes>"
      ]
     },
     "metadata": {
      "needs_background": "light"
     },
     "output_type": "display_data"
    }
   ],
   "source": [
    "fig, (ax1, ax2, ax3) = plt.subplots(1,3)\n",
    "image = x_test[1].copy().reshape(28,28)\n",
    "image_lines = image.copy()\n",
    "\n",
    "\n",
    "for y in range(0,10):\n",
    "    for i in range(0,28):\n",
    "        image_lines[y][i] = 0\n",
    "image_pred = autoencoder.predict(image_lines.reshape(1,784)).reshape(28,28)\n",
    "\n",
    "ax1.imshow(image)\n",
    "ax2.imshow(image_lines)\n",
    "ax3.imshow(image_pred)\n",
    "fig.set_size_inches(20,10)\n",
    "fig.show()"
   ]
  },
  {
   "cell_type": "code",
   "execution_count": null,
   "metadata": {},
   "outputs": [],
   "source": []
  }
 ],
 "metadata": {
  "kernelspec": {
   "display_name": "Python 2.7 matlab",
   "language": "python",
   "name": "dlwp"
  },
  "language_info": {
   "codemirror_mode": {
    "name": "ipython",
    "version": 2
   },
   "file_extension": ".py",
   "mimetype": "text/x-python",
   "name": "python",
   "nbconvert_exporter": "python",
   "pygments_lexer": "ipython2",
   "version": "2.7.15"
  }
 },
 "nbformat": 4,
 "nbformat_minor": 4
}
