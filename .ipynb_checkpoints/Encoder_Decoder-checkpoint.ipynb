{
 "cells": [
  {
   "cell_type": "markdown",
   "metadata": {},
   "source": [
    "autoencoder: https://towardsdatascience.com/applied-deep-learning-part-3-autoencoders-1c083af4d798 \\\n",
    "autoencoder: https://github.com/ardendertat/Applied-Deep-Learning-with-Keras/blob/master/notebooks/Part%203%20-%20Autoencoders.ipynb \\\n",
    "Unet: https://towardsdatascience.com/unet-line-by-line-explanation-9b191c76baf5 \\\n",
    "Convolutional autoencoder maths: https://pgaleone.eu/neural-networks/2016/11/24/convolutional-autoencoders/ \\\n",
    "Convolutional autoencoder code: https://blog.keras.io/building-autoencoders-in-keras.html"
   ]
  },
  {
   "cell_type": "code",
   "execution_count": 43,
   "metadata": {},
   "outputs": [],
   "source": [
    "import matplotlib.pyplot as plt\n",
    "import pandas as pd\n",
    "import numpy as np\n",
    "import keras\n",
    "import os, os.path\n",
    "import tensorflow as tf\n",
    "from keras import layers\n",
    "from keras.models import Model\n",
    "from keras.layers import Dense, Input\n",
    "from keras.datasets import mnist\n",
    "from keras.optimizers import Adam\n",
    "from keras.callbacks import TensorBoard\n",
    "from IPython.display import clear_output\n",
    "from keras.utils.vis_utils import plot_model\n",
    "from keras.layers import Dropout\n",
    "import math"
   ]
  },
  {
   "cell_type": "code",
   "execution_count": 10,
   "metadata": {},
   "outputs": [],
   "source": [
    "def makeLines(array):\n",
    "#     lineStart=5\n",
    "#     lineEnd=18\n",
    "#     arrayLines=np.copy(array)\n",
    "#     for i in range(lineStart, lineEnd):\n",
    "#         arrayLines[i] = np.full_like(array[i], np.nan)\n",
    "#     return arrayLines\n",
    "    specificLinesIndexes = np.array([2,5,6,9,10,11,14,17,19])\n",
    "    arrayLines=np.copy(array)\n",
    "    for index in specificLinesIndexes:\n",
    "        arrayLines[index] = np.full_like(array[index], np.nan)\n",
    "    return arrayLines"
   ]
  },
  {
   "cell_type": "code",
   "execution_count": 39,
   "metadata": {},
   "outputs": [],
   "source": [
    "numberOfFiles=0\n",
    "try: \n",
    "    filesXtrain = os.listdir('../TrainingDataset/x_train/'); \n",
    "    numberOfFiles = len(filesXtrain)\n",
    "except: print('File not found')\n",
    "numberOfFiles-=1\n",
    "testingSetSize = 100\n",
    "mx_train_lines = np.empty((numberOfFiles-testingSetSize,24,144))\n",
    "mx_train = np.empty((numberOfFiles-testingSetSize,24,144))\n",
    "mx_train_lines_nan = np.empty((numberOfFiles-testingSetSize,24,144))\n",
    "mx_test_lines = np.empty((testingSetSize,24,144))\n",
    "mx_test_lines_nan = np.empty((testingSetSize,24,144))\n",
    "mx_test = np.empty((testingSetSize,24,144))\n",
    "mx_test_infos = np.empty((testingSetSize,7), dtype=\"O\")\n",
    "mx_test_base = np.empty((testingSetSize,24,144))\n",
    "allArrays = []\n",
    "for i in range(numberOfFiles):\n",
    "    allArrays.append(np.load('../TrainingDataset/x_train/Y2_{}.npy'.format(i), allow_pickle=True, encoding=\"latin1\"))\n",
    "allArrays = np.asarray(allArrays)\n",
    "\n",
    "for i in range(0,numberOfFiles-testingSetSize):\n",
    "    mx_train[i] = allArrays[i][1]\n",
    "    mx_train_lines[i] = makeLines(mx_train[i])\n",
    "    mx_train_lines_nan[i] = makeLines(mx_train[i])\n",
    "for i in range(numberOfFiles-testingSetSize,numberOfFiles):\n",
    "    mx_test[i-(numberOfFiles-testingSetSize)-1] = allArrays[i][1]\n",
    "    mx_test_lines[i-(numberOfFiles-testingSetSize)-1] = makeLines(mx_test[i-(numberOfFiles-testingSetSize)-1])\n",
    "    mx_test_lines_nan[i-(numberOfFiles-testingSetSize)-1] = makeLines(mx_test[i-(numberOfFiles-testingSetSize)-1])\n",
    "    mx_test_infos[i-(numberOfFiles-testingSetSize)-1] = allArrays[i][2]\n",
    "    mx_test_base = allArrays[i][0]\n",
    "\n",
    "mx_train_lines=np.nan_to_num(mx_train_lines)\n",
    "mx_train=np.nan_to_num(mx_train)\n",
    "mx_test_lines=np.nan_to_num(mx_test_lines)\n",
    "mx_test=np.nan_to_num(mx_test)"
   ]
  },
  {
   "cell_type": "code",
   "execution_count": 14,
   "metadata": {},
   "outputs": [
    {
     "name": "stderr",
     "output_type": "stream",
     "text": [
      "/home/pl/.local/lib/python3.7/site-packages/ipykernel_launcher.py:5: UserWarning: Matplotlib is currently using module://ipykernel.pylab.backend_inline, which is a non-GUI backend, so cannot show the figure.\n",
      "  \"\"\"\n",
      "/home/pl/.local/lib/python3.7/site-packages/ipykernel_launcher.py:9: UserWarning: Matplotlib is currently using module://ipykernel.pylab.backend_inline, which is a non-GUI backend, so cannot show the figure.\n",
      "  if __name__ == '__main__':\n"
     ]
    },
    {
     "data": {
      "image/png": "[encoded data removed]",
      "text/plain": [
       "<Figure size 2160x288 with 1 Axes>"
      ]
     },
     "metadata": {
      "needs_background": "light"
     },
     "output_type": "display_data"
    },
    {
     "data": {
      "image/png": "[encoded data removed]",
      "text/plain": [
       "<Figure size 2160x288 with 1 Axes>"
      ]
     },
     "metadata": {
      "needs_background": "light"
     },
     "output_type": "display_data"
    }
   ],
   "source": [
    "fileNumber = 90\n",
    "\n",
    "fig= plt.figure(figsize=(30,4))\n",
    "plt.imshow(mx_test_lines_nan[fileNumber], origin='lower', cmap=plt.get_cmap('jet', 20) , aspect='auto')\n",
    "fig.show()\n",
    "\n",
    "fig= plt.figure(figsize=(30,4))\n",
    "plt.imshow(mx_test[fileNumber], origin='lower', cmap=plt.get_cmap('jet', 20) , aspect='auto')\n",
    "fig.show()"
   ]
  },
  {
   "cell_type": "code",
   "execution_count": 18,
   "metadata": {},
   "outputs": [],
   "source": [
    "conv_encoder = keras.models.Sequential([\n",
    "    keras.layers.Reshape([24, 144, 1], input_shape=[24, 144], name=\"1\"),\n",
    "    keras.layers.Conv2D(32, kernel_size=3, padding=\"SAME\", activation=\"relu\", name=\"2_First_convolution\"),\n",
    "    keras.layers.Dropout(0.001, name=\"3_First_Dropout\"),\n",
    "    keras.layers.MaxPool2D(pool_size=2, name=\"4_First_Max_Pooling\"),\n",
    "    keras.layers.Conv2D(64, kernel_size=3, padding=\"SAME\", activation=\"relu\", name=\"5_Second_Convolution\"),\n",
    "    keras.layers.MaxPool2D(pool_size=2, name=\"6_Second_Max_Pooling\"),\n",
    "    keras.layers.Conv2D(128, kernel_size=3, padding=\"SAME\", activation=\"relu\", name=\"7_Third_Convolution\"),\n",
    "])\n",
    "conv_decoder = keras.models.Sequential([\n",
    "    keras.layers.Dense(128, input_shape=[6, 36, 128], name=\"1_Neural_Layer_128\"),\n",
    "    keras.layers.Conv2DTranspose(128, kernel_size=2, strides=2, padding=\"VALID\", activation=\"relu\", name=\"2_First_Conv2DTranspose\"),\n",
    "    keras.layers.Conv2DTranspose(64, kernel_size=1, strides=1, padding=\"SAME\", activation=\"relu\", name=\"3_Second_Conv2DTranspose\"),\n",
    "    keras.layers.Dropout(0.001, name=\"4_First_Dropout\"),\n",
    "    keras.layers.Conv2DTranspose(64, kernel_size=3, strides=2, padding=\"SAME\", activation=\"relu\", name=\"5_Third_Conv2DTranspose\"),\n",
    "    keras.layers.Conv2DTranspose(32, kernel_size=1, strides=1, padding=\"SAME\", activation=\"relu\", name=\"6_Fourth_Conv2DTranspose\"),\n",
    "    keras.layers.Conv2DTranspose(1, kernel_size=1, strides=1, padding=\"SAME\", activation=\"sigmoid\", name=\"7_Fifth_Conv2DTranspose\"),\n",
    "    keras.layers.Reshape([24, 144], name=\"8_Reshape_Output\")\n",
    "])\n",
    "conv_ae = keras.models.Sequential([conv_encoder, conv_decoder])"
   ]
  },
  {
   "cell_type": "code",
   "execution_count": 24,
   "metadata": {},
   "outputs": [
    {
     "name": "stdout",
     "output_type": "stream",
     "text": [
      "Epoch 1/1\n",
      "6399/6399 [==============================] - 54s 8ms/step - loss: 0.0064\n"
     ]
    },
    {
     "data": {
      "text/plain": [
       "<keras.callbacks.callbacks.History at 0x7fa70604d4d0>"
      ]
     },
     "execution_count": 24,
     "metadata": {},
     "output_type": "execute_result"
    }
   ],
   "source": [
    "opt = keras.optimizers.Adam(learning_rate=0.001)\n",
    "conv_ae.compile(loss=\"mse\", optimizer=opt)\n",
    "conv_ae.fit(mx_train_lines, mx_train, epochs=1, batch_size=512, shuffle=True)\n",
    "# history = conv_ae.fit(mx_train_lines, mx_train, epochs=5, batch_size=1, shuffle=True)"
   ]
  },
  {
   "cell_type": "code",
   "execution_count": 45,
   "metadata": {},
   "outputs": [],
   "source": [
    "numberOfPlots = 10\n",
    "# fig, axs = plt.subplots(numberOfPlots,3, figsize=(25, 20), facecolor='w', edgecolor='k')\n",
    "# fig.subplots_adjust(hspace = .5, wspace=.1)\n",
    "\n",
    "# axs = axs.ravel().reshape(numberOfPlots,3)\n",
    "testPlotsIndex = 10\n",
    "for y in range(numberOfPlots):\n",
    "    prediction = conv_ae.predict(np.expand_dims(mx_test_lines[testPlotsIndex+y],0)).reshape(24,144)\n",
    "    for i in range(mx_test_lines_nan[testPlotsIndex+y].shape[0]):\n",
    "        if np.sum(mx_test_lines_nan[testPlotsIndex+y][i]) is math.nan:\n",
    "            mx_test_lines_nan[testPlotsIndex+y][i] = prediction[i]\n",
    "        \n",
    "    finalArray = np.array([mx_test_base[testPlotsIndex+y], mx_test[testPlotsIndex+y], mx_test_lines_nan[testPlotsIndex+y], prediction, mx_test_infos[testPlotsIndex+y]])\n",
    "    np.save(\"AE_training_results/AE_training_matrix{}\".format(y), finalArray)\n",
    "    \n",
    "#         axs[y][0].imshow(mx_test[testPlotsIndex+y], origin='lower', cmap=plt.get_cmap('jet') , aspect='auto')\n",
    "#         axs[y][0].set_title(\"Truth\")\n",
    "#         axs[y][1].imshow(mx_test_lines_nan[testPlotsIndex+y], origin='lower', cmap=plt.get_cmap('jet') , aspect='auto')\n",
    "#         axs[y][1].set_title(\"Truth with gaps\")\n",
    "#         axs[y][2].imshow(conv_ae.predict(np.expand_dims(mx_test_lines[testPlotsIndex+y],0)).reshape(24,144), origin='lower', cmap=plt.get_cmap('jet') , aspect='auto')\n",
    "#         axs[y][2].set_title(\"CAE reconstruction\")\n",
    "\n",
    "# fig.suptitle(\"{} reconstructions of X2 with a Deep Convolutional Autoencoder network based on a {} samples training set\".format(numberOfPlots, numberOfFiles),fontsize=20)\n",
    "# fig.savefig(\"Predictions\")"
   ]
  },
  {
   "cell_type": "code",
   "execution_count": 24,
   "metadata": {},
   "outputs": [
    {
     "ename": "NotImplementedError",
     "evalue": "Cannot convert a symbolic Tensor (max_pooling2d_9/MaxPool:0) to a numpy array.",
     "output_type": "error",
     "traceback": [
      "\u001b[0;31m---------------------------------------------------------------------------\u001b[0m",
      "\u001b[0;31mNotImplementedError\u001b[0m                       Traceback (most recent call last)",
      "\u001b[0;32m<ipython-input-24-db76bf536292>\u001b[0m in \u001b[0;36m<module>\u001b[0;34m()\u001b[0m\n\u001b[1;32m     10\u001b[0m \u001b[0;34m\u001b[0m\u001b[0m\n\u001b[1;32m     11\u001b[0m \u001b[0mencoded\u001b[0m \u001b[0;34m=\u001b[0m \u001b[0mlayers\u001b[0m\u001b[0;34m.\u001b[0m\u001b[0mMaxPooling2D\u001b[0m\u001b[0;34m(\u001b[0m\u001b[0;34m(\u001b[0m\u001b[0;36m2\u001b[0m\u001b[0;34m,\u001b[0m \u001b[0;36m2\u001b[0m\u001b[0;34m)\u001b[0m\u001b[0;34m,\u001b[0m \u001b[0mpadding\u001b[0m\u001b[0;34m=\u001b[0m\u001b[0;34m'same'\u001b[0m\u001b[0;34m)\u001b[0m\u001b[0;34m(\u001b[0m\u001b[0mx\u001b[0m\u001b[0;34m)\u001b[0m\u001b[0;34m\u001b[0m\u001b[0m\n\u001b[0;32m---> 12\u001b[0;31m \u001b[0mmx_train_codes\u001b[0m \u001b[0;34m=\u001b[0m \u001b[0mnp\u001b[0m\u001b[0;34m.\u001b[0m\u001b[0mappend\u001b[0m\u001b[0;34m(\u001b[0m\u001b[0mmx_train_codes\u001b[0m\u001b[0;34m,\u001b[0m \u001b[0mencoded\u001b[0m\u001b[0;34m,\u001b[0m \u001b[0mnp\u001b[0m\u001b[0;34m.\u001b[0m\u001b[0mnewaxis\u001b[0m\u001b[0;34m)\u001b[0m\u001b[0;34m\u001b[0m\u001b[0m\n\u001b[0m\u001b[1;32m     13\u001b[0m \u001b[0;34m\u001b[0m\u001b[0m\n\u001b[1;32m     14\u001b[0m \u001b[0mx\u001b[0m \u001b[0;34m=\u001b[0m \u001b[0mlayers\u001b[0m\u001b[0;34m.\u001b[0m\u001b[0mConv2D\u001b[0m\u001b[0;34m(\u001b[0m\u001b[0;36m8\u001b[0m\u001b[0;34m,\u001b[0m \u001b[0;34m(\u001b[0m\u001b[0;36m3\u001b[0m\u001b[0;34m,\u001b[0m \u001b[0;36m3\u001b[0m\u001b[0;34m)\u001b[0m\u001b[0;34m,\u001b[0m \u001b[0mactivation\u001b[0m\u001b[0;34m=\u001b[0m\u001b[0;34m'relu'\u001b[0m\u001b[0;34m,\u001b[0m \u001b[0mpadding\u001b[0m\u001b[0;34m=\u001b[0m\u001b[0;34m'same'\u001b[0m\u001b[0;34m)\u001b[0m\u001b[0;34m(\u001b[0m\u001b[0mencoded\u001b[0m\u001b[0;34m)\u001b[0m\u001b[0;34m\u001b[0m\u001b[0m\n",
      "\u001b[0;32m/home/cristille/anaconda3/envs/py27/lib/python2.7/site-packages/numpy/lib/function_base.pyc\u001b[0m in \u001b[0;36mappend\u001b[0;34m(arr, values, axis)\u001b[0m\n\u001b[1;32m   4690\u001b[0m         \u001b[0;32mif\u001b[0m \u001b[0marr\u001b[0m\u001b[0;34m.\u001b[0m\u001b[0mndim\u001b[0m \u001b[0;34m!=\u001b[0m \u001b[0;36m1\u001b[0m\u001b[0;34m:\u001b[0m\u001b[0;34m\u001b[0m\u001b[0m\n\u001b[1;32m   4691\u001b[0m             \u001b[0marr\u001b[0m \u001b[0;34m=\u001b[0m \u001b[0marr\u001b[0m\u001b[0;34m.\u001b[0m\u001b[0mravel\u001b[0m\u001b[0;34m(\u001b[0m\u001b[0;34m)\u001b[0m\u001b[0;34m\u001b[0m\u001b[0m\n\u001b[0;32m-> 4692\u001b[0;31m         \u001b[0mvalues\u001b[0m \u001b[0;34m=\u001b[0m \u001b[0mravel\u001b[0m\u001b[0;34m(\u001b[0m\u001b[0mvalues\u001b[0m\u001b[0;34m)\u001b[0m\u001b[0;34m\u001b[0m\u001b[0m\n\u001b[0m\u001b[1;32m   4693\u001b[0m         \u001b[0maxis\u001b[0m \u001b[0;34m=\u001b[0m \u001b[0marr\u001b[0m\u001b[0;34m.\u001b[0m\u001b[0mndim\u001b[0m\u001b[0;34m-\u001b[0m\u001b[0;36m1\u001b[0m\u001b[0;34m\u001b[0m\u001b[0m\n\u001b[1;32m   4694\u001b[0m     \u001b[0;32mreturn\u001b[0m \u001b[0mconcatenate\u001b[0m\u001b[0;34m(\u001b[0m\u001b[0;34m(\u001b[0m\u001b[0marr\u001b[0m\u001b[0;34m,\u001b[0m \u001b[0mvalues\u001b[0m\u001b[0;34m)\u001b[0m\u001b[0;34m,\u001b[0m \u001b[0maxis\u001b[0m\u001b[0;34m=\u001b[0m\u001b[0maxis\u001b[0m\u001b[0;34m)\u001b[0m\u001b[0;34m\u001b[0m\u001b[0m\n",
      "\u001b[0;32m/home/cristille/anaconda3/envs/py27/lib/python2.7/site-packages/numpy/core/fromnumeric.pyc\u001b[0m in \u001b[0;36mravel\u001b[0;34m(a, order)\u001b[0m\n\u001b[1;32m   1685\u001b[0m         \u001b[0;32mreturn\u001b[0m \u001b[0masarray\u001b[0m\u001b[0;34m(\u001b[0m\u001b[0ma\u001b[0m\u001b[0;34m)\u001b[0m\u001b[0;34m.\u001b[0m\u001b[0mravel\u001b[0m\u001b[0;34m(\u001b[0m\u001b[0morder\u001b[0m\u001b[0;34m=\u001b[0m\u001b[0morder\u001b[0m\u001b[0;34m)\u001b[0m\u001b[0;34m\u001b[0m\u001b[0m\n\u001b[1;32m   1686\u001b[0m     \u001b[0;32melse\u001b[0m\u001b[0;34m:\u001b[0m\u001b[0;34m\u001b[0m\u001b[0m\n\u001b[0;32m-> 1687\u001b[0;31m         \u001b[0;32mreturn\u001b[0m \u001b[0masanyarray\u001b[0m\u001b[0;34m(\u001b[0m\u001b[0ma\u001b[0m\u001b[0;34m)\u001b[0m\u001b[0;34m.\u001b[0m\u001b[0mravel\u001b[0m\u001b[0;34m(\u001b[0m\u001b[0morder\u001b[0m\u001b[0;34m=\u001b[0m\u001b[0morder\u001b[0m\u001b[0;34m)\u001b[0m\u001b[0;34m\u001b[0m\u001b[0m\n\u001b[0m\u001b[1;32m   1688\u001b[0m \u001b[0;34m\u001b[0m\u001b[0m\n\u001b[1;32m   1689\u001b[0m \u001b[0;34m\u001b[0m\u001b[0m\n",
      "\u001b[0;32m/home/cristille/anaconda3/envs/py27/lib/python2.7/site-packages/numpy/core/numeric.pyc\u001b[0m in \u001b[0;36masanyarray\u001b[0;34m(a, dtype, order)\u001b[0m\n\u001b[1;32m    589\u001b[0m \u001b[0;34m\u001b[0m\u001b[0m\n\u001b[1;32m    590\u001b[0m     \"\"\"\n\u001b[0;32m--> 591\u001b[0;31m     \u001b[0;32mreturn\u001b[0m \u001b[0marray\u001b[0m\u001b[0;34m(\u001b[0m\u001b[0ma\u001b[0m\u001b[0;34m,\u001b[0m \u001b[0mdtype\u001b[0m\u001b[0;34m,\u001b[0m \u001b[0mcopy\u001b[0m\u001b[0;34m=\u001b[0m\u001b[0mFalse\u001b[0m\u001b[0;34m,\u001b[0m \u001b[0morder\u001b[0m\u001b[0;34m=\u001b[0m\u001b[0morder\u001b[0m\u001b[0;34m,\u001b[0m \u001b[0msubok\u001b[0m\u001b[0;34m=\u001b[0m\u001b[0mTrue\u001b[0m\u001b[0;34m)\u001b[0m\u001b[0;34m\u001b[0m\u001b[0m\n\u001b[0m\u001b[1;32m    592\u001b[0m \u001b[0;34m\u001b[0m\u001b[0m\n\u001b[1;32m    593\u001b[0m \u001b[0;34m\u001b[0m\u001b[0m\n",
      "\u001b[0;32m/home/cristille/anaconda3/envs/py27/lib/python2.7/site-packages/tensorflow_core/python/framework/ops.pyc\u001b[0m in \u001b[0;36m__array__\u001b[0;34m(self)\u001b[0m\n\u001b[1;32m    726\u001b[0m   \u001b[0;32mdef\u001b[0m \u001b[0m__array__\u001b[0m\u001b[0;34m(\u001b[0m\u001b[0mself\u001b[0m\u001b[0;34m)\u001b[0m\u001b[0;34m:\u001b[0m\u001b[0;34m\u001b[0m\u001b[0m\n\u001b[1;32m    727\u001b[0m     raise NotImplementedError(\"Cannot convert a symbolic Tensor ({}) to a numpy\"\n\u001b[0;32m--> 728\u001b[0;31m                               \" array.\".format(self.name))\n\u001b[0m\u001b[1;32m    729\u001b[0m \u001b[0;34m\u001b[0m\u001b[0m\n\u001b[1;32m    730\u001b[0m   \u001b[0;32mdef\u001b[0m \u001b[0m__len__\u001b[0m\u001b[0;34m(\u001b[0m\u001b[0mself\u001b[0m\u001b[0;34m)\u001b[0m\u001b[0;34m:\u001b[0m\u001b[0;34m\u001b[0m\u001b[0m\n",
      "\u001b[0;31mNotImplementedError\u001b[0m: Cannot convert a symbolic Tensor (max_pooling2d_9/MaxPool:0) to a numpy array."
     ]
    }
   ],
   "source": [
    "#CONVOLUTIONAL AUTOENCODER OLD VERSION\n",
    "\n",
    "input_img = keras.Input(shape=(20, 144, 1))\n",
    "\n",
    "x = layers.Conv2D(16, (3, 3), activation='relu', padding='same')(input_img)\n",
    "x = layers.MaxPooling2D((2, 2), padding='same')(x)\n",
    "x = layers.Conv2D(8, (3, 3), activation='relu', padding='same')(x)\n",
    "x = layers.MaxPooling2D((2, 2), padding='same')(x)\n",
    "x = layers.Conv2D(8, (3, 3), activation='relu', padding='same')(x)\n",
    "\n",
    "encoded = layers.MaxPooling2D((2, 2), padding='same')(x)\n",
    "\n",
    "\n",
    "x = layers.Conv2D(8, (3, 3), activation='relu', padding='same')(encoded)\n",
    "x = layers.UpSampling2D((2, 2))(x)\n",
    "x = layers.Conv2D(8, (3, 3), activation='relu', padding='same')(x)\n",
    "x = layers.UpSampling2D((2, 2))(x)\n",
    "x = layers.Conv2D(16, (3, 1), activation='relu')(x)\n",
    "x = layers.UpSampling2D((2, 2))(x)\n",
    "decoded = layers.Conv2D(1, (3, 3), activation='sigmoid', padding='same')(x)\n",
    "\n",
    "convolutional_autoencoder = keras.Model(input_img, decoded)\n",
    "convolutional_autoencoder.compile(optimizer='adam', loss='mse')\n",
    "\n",
    "convolutional_autoencoder._get_distribution_strategy = lambda: None\n",
    "convolutional_autoencoder.fit(mx_train_lines, mx_train, epochs=10, batch_size=5, shuffle=True)"
   ]
  },
  {
   "cell_type": "code",
   "execution_count": null,
   "metadata": {},
   "outputs": [],
   "source": [
    "# PLOT WITH RMSE\n",
    "\n",
    "from sklearn.metrics import mean_squared_error\n",
    "from sklearn.preprocessing import Imputer\n",
    "\n",
    "RMSE_array_true=np.full([numberOfPlots*mx_test.shape[1],1],np.nan)\n",
    "RMSE_array_pred=np.full([numberOfPlots*mx_test.shape[1],1],np.nan)\n",
    "\n",
    "numberOfPlots = 10\n",
    "fig, axs = plt.subplots(numberOfPlots,3, figsize=(25, 20), facecolor='w', edgecolor='k')\n",
    "fig.subplots_adjust(hspace = .5, wspace=.1)\n",
    "\n",
    "axs = axs.ravel().reshape(numberOfPlots,3)\n",
    "testPlotsIndex = 60\n",
    "for y in range(numberOfPlots):\n",
    "    \n",
    "        for i in range(mx_test.shape[1]):\n",
    "            RMSE_array_pred = np.append(RMSE_array_pred,conv_ae.predict(np.expand_dims(mx_test_lines[testPlotsIndex+y],0)).reshape(20,144))\n",
    "            RMSE_array_true = np.append(RMSE_array_true,mx_test[testPlotsIndex+y])\n",
    "            \n",
    "            imp = Imputer(missing_values=np.nan, strategy='mean')\n",
    "            RMSE_array_pred=imp.fit_transform(RMSE_array_pred.reshape(RMSE_array_pred.shape[0],1)).reshape(RMSE_array_pred.shape[0])\n",
    "            RMSE_array_true=imp.fit_transform(RMSE_array_true.reshape(RMSE_array_true.shape[0],1)).reshape(RMSE_array_true.shape[0])\n",
    "            \n",
    "            PRMSE = np.round(mean_squared_error(RMSE_array_true,RMSE_array_pred),5)\n",
    "    \n",
    "    \n",
    "        axs[y][0].imshow(mx_test[testPlotsIndex+y], origin='lower', cmap=plt.get_cmap('jet', 20) , aspect='auto')\n",
    "        axs[y][0].set_title(\"Truth\")\n",
    "        axs[y][1].imshow(mx_test_lines_nan[testPlotsIndex+y], origin='lower', cmap=plt.get_cmap('jet', 20) , aspect='auto')\n",
    "        axs[y][1].set_title(\"Truth with gaps\")\n",
    "        axs[y][2].imshow(conv_ae.predict(np.expand_dims(mx_test_lines[testPlotsIndex+y],0)).reshape(20,144), origin='lower', cmap=plt.get_cmap('jet', 20) , aspect='auto')\n",
    "        axs[y][2].set_title(\"CAE reconstruction, accuracy: {}%\".format(PRMSE))\n",
    "fig.savefig(\"Predictions\")"
   ]
  },
  {
   "cell_type": "code",
   "execution_count": null,
   "metadata": {},
   "outputs": [],
   "source": []
  }
 ],
 "metadata": {
  "kernelspec": {
   "display_name": "Python 3",
   "language": "python",
   "name": "python3"
  },
  "language_info": {
   "codemirror_mode": {
    "name": "ipython",
    "version": 3
   },
   "file_extension": ".py",
   "mimetype": "text/x-python",
   "name": "python",
   "nbconvert_exporter": "python",
   "pygments_lexer": "ipython3",
   "version": "3.7.4"
  }
 },
 "nbformat": 4,
 "nbformat_minor": 4
}
