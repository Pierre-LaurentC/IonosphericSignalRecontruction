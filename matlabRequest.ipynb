{
 "cells": [
  {
   "cell_type": "code",
   "execution_count": 1,
   "metadata": {},
   "outputs": [],
   "source": [
    "import matlab.engine\n",
    "import matplotlib as mpl\n",
    "import matplotlib.pyplot as plt\n",
    "import numpy as np\n",
    "import pandas as pd\n",
    "import sys\n",
    "import datetime\n",
    "from scipy.io import loadmat\n",
    "from collections import defaultdict\n",
    "\n",
    "eng = matlab.engine.start_matlab()"
   ]
  },
  {
   "cell_type": "code",
   "execution_count": 185,
   "metadata": {},
   "outputs": [],
   "source": [
    "year = 2015\n",
    "month = 3\n",
    "day = 10\n",
    "hour = 0\n",
    "minute = 0\n",
    "second = 0\n",
    "\n",
    "startDateMatlab = [year, month, day, hour, minute, second]\n",
    "endDateMatlab = [year, month, day, hour+23, minute+59, second+59]\n",
    "\n",
    "startDate = datetime.datetime(year, month, day, hour, minute, second)\n",
    "endDate = datetime.datetime(year, month, day, hour+23, minute+59, second+59)\n",
    "\n",
    "\n",
    "stationsWithNoData = []\n",
    "stationsNonexistentInFolder = []\n",
    "stationsOut = dict()\n",
    "dotsX=[]\n",
    "dotsY=[]\n",
    "dotsHeights=[]\n",
    "stationIndicatorVariation = defaultdict(list)\n",
    "\n",
    "mat = loadmat(\"../../../../opt/dir.indices/station.mat\")\n",
    "\n",
    "allMatData = mat.get(\"station\", \"none\")[0]\n",
    "allStationCodes=[]\n",
    "\n",
    "for x in allMatData:\n",
    "    allStationCodes.append(x[1][0])\n",
    "    "
   ]
  },
  {
   "cell_type": "code",
   "execution_count": 186,
   "metadata": {},
   "outputs": [
    {
     "name": "stdout",
     "output_type": "stream",
     "text": [
      "CPU times: user 435 ms, sys: 53.2 ms, total: 489 ms\n",
      "Wall time: 4 s\n"
     ]
    }
   ],
   "source": [
    "%%time\n",
    "for st in allStationCodes: \n",
    "    try:\n",
    "        stationsOut[st] = eng.indices_alpha(matlab.double(startDateMatlab), matlab.double(endDateMatlab),str(st))\n",
    "    except:\n",
    "        stationsNonexistentInFolder.append(st)"
   ]
  },
  {
   "cell_type": "code",
   "execution_count": 187,
   "metadata": {},
   "outputs": [
    {
     "name": "stdout",
     "output_type": "stream",
     "text": [
      "CPU times: user 179 ms, sys: 42.2 ms, total: 221 ms\n",
      "Wall time: 165 ms\n"
     ]
    }
   ],
   "source": [
    "%%time\n",
    "from collections import OrderedDict\n",
    "\n",
    "stationsYearMagPosition = OrderedDict(OrderedDict())\n",
    "stationPosition = OrderedDict()  \n",
    "\n",
    "for x in allMatData:  \n",
    "    stationsYearMagPosition[str(x[1][0])] = OrderedDict()  \n",
    "    try:\n",
    "        for i in range(len(x[5][0])):\n",
    "            stationPosition[x[5][0][i]] = x[9][0][i], x[10][0][i]\n",
    "            stationsYearMagPosition[str(x[1][0])] = stationPosition.copy()\n",
    "    except:\n",
    "        print(\"no value\")"
   ]
  },
  {
   "cell_type": "code",
   "execution_count": 232,
   "metadata": {},
   "outputs": [],
   "source": [
    "def IndicatorCalculation(dataSt, timeshift, currentDate):\n",
    "    \n",
    "    a1=np.float32(dataSt.get(\"a1\")[timeshift])\n",
    "#     x=np.float32(dataSt.get(\"x\")[timeshift])\n",
    "    x1=np.float32(dataSt.get(\"x1\")[timeshift])\n",
    "    x2=np.float32(dataSt.get(\"x2\")[timeshift])\n",
    "#     x3=np.float32(dataSt.get(\"x3\")[timeshift])\n",
    "#     x4=np.float32(dataSt.get(\"x4\")[timeshift])\n",
    "#     y=np.float32(dataSt.get(\"y\")[timeshift])\n",
    "    y1=np.float32(dataSt.get(\"y1\")[timeshift])\n",
    "#     y2=np.float32(dataSt.get(\"y2\")[timeshift])\n",
    "#     y3=np.float32(dataSt.get(\"y3\")[timeshift])\n",
    "#     y4=np.float32(dataSt.get(\"y4\")[timeshift])\n",
    "    z1=np.float32(dataSt.get(\"z1\")[timeshift])\n",
    "    stLongeo=np.float32(dataSt.get(\"longeo\"))\n",
    "    stLatgeo=np.float32(dataSt.get(\"latgeo\"))\n",
    "    stAlt=np.float32(dataSt.get(\"alt\"))\n",
    "    \n",
    "    currentDateMatlab = [currentDate.year, currentDate.month, currentDate.day, currentDate.hour, currentDate.minute, currentDate.second]\n",
    "    \n",
    "    b=eng.igrf(matlab.double([stLongeo]), matlab.double([stLatgeo]), matlab.double([stAlt]), matlab.double([currentDateMatlab]), nargout=4)\n",
    "    \n",
    "    ratio = (((math.sqrt(pow(x1, 2)+pow(y1, 2)+pow(z1, 2)))/b[3])-1)*100\n",
    "#     indicator = gaussian(ratio, 1, 0)\n",
    "    return np.round(x2,10)"
   ]
  },
  {
   "cell_type": "code",
   "execution_count": 233,
   "metadata": {},
   "outputs": [],
   "source": [
    "from IPython.display import clear_output\n",
    "\n",
    "def drawMap(timeshift, date):\n",
    "    clear_output(wait=True)\n",
    "    plt.clf()\n",
    "    w = 12\n",
    "    h = 6\n",
    "    d = 100\n",
    "    x = range(360)\n",
    "    y = range (180)\n",
    "#     img = plt.imread(\"map2.png\")\n",
    "    plt.figure(figsize=(w, h), dpi=d)\n",
    "#     plt.imshow(img, extent=[-180, 180, -90, 90])\n",
    "    global dotsX\n",
    "    del dotsX[:]\n",
    "    global dotsY\n",
    "    del dotsY[:]\n",
    "    global dotsHeights\n",
    "    del dotsHeights[:]\n",
    "    \n",
    "    \n",
    "    for st in allStationCodes:\n",
    "        if st != \"ipm\":\n",
    "            try:\n",
    "                stationIndicatorVariation[st].append(IndicatorCalculation(stationsOut.get(st), timeshift, date))\n",
    "                dotsHeights.append(IndicatorCalculation(stationsOut.get(st), timeshift, date))\n",
    "                if stationsOut.get(st).get(\"longeo\")>180:\n",
    "                    dotsX.append(stationsOut.get(st).get(\"longeo\")-360)\n",
    "                else:\n",
    "                    dotsX.append(stationsOut.get(st).get(\"longeo\"))\n",
    "                dotsY.append(stationsOut.get(st).get(\"latgeo\"))\n",
    "            except:\n",
    "                stationsWithNoData.append(st)\n",
    "        else:\n",
    "            None\n",
    "                \n",
    "    if not dotsX or not dotsY or not dotsHeights:\n",
    "        print(\"No data given! Is the current date out of bounds? Current date: {} __ Max date: {}\".format(date, endDate))\n",
    "    else:\n",
    "        contourMap()\n",
    "        plt.colorbar()\n",
    "        plt.suptitle(str(date), fontsize=14, fontweight='bold')\n",
    "        plt.xlabel('longitude')\n",
    "        plt.ylabel('latitude')\n",
    "        plt.show()"
   ]
  },
  {
   "cell_type": "code",
   "execution_count": 234,
   "metadata": {},
   "outputs": [],
   "source": [
    "from scipy.interpolate import griddata\n",
    "import math\n",
    "\n",
    "\n",
    "def contourMap():\n",
    "    global dotsX\n",
    "    global dotsY\n",
    "    global dotsHeights\n",
    "    \n",
    "    for i in range(len(dotsHeights)):\n",
    "        if math.isnan(dotsHeights[i]): dotsHeights[i]= 0\n",
    "\n",
    "    xi = np.arange(-180,180,1)\n",
    "    yi = np.arange(-90,90,1)\n",
    "    xi,yi = np.meshgrid(xi,yi)\n",
    "\n",
    "    zi = griddata((dotsX,dotsY),dotsHeights,(xi,yi),method='linear')\n",
    "    \n",
    "    plt.contourf(xi,yi,zi,np.arange(min(dotsHeights),max(dotsHeights)+0.1,0.1), cmap = \"coolwarm\")\n",
    "    plt.plot(dotsX,dotsY,'k.')"
   ]
  },
  {
   "cell_type": "code",
   "execution_count": 235,
   "metadata": {},
   "outputs": [],
   "source": [
    "def AbsoluteValue(array):\n",
    "    return (abs(max(array))+abs(min(array)))/2\n",
    "def gaussian(x, a, b, c):\n",
    "    return a*math.exp(-np.power((x-b),2)/(2*np.power(c,2)))\n",
    "\n",
    "\n",
    "# x = np.linspace(-20, 50, 1000)\n",
    "# fig= plt.figure(figsize=(20,8))\n",
    "# axes= fig.add_axes([0.8,0.8,0.8,0.8])\n",
    "# gauss = np.vectorize(gaussian)\n",
    "# print(gaussian(6, 1, 0, AbsoluteValue(x)))\n",
    "# axes.plot(x, gauss(x, 1, 0, AbsoluteValue(x)))\n",
    "# plt.show()"
   ]
  },
  {
   "cell_type": "code",
   "execution_count": 249,
   "metadata": {},
   "outputs": [
    {
     "name": "stdout",
     "output_type": "stream",
     "text": [
      "CPU times: user 10.7 s, sys: 483 ms, total: 11.2 s\n",
      "Wall time: 16.8 s\n"
     ]
    }
   ],
   "source": [
    "%%time\n",
    "stationIndicatorVariation.clear()\n",
    "stationName = \"clf\"\n",
    "timeBetweenValues = 20\n",
    "dataResolution = 0\n",
    "dataBeforeNormalizaton = np.array([])\n",
    "\n",
    "if 360%(1440/timeBetweenValues)==0:\n",
    "    dataResolution = 360/(1440/timeBetweenValues)\n",
    "    \n",
    "    for st in allStationCodes:\n",
    "        delta = endDate-startDate\n",
    "        totalMinutes = (delta.total_seconds()+1)/60\n",
    "        for i in range(0, np.int16(totalMinutes+1), timeBetweenValues):\n",
    "            try:\n",
    "                update = datetime.timedelta(minutes=i)\n",
    "                currentDate = startDate+update\n",
    "                stationIndicatorVariation[st].append(float(IndicatorCalculation(stationsOut.get(st), i, currentDate)))\n",
    "            except:\n",
    "                None\n",
    "            \n",
    "else:\n",
    "    print(\"!ERROR! -- Your timeBetweenValues must be a multiple of the chosen time delta's amount of minutes -- !ERROR!\")\n",
    "    sys.exit\n",
    "\n"
   ]
  },
  {
   "cell_type": "code",
   "execution_count": 237,
   "metadata": {},
   "outputs": [],
   "source": [
    "normalizedStationIndicatorVariation = defaultdict(list)\n",
    "def NormalizeData():\n",
    "    for st in allStationCodes:\n",
    "        for i in range(0, len(stationIndicatorVariation[st])):\n",
    "            normalizedStationIndicatorVariation[st].append(gaussian(stationIndicatorVariation[st][i], 1, 0, AbsoluteValue(stationIndicatorVariation[st])))\n",
    "\n",
    "NormalizeData()"
   ]
  },
  {
   "cell_type": "code",
   "execution_count": 250,
   "metadata": {},
   "outputs": [
    {
     "data": {
      "image/png": "[encoded data removed]",
      "text/plain": [
       "<Figure size 1440x576 with 1 Axes>"
      ]
     },
     "metadata": {
      "needs_background": "light"
     },
     "output_type": "display_data"
    }
   ],
   "source": [
    "y = np.array(stationIndicatorVariation[\"clf\"])\n",
    "x = np.arange(0, i, timeBetweenValues)\n",
    "fig= plt.figure(figsize=(20,8))\n",
    "axes= fig.add_axes([0.8,0.8,0.8,0.8])\n",
    "axes.plot(x,y)\n",
    "plt.show()"
   ]
  },
  {
   "cell_type": "code",
   "execution_count": 51,
   "metadata": {},
   "outputs": [
    {
     "data": {
      "application/vnd.jupyter.widget-view+json": {
       "model_id": "8e083762e01b4a4db3e6977be00a1fbd",
       "version_major": 2,
       "version_minor": 0
      },
      "text/plain": [
       "VkJveChjaGlsZHJlbj0oSEJveChjaGlsZHJlbj0oQnV0dG9uKGRlc2NyaXB0aW9uPXUnLTYwIG1pbnV0ZShzKScsIHN0eWxlPUJ1dHRvblN0eWxlKCkpLCBCdXR0b24oZGVzY3JpcHRpb249dSfigKY=\n"
      ]
     },
     "metadata": {},
     "output_type": "display_data"
    }
   ],
   "source": [
    "from IPython.display import display\n",
    "import ipywidgets as widgets\n",
    "\n",
    "time=0\n",
    "timeshift=60\n",
    "\n",
    "\n",
    "upButton = widgets.Button(description=\"+{} minute(s)\".format(timeshift))\n",
    "downButton = widgets.Button(description=\"-{} minute(s)\".format(timeshift))\n",
    "output = widgets.Output()\n",
    "\n",
    "def on_upButton_clicked(b):\n",
    "    global timeshift\n",
    "    global time\n",
    "    global startDate\n",
    "    time+=timeshift\n",
    "    update = datetime.timedelta(minutes=time)\n",
    "    currentDate = startDate+update\n",
    "    with output:\n",
    "        drawMap(time, currentDate);\n",
    "\n",
    "upButton.on_click(on_upButton_clicked)\n",
    "\n",
    "\n",
    "def on_downButton_clicked(b):\n",
    "    global timeshift\n",
    "    global time\n",
    "    global startDate\n",
    "    time-=timeshift\n",
    "    update = datetime.timedelta(minutes=time)\n",
    "    currentDate = startDate+update\n",
    "    with output:\n",
    "        drawMap(time, currentDate);\n",
    "\n",
    "downButton.on_click(on_downButton_clicked)\n",
    "\n",
    "\n",
    "\n",
    "buttons = widgets.HBox([downButton, upButton])\n",
    "widgets.VBox([buttons, output])"
   ]
  },
  {
   "cell_type": "code",
   "execution_count": 239,
   "metadata": {},
   "outputs": [],
   "source": [
    "def AdaptDimensions(vector):\n",
    "    outputVector=np.array([])\n",
    "    shift=360/vector.shape[0]\n",
    "    for y in range(0, vector.shape[0]):\n",
    "        for i in range(0, shift):\n",
    "            outputVector = np.append(outputVector, vector[y])\n",
    "    return outputVector"
   ]
  },
  {
   "cell_type": "code",
   "execution_count": 308,
   "metadata": {},
   "outputs": [],
   "source": [
    "indicatorVariationArray = np.full((180, 360), np.nan)\n",
    "for st in allStationCodes:\n",
    "    for i in range(-90, 90):\n",
    "        try:\n",
    "            if i == np.round(np.int16(stationsOut[st].get(\"latgeo\")),0):\n",
    "                if i<0:\n",
    "                    indicatorVariationArray[i+90]=AdaptDimensions(np.array(stationIndicatorVariation[st]))\n",
    "                else:\n",
    "                    indicatorVariationArray[i+90]=AdaptDimensions(np.array(stationIndicatorVariation[st]))\n",
    "            else:\n",
    "                None\n",
    "        except:\n",
    "            None"
   ]
  },
  {
   "cell_type": "code",
   "execution_count": 167,
   "metadata": {},
   "outputs": [
    {
     "name": "stdout",
     "output_type": "stream",
     "text": [
      "CPU times: user 29 µs, sys: 1e+03 ns, total: 30 µs\n",
      "Wall time: 45.1 µs\n"
     ]
    }
   ],
   "source": [
    "%%time\n",
    "def PredictIndicatorThroughTime(wantedLatitude):\n",
    "    timePrediction = np.full((360), np.inf)\n",
    "    for i in range(0, 360, dataResolution):\n",
    "        result = GetIndicatorLongPrediction(wantedLatitude,i)\n",
    "        for y in range(i,i+dataResolution):\n",
    "            timePrediction[y] = result\n",
    "    return timePrediction\n",
    "\n",
    "def AddTimePredictionToGlobal(prediction, latitude):\n",
    "    indicatorVariationArray[latitude] = prediction\n",
    "    \n",
    "# AddTimePredictionToGlobal(PredictIndicatorThroughTime(90), 90)"
   ]
  },
  {
   "cell_type": "code",
   "execution_count": 306,
   "metadata": {},
   "outputs": [
    {
     "name": "stdout",
     "output_type": "stream",
     "text": [
      "CPU times: user 4 µs, sys: 1e+03 ns, total: 5 µs\n",
      "Wall time: 11 µs\n"
     ]
    },
    {
     "name": "stderr",
     "output_type": "stream",
     "text": [
      "/home/cristille/anaconda3/envs/py27/lib/python2.7/site-packages/ipykernel_launcher.py:15: DeprecationWarning: using a non-integer array as obj in delete will result in an error in the future\n",
      "  from ipykernel import kernelapp as app\n",
      "/home/cristille/anaconda3/envs/py27/lib/python2.7/site-packages/ipykernel_launcher.py:16: DeprecationWarning: using a non-integer array as obj in delete will result in an error in the future\n",
      "  app.launch_new_instance()\n"
     ]
    }
   ],
   "source": [
    "%time\n",
    "def PredictIndicatorForAllLatitudes():\n",
    "    for i in range(0,180):\n",
    "        specificLatitudeTimePrediction = np.full((360), np.inf)\n",
    "        if math.isinf(indicatorVariationArray[i][0]) or math.isnan(indicatorVariationArray[i][0]):\n",
    "            for y in range(0,360,dataResolution):\n",
    "                result = GetIndicatorLongPrediction(i,y)\n",
    "                for t in range(y,y+dataResolution):\n",
    "                    specificLatitudeTimePrediction[t] = result\n",
    "            indicatorVariationArray[i] = specificLatitudeTimePrediction\n",
    "\n",
    "PredictIndicatorForAllLatitudes()"
   ]
  },
  {
   "cell_type": "code",
   "execution_count": 309,
   "metadata": {},
   "outputs": [
    {
     "data": {
      "image/png": "[encoded data removed]",
      "text/plain": [
       "<Figure size 2160x1080 with 2 Axes>"
      ]
     },
     "metadata": {
      "needs_background": "light"
     },
     "output_type": "display_data"
    }
   ],
   "source": [
    "fig= plt.figure(figsize=(30,15))\n",
    "plt.imshow(indicatorVariationArray, origin='lower', cmap=plt.get_cmap(\"inferno\"), aspect='auto', extent=[0,1440,-90,90])\n",
    "plt.xlabel(\"Temps\")\n",
    "plt.ylabel(\"Latitude\")\n",
    "plt.colorbar()\n",
    "plt.savefig('OutputMatrix.png')\n",
    "plt.show()"
   ]
  },
  {
   "cell_type": "code",
   "execution_count": 56,
   "metadata": {},
   "outputs": [],
   "source": [
    "savedAllPredictionsArray = np.empty_like(indicatorVariationArray) \n",
    "savedAllPredictionsArray[:] = indicatorVariationArray "
   ]
  },
  {
   "cell_type": "code",
   "execution_count": 197,
   "metadata": {},
   "outputs": [],
   "source": [
    "def GetIndicatorLongPrediction(latitude, longitude):\n",
    "    indicatorLatVariation = np.array([])\n",
    "    for i in range(0, 180):\n",
    "        indicatorLatVariation = np.append(indicatorLatVariation, indicatorVariationArray[i][longitude])\n",
    "\n",
    "    y = np.array(indicatorLatVariation)\n",
    "    x = np.arange(0, 180, 1)\n",
    "    x, y = RemoveInfNan(x, y)\n",
    "    return SupportVectorRegression(x,y).predict(latitude)"
   ]
  },
  {
   "cell_type": "code",
   "execution_count": 219,
   "metadata": {},
   "outputs": [],
   "source": [
    "from sklearn.svm import SVR\n",
    "\n",
    "def SupportVectorRegression(latValues, indicatorValues):\n",
    "    svr_rbf = SVR(kernel='rbf', C=10, gamma=0.0006)\n",
    "    SVRmodel = svr_rbf.fit(latValues, indicatorValues)\n",
    "    \n",
    "    return SVRmodel\n",
    "\n",
    "\n",
    "def RemoveInfNan(latValues, indicatorValues):\n",
    "    indexDeleteY = np.array([])\n",
    "    for i in range(0, indicatorValues.shape[0]):\n",
    "        if math.isinf(indicatorValues[i]) or math.isnan(indicatorValues[i]):\n",
    "            indexDeleteY = np.append(indexDeleteY, i)\n",
    "    newY = np.delete(indicatorValues, indexDeleteY)\n",
    "    newX = np.delete(latValues, indexDeleteY)\n",
    "    newY=newY.reshape(newY.shape[0],1)\n",
    "    newX=newX.reshape(newY.shape[0],1)\n",
    "    \n",
    "    return newX, newY"
   ]
  },
  {
   "cell_type": "code",
   "execution_count": 246,
   "metadata": {},
   "outputs": [
    {
     "name": "stderr",
     "output_type": "stream",
     "text": [
      "/home/cristille/anaconda3/envs/py27/lib/python2.7/site-packages/ipykernel_launcher.py:15: DeprecationWarning: using a non-integer array as obj in delete will result in an error in the future\n",
      "  from ipykernel import kernelapp as app\n",
      "/home/cristille/anaconda3/envs/py27/lib/python2.7/site-packages/ipykernel_launcher.py:16: DeprecationWarning: using a non-integer array as obj in delete will result in an error in the future\n",
      "  app.launch_new_instance()\n"
     ]
    },
    {
     "data": {
      "image/png": "[encoded data removed]",
      "text/plain": [
       "<Figure size 1080x432 with 1 Axes>"
      ]
     },
     "metadata": {
      "needs_background": "light"
     },
     "output_type": "display_data"
    }
   ],
   "source": [
    "indicatorLatVariation = np.array([])\n",
    "for i in range(0, 180):\n",
    "    indicatorLatVariation = np.append(indicatorLatVariation, indicatorVariationArray[i][160])\n",
    "\n",
    "y = np.array(indicatorLatVariation)\n",
    "x = np.arange(0, 180, 1)\n",
    "\n",
    "plt.figure(figsize=(15,6))\n",
    "plt.xlabel(\"Latitude\")\n",
    "plt.ylabel(\"Indicator\")\n",
    "plt.scatter(x, y, c = 'blue')\n",
    "\n",
    "x, y = RemoveInfNan(x, y)\n",
    "plt.plot(x, SupportVectorRegression(x,y).predict(x), \"r:\")\n",
    "plt.show()"
   ]
  },
  {
   "cell_type": "code",
   "execution_count": 181,
   "metadata": {},
   "outputs": [
    {
     "name": "stderr",
     "output_type": "stream",
     "text": [
      "/home/cristille/anaconda3/envs/py27/lib/python2.7/site-packages/ipykernel_launcher.py:15: DeprecationWarning: using a non-integer array as obj in delete will result in an error in the future\n",
      "  from ipykernel import kernelapp as app\n",
      "/home/cristille/anaconda3/envs/py27/lib/python2.7/site-packages/ipykernel_launcher.py:16: DeprecationWarning: using a non-integer array as obj in delete will result in an error in the future\n",
      "  app.launch_new_instance()\n"
     ]
    }
   ],
   "source": [
    "from sklearn.model_selection import train_test_split\n",
    "\n",
    "x, y = RemoveInfNan(x, y)\n",
    "X_train, X_test, y_train, y_test = train_test_split(x, y, test_size=0.5, random_state=0)\n",
    "\n",
    "parameters = [{'kernel': ['rbf'], 'gamma': [1e-4, 1e-3, 0.01, 0.1, 0.2, 0.5, 0.6, 0.9],'C': [1, 10, 100, 1000, 10000]}]\n"
   ]
  },
  {
   "cell_type": "code",
   "execution_count": 183,
   "metadata": {},
   "outputs": [
    {
     "name": "stdout",
     "output_type": "stream",
     "text": [
      "(34, 1)\n"
     ]
    },
    {
     "data": {
      "text/plain": [
       "<matplotlib.collections.PathCollection at 0x7f565c75d7d0>"
      ]
     },
     "execution_count": 183,
     "metadata": {},
     "output_type": "execute_result"
    },
    {
     "data": {
      "image/png": "[encoded data removed]",
      "text/plain": [
       "<Figure size 432x288 with 1 Axes>"
      ]
     },
     "metadata": {
      "needs_background": "light"
     },
     "output_type": "display_data"
    }
   ],
   "source": [
    "print(y_train.shape)\n",
    "plt.scatter(X_test, y_test)"
   ]
  },
  {
   "cell_type": "code",
   "execution_count": 184,
   "metadata": {},
   "outputs": [
    {
     "name": "stdout",
     "output_type": "stream",
     "text": [
      "# Tuning hyper-parameters\n",
      "Best parameters set found on development set:\n",
      "{'kernel': 'rbf', 'C': 1, 'gamma': 0.0001}\n",
      "Grid scores on development set:\n",
      "0.000 (+/-0.000) for {'kernel': 'rbf', 'C': 1, 'gamma': 0.0001}\n",
      "0.000 (+/-0.000) for {'kernel': 'rbf', 'C': 1, 'gamma': 0.001}\n",
      "0.000 (+/-0.000) for {'kernel': 'rbf', 'C': 1, 'gamma': 0.01}\n",
      "0.000 (+/-0.000) for {'kernel': 'rbf', 'C': 1, 'gamma': 0.1}\n",
      "0.000 (+/-0.000) for {'kernel': 'rbf', 'C': 1, 'gamma': 0.2}\n",
      "0.000 (+/-0.000) for {'kernel': 'rbf', 'C': 1, 'gamma': 0.5}\n",
      "0.000 (+/-0.000) for {'kernel': 'rbf', 'C': 1, 'gamma': 0.6}\n",
      "0.000 (+/-0.000) for {'kernel': 'rbf', 'C': 1, 'gamma': 0.9}\n",
      "0.000 (+/-0.000) for {'kernel': 'rbf', 'C': 10, 'gamma': 0.0001}\n",
      "0.000 (+/-0.000) for {'kernel': 'rbf', 'C': 10, 'gamma': 0.001}\n",
      "0.000 (+/-0.000) for {'kernel': 'rbf', 'C': 10, 'gamma': 0.01}\n",
      "0.000 (+/-0.000) for {'kernel': 'rbf', 'C': 10, 'gamma': 0.1}\n",
      "0.000 (+/-0.000) for {'kernel': 'rbf', 'C': 10, 'gamma': 0.2}\n",
      "0.000 (+/-0.000) for {'kernel': 'rbf', 'C': 10, 'gamma': 0.5}\n",
      "0.000 (+/-0.000) for {'kernel': 'rbf', 'C': 10, 'gamma': 0.6}\n",
      "0.000 (+/-0.000) for {'kernel': 'rbf', 'C': 10, 'gamma': 0.9}\n",
      "0.000 (+/-0.000) for {'kernel': 'rbf', 'C': 100, 'gamma': 0.0001}\n",
      "0.000 (+/-0.000) for {'kernel': 'rbf', 'C': 100, 'gamma': 0.001}\n",
      "0.000 (+/-0.000) for {'kernel': 'rbf', 'C': 100, 'gamma': 0.01}\n",
      "0.000 (+/-0.000) for {'kernel': 'rbf', 'C': 100, 'gamma': 0.1}\n",
      "0.000 (+/-0.000) for {'kernel': 'rbf', 'C': 100, 'gamma': 0.2}\n",
      "0.000 (+/-0.000) for {'kernel': 'rbf', 'C': 100, 'gamma': 0.5}\n",
      "0.000 (+/-0.000) for {'kernel': 'rbf', 'C': 100, 'gamma': 0.6}\n",
      "0.000 (+/-0.000) for {'kernel': 'rbf', 'C': 100, 'gamma': 0.9}\n",
      "0.000 (+/-0.000) for {'kernel': 'rbf', 'C': 1000, 'gamma': 0.0001}\n",
      "0.000 (+/-0.000) for {'kernel': 'rbf', 'C': 1000, 'gamma': 0.001}\n",
      "0.000 (+/-0.000) for {'kernel': 'rbf', 'C': 1000, 'gamma': 0.01}\n",
      "0.000 (+/-0.000) for {'kernel': 'rbf', 'C': 1000, 'gamma': 0.1}\n",
      "0.000 (+/-0.000) for {'kernel': 'rbf', 'C': 1000, 'gamma': 0.2}\n",
      "0.000 (+/-0.000) for {'kernel': 'rbf', 'C': 1000, 'gamma': 0.5}\n",
      "0.000 (+/-0.000) for {'kernel': 'rbf', 'C': 1000, 'gamma': 0.6}\n",
      "0.000 (+/-0.000) for {'kernel': 'rbf', 'C': 1000, 'gamma': 0.9}\n",
      "0.000 (+/-0.000) for {'kernel': 'rbf', 'C': 10000, 'gamma': 0.0001}\n",
      "0.000 (+/-0.000) for {'kernel': 'rbf', 'C': 10000, 'gamma': 0.001}\n",
      "0.000 (+/-0.000) for {'kernel': 'rbf', 'C': 10000, 'gamma': 0.01}\n",
      "0.000 (+/-0.000) for {'kernel': 'rbf', 'C': 10000, 'gamma': 0.1}\n",
      "0.000 (+/-0.000) for {'kernel': 'rbf', 'C': 10000, 'gamma': 0.2}\n",
      "0.000 (+/-0.000) for {'kernel': 'rbf', 'C': 10000, 'gamma': 0.5}\n",
      "0.000 (+/-0.000) for {'kernel': 'rbf', 'C': 10000, 'gamma': 0.6}\n",
      "0.000 (+/-0.000) for {'kernel': 'rbf', 'C': 10000, 'gamma': 0.9}\n",
      "Detailed classification report:\n",
      "The model is trained on the full development set.\n",
      "The scores are computed on the full evaluation set.\n",
      "-0.1934955159786409\n"
     ]
    }
   ],
   "source": [
    "from sklearn.metrics import r2_score, make_scorer, mean_squared_error\n",
    "from sklearn.model_selection import GridSearchCV\n",
    "\n",
    "print(\"# Tuning hyper-parameters\")\n",
    "scorer = make_scorer(mean_squared_error)\n",
    "svr = GridSearchCV(SVR(), parameters, cv = 2, scoring=scorer)\n",
    "svr.fit(X_train, y_train)\n",
    "\n",
    "print(\"Best parameters set found on development set:\")\n",
    "print(svr.best_params_)\n",
    "\n",
    "print(\"Grid scores on development set:\")\n",
    "means = svr.cv_results_['mean_test_score']\n",
    "stds = svr.cv_results_['std_test_score']\n",
    "for mean, std, params in zip(means, stds, svr.cv_results_['params']):\n",
    "    print(\"%0.3f (+/-%0.03f) for %r\"\n",
    "          % (mean, std * 2, params))\n",
    "\n",
    "print(\"Detailed classification report:\")\n",
    "print(\"The model is trained on the full development set.\")\n",
    "print(\"The scores are computed on the full evaluation set.\")\n",
    "y_true, y_pred = y_test, svr.predict(X_test)\n",
    "print(r2_score(y_true, y_pred))"
   ]
  },
  {
   "cell_type": "code",
   "execution_count": 395,
   "metadata": {},
   "outputs": [
    {
     "name": "stdout",
     "output_type": "stream",
     "text": [
      "(array([14.28446293]), 20.938156925020778)\n"
     ]
    }
   ],
   "source": [
    "a = 30\n",
    "print(y_true[a], y_pred[a])"
   ]
  },
  {
   "cell_type": "code",
   "execution_count": null,
   "metadata": {},
   "outputs": [],
   "source": []
  },
  {
   "cell_type": "code",
   "execution_count": null,
   "metadata": {},
   "outputs": [],
   "source": []
  },
  {
   "cell_type": "code",
   "execution_count": null,
   "metadata": {},
   "outputs": [],
   "source": []
  },
  {
   "cell_type": "code",
   "execution_count": 327,
   "metadata": {},
   "outputs": [
    {
     "name": "stdout",
     "output_type": "stream",
     "text": [
      "Automatically created module for IPython interactive environment\n",
      "# Tuning hyper-parameters for precision\n",
      "()\n",
      "Best parameters set found on development set:\n",
      "()\n",
      "{'kernel': 'rbf', 'C': 10, 'gamma': 0.001}\n",
      "()\n",
      "Grid scores on development set:\n",
      "()\n",
      "0.983 (+/-0.015) for {'kernel': 'rbf', 'C': 1, 'gamma': 0.001}\n",
      "0.956 (+/-0.027) for {'kernel': 'rbf', 'C': 1, 'gamma': 0.0001}\n",
      "0.985 (+/-0.014) for {'kernel': 'rbf', 'C': 10, 'gamma': 0.001}\n",
      "0.981 (+/-0.020) for {'kernel': 'rbf', 'C': 10, 'gamma': 0.0001}\n",
      "0.985 (+/-0.014) for {'kernel': 'rbf', 'C': 100, 'gamma': 0.001}\n",
      "0.981 (+/-0.019) for {'kernel': 'rbf', 'C': 100, 'gamma': 0.0001}\n",
      "0.985 (+/-0.014) for {'kernel': 'rbf', 'C': 1000, 'gamma': 0.001}\n",
      "0.981 (+/-0.019) for {'kernel': 'rbf', 'C': 1000, 'gamma': 0.0001}\n",
      "0.976 (+/-0.002) for {'kernel': 'linear', 'C': 1}\n",
      "0.976 (+/-0.002) for {'kernel': 'linear', 'C': 10}\n",
      "0.976 (+/-0.002) for {'kernel': 'linear', 'C': 100}\n",
      "0.976 (+/-0.002) for {'kernel': 'linear', 'C': 1000}\n",
      "()\n",
      "Detailed classification report:\n",
      "()\n",
      "The model is trained on the full development set.\n",
      "The scores are computed on the full evaluation set.\n",
      "()\n",
      "             precision    recall  f1-score   support\n",
      "\n",
      "          0       1.00      1.00      1.00        89\n",
      "          1       0.97      1.00      0.98        90\n",
      "          2       0.99      0.98      0.98        92\n",
      "          3       1.00      0.99      0.99        93\n",
      "          4       1.00      1.00      1.00        76\n",
      "          5       0.99      0.98      0.99       108\n",
      "          6       0.99      1.00      0.99        89\n",
      "          7       0.99      1.00      0.99        78\n",
      "          8       1.00      0.98      0.99        92\n",
      "          9       0.99      0.99      0.99        92\n",
      "\n",
      "avg / total       0.99      0.99      0.99       899\n",
      "\n",
      "()\n",
      "# Tuning hyper-parameters for recall\n",
      "()\n",
      "Best parameters set found on development set:\n",
      "()\n",
      "{'kernel': 'rbf', 'C': 10, 'gamma': 0.001}\n",
      "()\n",
      "Grid scores on development set:\n",
      "()\n",
      "0.982 (+/-0.016) for {'kernel': 'rbf', 'C': 1, 'gamma': 0.001}\n",
      "0.953 (+/-0.027) for {'kernel': 'rbf', 'C': 1, 'gamma': 0.0001}\n",
      "0.984 (+/-0.016) for {'kernel': 'rbf', 'C': 10, 'gamma': 0.001}\n",
      "0.981 (+/-0.020) for {'kernel': 'rbf', 'C': 10, 'gamma': 0.0001}\n",
      "0.984 (+/-0.016) for {'kernel': 'rbf', 'C': 100, 'gamma': 0.001}\n",
      "0.980 (+/-0.019) for {'kernel': 'rbf', 'C': 100, 'gamma': 0.0001}\n",
      "0.984 (+/-0.016) for {'kernel': 'rbf', 'C': 1000, 'gamma': 0.001}\n",
      "0.980 (+/-0.019) for {'kernel': 'rbf', 'C': 1000, 'gamma': 0.0001}\n",
      "0.974 (+/-0.005) for {'kernel': 'linear', 'C': 1}\n",
      "0.974 (+/-0.005) for {'kernel': 'linear', 'C': 10}\n",
      "0.974 (+/-0.005) for {'kernel': 'linear', 'C': 100}\n",
      "0.974 (+/-0.005) for {'kernel': 'linear', 'C': 1000}\n",
      "()\n",
      "Detailed classification report:\n",
      "()\n",
      "The model is trained on the full development set.\n",
      "The scores are computed on the full evaluation set.\n",
      "()\n",
      "             precision    recall  f1-score   support\n",
      "\n",
      "          0       1.00      1.00      1.00        89\n",
      "          1       0.97      1.00      0.98        90\n",
      "          2       0.99      0.98      0.98        92\n",
      "          3       1.00      0.99      0.99        93\n",
      "          4       1.00      1.00      1.00        76\n",
      "          5       0.99      0.98      0.99       108\n",
      "          6       0.99      1.00      0.99        89\n",
      "          7       0.99      1.00      0.99        78\n",
      "          8       1.00      0.98      0.99        92\n",
      "          9       0.99      0.99      0.99        92\n",
      "\n",
      "avg / total       0.99      0.99      0.99       899\n",
      "\n",
      "()\n"
     ]
    }
   ],
   "source": [
    "from sklearn import datasets\n",
    "from sklearn.model_selection import train_test_split\n",
    "from sklearn.model_selection import GridSearchCV\n",
    "from sklearn.metrics import classification_report\n",
    "from sklearn.svm import SVC\n",
    "\n",
    "print(__doc__)\n",
    "\n",
    "# Loading the Digits dataset\n",
    "digits = datasets.load_digits()\n",
    "\n",
    "# To apply an classifier on this data, we need to flatten the image, to\n",
    "# turn the data in a (samples, feature) matrix:\n",
    "n_samples = len(digits.images)\n",
    "X = digits.images.reshape((n_samples, -1))\n",
    "y = digits.target\n",
    "\n",
    "# Split the dataset in two equal parts\n",
    "X_train, X_test, y_train, y_test = train_test_split(\n",
    "    X, y, test_size=0.5, random_state=0)\n",
    "\n",
    "# Set the parameters by cross-validation\n",
    "tuned_parameters = [{'kernel': ['rbf'], 'gamma': [1e-3, 1e-4],\n",
    "                     'C': [1, 10, 100, 1000]},\n",
    "                    {'kernel': ['linear'], 'C': [1, 10, 100, 1000]}]\n",
    "\n",
    "scores = ['precision', 'recall']\n",
    "\n",
    "for score in scores:\n",
    "    print(\"# Tuning hyper-parameters for %s\" % score)\n",
    "    print()\n",
    "\n",
    "    clf = GridSearchCV(\n",
    "        SVC(), tuned_parameters, scoring='%s_macro' % score\n",
    "    )\n",
    "    clf.fit(X_train, y_train)\n",
    "\n",
    "    print(\"Best parameters set found on development set:\")\n",
    "    print()\n",
    "    print(clf.best_params_)\n",
    "    print()\n",
    "    print(\"Grid scores on development set:\")\n",
    "    print()\n",
    "    means = clf.cv_results_['mean_test_score']\n",
    "    stds = clf.cv_results_['std_test_score']\n",
    "    for mean, std, params in zip(means, stds, clf.cv_results_['params']):\n",
    "        print(\"%0.3f (+/-%0.03f) for %r\"\n",
    "              % (mean, std * 2, params))\n",
    "    print()\n",
    "\n",
    "    print(\"Detailed classification report:\")\n",
    "    print()\n",
    "    print(\"The model is trained on the full development set.\")\n",
    "    print(\"The scores are computed on the full evaluation set.\")\n",
    "    print()\n",
    "    y_true, y_pred = y_test, clf.predict(X_test)\n",
    "    print(classification_report(y_true, y_pred))\n",
    "    print()\n",
    "\n",
    "# Note the problem is too easy: the hyperparameter plateau is too flat and the\n",
    "# output model is the same for precision and recall with ties in quality.\n",
    "\n"
   ]
  },
  {
   "cell_type": "code",
   "execution_count": 99,
   "metadata": {},
   "outputs": [],
   "source": [
    "from IPython.display import clear_output\n",
    "\n",
    "def drawMapForAnimation(timeshift, date):\n",
    "    clear_output(wait=True)\n",
    "    plt.clf()\n",
    "    global dotsX\n",
    "    del dotsX[:]\n",
    "    global dotsY\n",
    "    del dotsY[:]\n",
    "    global dotsHeights\n",
    "    del dotsHeights[:]\n",
    "    global startDate\n",
    "    \n",
    "    for st in allStationCodes:\n",
    "        if st != \"ipm\":\n",
    "            try:\n",
    "                update = datetime.timedelta(minutes=timeshift)\n",
    "                currentDate = startDate+update\n",
    "                dotsHeights.append(IndicatorCalculation(stationsOut.get(st), timeshift, currentDate))   \n",
    "                if stationsOut.get(st).get(\"longeo\")>180:\n",
    "                    dotsX.append(stationsOut.get(st).get(\"longeo\")-360)\n",
    "                else:\n",
    "                    dotsX.append(stationsOut.get(st).get(\"longeo\"))\n",
    "                dotsY.append(stationsOut.get(st).get(\"latgeo\"))\n",
    "            except:\n",
    "                stationsWithNoData.append(st)\n",
    "        else:\n",
    "            None      \n",
    "    if not dotsX or not dotsY or not dotsHeights:\n",
    "        print(\"No data given! Is the current date out of bounds? Current date: {} __ Max date: {}\".format(date, endDate))\n",
    "    else:\n",
    "        contourMap()\n",
    "        plt.colorbar()\n",
    "        update = datetime.timedelta(minutes=timeshift)\n",
    "        currentDate = startDate+update\n",
    "        plt.suptitle(str(currentDate), fontsize=14, fontweight='bold')"
   ]
  },
  {
   "cell_type": "code",
   "execution_count": 102,
   "metadata": {},
   "outputs": [
    {
     "ename": "IndexError",
     "evalue": "list index out of range",
     "output_type": "error",
     "traceback": [
      "\u001b[0;31m\u001b[0m",
      "\u001b[0;31mIndexError\u001b[0mTraceback (most recent call last)",
      "\u001b[0;32m<ipython-input-102-740bd7049198>\u001b[0m in \u001b[0;36m<module>\u001b[0;34m()\u001b[0m\n\u001b[1;32m     20\u001b[0m             \u001b[0mi\u001b[0m\u001b[0;34m+=\u001b[0m\u001b[0;36m60\u001b[0m\u001b[0;34m\u001b[0m\u001b[0m\n\u001b[1;32m     21\u001b[0m \u001b[0;34m\u001b[0m\u001b[0m\n\u001b[0;32m---> 22\u001b[0;31m \u001b[0mMakeAnimation\u001b[0m\u001b[0;34m(\u001b[0m\u001b[0;34m)\u001b[0m\u001b[0;34m\u001b[0m\u001b[0m\n\u001b[0m",
      "\u001b[0;32m<ipython-input-102-740bd7049198>\u001b[0m in \u001b[0;36mMakeAnimation\u001b[0;34m()\u001b[0m\n\u001b[1;32m     18\u001b[0m             \u001b[0mdrawMapForAnimation\u001b[0m\u001b[0;34m(\u001b[0m\u001b[0mi\u001b[0m\u001b[0;34m,\u001b[0m \u001b[0mstartDate\u001b[0m\u001b[0;34m)\u001b[0m\u001b[0;34m\u001b[0m\u001b[0m\n\u001b[1;32m     19\u001b[0m             \u001b[0mwriter\u001b[0m\u001b[0;34m.\u001b[0m\u001b[0mgrab_frame\u001b[0m\u001b[0;34m(\u001b[0m\u001b[0;34m)\u001b[0m\u001b[0;34m\u001b[0m\u001b[0m\n\u001b[0;32m---> 20\u001b[0;31m             \u001b[0mi\u001b[0m\u001b[0;34m+=\u001b[0m\u001b[0;36m60\u001b[0m\u001b[0;34m\u001b[0m\u001b[0m\n\u001b[0m\u001b[1;32m     21\u001b[0m \u001b[0;34m\u001b[0m\u001b[0m\n\u001b[1;32m     22\u001b[0m \u001b[0mMakeAnimation\u001b[0m\u001b[0;34m(\u001b[0m\u001b[0;34m)\u001b[0m\u001b[0;34m\u001b[0m\u001b[0m\n",
      "\u001b[0;32m/home/cristille/anaconda3/envs/py27/lib/python2.7/contextlib.pyc\u001b[0m in \u001b[0;36m__exit__\u001b[0;34m(self, type, value, traceback)\u001b[0m\n\u001b[1;32m     33\u001b[0m                 \u001b[0mvalue\u001b[0m \u001b[0;34m=\u001b[0m \u001b[0mtype\u001b[0m\u001b[0;34m(\u001b[0m\u001b[0;34m)\u001b[0m\u001b[0;34m\u001b[0m\u001b[0m\n\u001b[1;32m     34\u001b[0m             \u001b[0;32mtry\u001b[0m\u001b[0;34m:\u001b[0m\u001b[0;34m\u001b[0m\u001b[0m\n\u001b[0;32m---> 35\u001b[0;31m                 \u001b[0mself\u001b[0m\u001b[0;34m.\u001b[0m\u001b[0mgen\u001b[0m\u001b[0;34m.\u001b[0m\u001b[0mthrow\u001b[0m\u001b[0;34m(\u001b[0m\u001b[0mtype\u001b[0m\u001b[0;34m,\u001b[0m \u001b[0mvalue\u001b[0m\u001b[0;34m,\u001b[0m \u001b[0mtraceback\u001b[0m\u001b[0;34m)\u001b[0m\u001b[0;34m\u001b[0m\u001b[0m\n\u001b[0m\u001b[1;32m     36\u001b[0m                 \u001b[0;32mraise\u001b[0m \u001b[0mRuntimeError\u001b[0m\u001b[0;34m(\u001b[0m\u001b[0;34m\"generator didn't stop after throw()\"\u001b[0m\u001b[0;34m)\u001b[0m\u001b[0;34m\u001b[0m\u001b[0m\n\u001b[1;32m     37\u001b[0m             \u001b[0;32mexcept\u001b[0m \u001b[0mStopIteration\u001b[0m\u001b[0;34m,\u001b[0m \u001b[0mexc\u001b[0m\u001b[0;34m:\u001b[0m\u001b[0;34m\u001b[0m\u001b[0m\n",
      "\u001b[0;32m/home/cristille/anaconda3/envs/py27/lib/python2.7/site-packages/matplotlib/animation.pyc\u001b[0m in \u001b[0;36msaving\u001b[0;34m(self, fig, outfile, dpi, *args, **kwargs)\u001b[0m\n\u001b[1;32m    239\u001b[0m             \u001b[0;32myield\u001b[0m \u001b[0mself\u001b[0m\u001b[0;34m\u001b[0m\u001b[0m\n\u001b[1;32m    240\u001b[0m         \u001b[0;32mfinally\u001b[0m\u001b[0;34m:\u001b[0m\u001b[0;34m\u001b[0m\u001b[0m\n\u001b[0;32m--> 241\u001b[0;31m             \u001b[0mself\u001b[0m\u001b[0;34m.\u001b[0m\u001b[0mfinish\u001b[0m\u001b[0;34m(\u001b[0m\u001b[0;34m)\u001b[0m\u001b[0;34m\u001b[0m\u001b[0m\n\u001b[0m\u001b[1;32m    242\u001b[0m \u001b[0;34m\u001b[0m\u001b[0m\n\u001b[1;32m    243\u001b[0m \u001b[0;34m\u001b[0m\u001b[0m\n",
      "\u001b[0;32m/home/cristille/anaconda3/envs/py27/lib/python2.7/site-packages/matplotlib/animation.pyc\u001b[0m in \u001b[0;36mfinish\u001b[0;34m(self)\u001b[0m\n\u001b[1;32m    547\u001b[0m         \u001b[0;31m# Call run here now that all frame grabbing is done. All temp files\u001b[0m\u001b[0;34m\u001b[0m\u001b[0;34m\u001b[0m\u001b[0m\n\u001b[1;32m    548\u001b[0m         \u001b[0;31m# are available to be assembled.\u001b[0m\u001b[0;34m\u001b[0m\u001b[0;34m\u001b[0m\u001b[0m\n\u001b[0;32m--> 549\u001b[0;31m         \u001b[0mself\u001b[0m\u001b[0;34m.\u001b[0m\u001b[0m_run\u001b[0m\u001b[0;34m(\u001b[0m\u001b[0;34m)\u001b[0m\u001b[0;34m\u001b[0m\u001b[0m\n\u001b[0m\u001b[1;32m    550\u001b[0m         \u001b[0mMovieWriter\u001b[0m\u001b[0;34m.\u001b[0m\u001b[0mfinish\u001b[0m\u001b[0;34m(\u001b[0m\u001b[0mself\u001b[0m\u001b[0;34m)\u001b[0m  \u001b[0;31m# Will call clean-up\u001b[0m\u001b[0;34m\u001b[0m\u001b[0m\n\u001b[1;32m    551\u001b[0m \u001b[0;34m\u001b[0m\u001b[0m\n",
      "\u001b[0;32m/home/cristille/anaconda3/envs/py27/lib/python2.7/site-packages/matplotlib/animation.pyc\u001b[0m in \u001b[0;36m_run\u001b[0;34m(self)\u001b[0m\n\u001b[1;32m    941\u001b[0m             \u001b[0;31m# temp names is filled by FileMovieWriter\u001b[0m\u001b[0;34m\u001b[0m\u001b[0;34m\u001b[0m\u001b[0m\n\u001b[1;32m    942\u001b[0m             fill_frames = _included_frames(self._temp_names,\n\u001b[0;32m--> 943\u001b[0;31m                                            self.frame_format)\n\u001b[0m\u001b[1;32m    944\u001b[0m \u001b[0;34m\u001b[0m\u001b[0m\n\u001b[1;32m    945\u001b[0m         mode_dict = dict(once_checked='',\n",
      "\u001b[0;32m/home/cristille/anaconda3/envs/py27/lib/python2.7/site-packages/matplotlib/animation.pyc\u001b[0m in \u001b[0;36m_included_frames\u001b[0;34m(frame_list, frame_format)\u001b[0m\n\u001b[1;32m    836\u001b[0m     \u001b[0;34m\"\"\"frame_list should be a list of filenames\"\"\"\u001b[0m\u001b[0;34m\u001b[0m\u001b[0m\n\u001b[1;32m    837\u001b[0m     return INCLUDED_FRAMES.format(Nframes=len(frame_list),\n\u001b[0;32m--> 838\u001b[0;31m                                   \u001b[0mframe_dir\u001b[0m\u001b[0;34m=\u001b[0m\u001b[0mos\u001b[0m\u001b[0;34m.\u001b[0m\u001b[0mpath\u001b[0m\u001b[0;34m.\u001b[0m\u001b[0mdirname\u001b[0m\u001b[0;34m(\u001b[0m\u001b[0mframe_list\u001b[0m\u001b[0;34m[\u001b[0m\u001b[0;36m0\u001b[0m\u001b[0;34m]\u001b[0m\u001b[0;34m)\u001b[0m\u001b[0;34m,\u001b[0m\u001b[0;34m\u001b[0m\u001b[0m\n\u001b[0m\u001b[1;32m    839\u001b[0m                                   frame_format=frame_format)\n\u001b[1;32m    840\u001b[0m \u001b[0;34m\u001b[0m\u001b[0m\n",
      "\u001b[0;31mIndexError\u001b[0m: list index out of range"
     ]
    },
    {
     "data": {
      "image/png": "[encoded data removed]",
      "text/plain": [
       "<Figure size 1200x600 with 1 Axes>"
      ]
     },
     "metadata": {
      "needs_background": "light"
     },
     "output_type": "display_data"
    }
   ],
   "source": [
    "import matplotlib.animation as manimation\n",
    "\n",
    "def MakeAnimation():\n",
    "    FFMpegWriter = manimation.writers['html']\n",
    "    writer = FFMpegWriter(fps=15)\n",
    "    fig = plt.figure(figsize=(12, 6), dpi=100)\n",
    "    \n",
    "    plt.xlabel('longitude')\n",
    "    plt.ylabel('latitude')\n",
    "\n",
    "    plt.xlim(-180, 180)\n",
    "    plt.ylim(-90, 90)\n",
    "\n",
    "    i=0 # En minutes\n",
    "    delta = endDate-startDate\n",
    "    with writer.saving(fig, \"../Documents/Animations/MagneticVariationsAnimation/MagneticVariationsAnimation.html\", 100):\n",
    "        while(i<=(delta.total_seconds()+1)/60):\n",
    "            drawMapForAnimation(i, startDate)\n",
    "            writer.grab_frame()\n",
    "            i+=60\n",
    "            \n",
    "MakeAnimation()\n"
   ]
  },
  {
   "cell_type": "code",
   "execution_count": null,
   "metadata": {},
   "outputs": [],
   "source": []
  },
  {
   "cell_type": "code",
   "execution_count": null,
   "metadata": {},
   "outputs": [],
   "source": []
  }
 ],
 "metadata": {
  "kernelspec": {
   "display_name": "Python 2.7 matlab",
   "language": "python",
   "name": "dlwp"
  },
  "language_info": {
   "codemirror_mode": {
    "name": "ipython",
    "version": 2
   },
   "file_extension": ".py",
   "mimetype": "text/x-python",
   "name": "python",
   "nbconvert_exporter": "python",
   "pygments_lexer": "ipython2",
   "version": "2.7.15"
  }
 },
 "nbformat": 4,
 "nbformat_minor": 4
}
