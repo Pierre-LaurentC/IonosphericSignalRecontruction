{
 "cells": [
  {
   "cell_type": "code",
   "execution_count": 1,
   "metadata": {},
   "outputs": [],
   "source": [
    "import matlab.engine\n",
    "import matplotlib as mpl\n",
    "import matplotlib.pyplot as plt\n",
    "import numpy as np\n",
    "import pandas as pd\n",
    "import sys\n",
    "import datetime\n",
    "from scipy.io import loadmat\n",
    "from collections import defaultdict\n",
    "from IPython.display import clear_output\n",
    "import math\n",
    "\n",
    "eng = matlab.engine.start_matlab()"
   ]
  },
  {
   "cell_type": "code",
   "execution_count": 2,
   "metadata": {},
   "outputs": [],
   "source": [
    "year = 2015\n",
    "month = 3\n",
    "day = 10\n",
    "hour = 0\n",
    "minute = 0\n",
    "second = 0\n",
    "\n",
    "startDateMatlab = [year, month, day, hour, minute, second]\n",
    "endDateMatlab = [year, month, day, hour+23, minute+59, second+59]\n",
    "\n",
    "startDate = datetime.datetime(year, month, day, hour, minute, second)\n",
    "endDate = datetime.datetime(year, month, day, hour+23, minute+59, second+59)\n",
    "\n",
    "\n",
    "stationsWithNoData = []\n",
    "stationsNonexistentInFolder = []\n",
    "stationsOut = dict()\n",
    "dotsX=[]\n",
    "dotsY=[]\n",
    "dotsHeights=[]\n",
    "stationIndicatorVariation = defaultdict(list)\n",
    "\n",
    "mat = loadmat(\"../../../../opt/dir.indices/station.mat\")\n",
    "\n",
    "allMatData = mat.get(\"station\", \"none\")[0]\n",
    "allStationCodes=[]\n",
    "\n",
    "for x in allMatData:\n",
    "    allStationCodes.append(x[1][0])\n",
    "    "
   ]
  },
  {
   "cell_type": "code",
   "execution_count": 3,
   "metadata": {},
   "outputs": [
    {
     "name": "stdout",
     "output_type": "stream",
     "text": [
      "CPU times: user 400 ms, sys: 93.1 ms, total: 493 ms\n",
      "Wall time: 3.11 s\n"
     ]
    }
   ],
   "source": [
    "%%time\n",
    "for st in allStationCodes: \n",
    "    try:\n",
    "        stationsOut[st] = eng.indices_alpha(matlab.double(startDateMatlab), matlab.double(endDateMatlab),str(st))\n",
    "    except:\n",
    "        stationsNonexistentInFolder.append(st)"
   ]
  },
  {
   "cell_type": "code",
   "execution_count": 4,
   "metadata": {},
   "outputs": [
    {
     "name": "stdout",
     "output_type": "stream",
     "text": [
      "CPU times: user 176 ms, sys: 19.3 ms, total: 195 ms\n",
      "Wall time: 185 ms\n"
     ]
    }
   ],
   "source": [
    "%%time\n",
    "from collections import OrderedDict\n",
    "\n",
    "stationsYearMagPosition = OrderedDict(OrderedDict())\n",
    "stationPosition = OrderedDict()  \n",
    "\n",
    "for x in allMatData:  \n",
    "    stationsYearMagPosition[str(x[1][0])] = OrderedDict()  \n",
    "    try:\n",
    "        for i in range(len(x[5][0])):\n",
    "            stationPosition[x[5][0][i]] = x[9][0][i], x[10][0][i]\n",
    "            stationsYearMagPosition[str(x[1][0])] = stationPosition.copy()\n",
    "    except:\n",
    "        print(\"no value\")"
   ]
  },
  {
   "cell_type": "code",
   "execution_count": 5,
   "metadata": {},
   "outputs": [],
   "source": [
    "def IndicatorCalculation(dataSt, timeshift, currentDate):\n",
    "    \n",
    "    a1=np.float32(dataSt.get(\"a1\")[timeshift])\n",
    "    x=np.float32(dataSt.get(\"x\")[timeshift])\n",
    "    x1=np.float32(dataSt.get(\"x1\")[timeshift])\n",
    "    x2=np.float32(dataSt.get(\"x2\")[timeshift])\n",
    "#     x3=np.float32(dataSt.get(\"x3\")[timeshift])\n",
    "#     x4=np.float32(dataSt.get(\"x4\")[timeshift])\n",
    "#     y=np.float32(dataSt.get(\"y\")[timeshift])\n",
    "    y1=np.float32(dataSt.get(\"y1\")[timeshift])\n",
    "#     y2=np.float32(dataSt.get(\"y2\")[timeshift])\n",
    "#     y3=np.float32(dataSt.get(\"y3\")[timeshift])\n",
    "#     y4=np.float32(dataSt.get(\"y4\")[timeshift])\n",
    "    z1=np.float32(dataSt.get(\"z1\")[timeshift])\n",
    "    stLongeo=np.float32(dataSt.get(\"longeo\"))\n",
    "    stLatgeo=np.float32(dataSt.get(\"latgeo\"))\n",
    "    stAlt=np.float32(dataSt.get(\"alt\"))\n",
    "    \n",
    "    currentDateMatlab = [currentDate.year, currentDate.month, currentDate.day, currentDate.hour, currentDate.minute, currentDate.second]\n",
    "    \n",
    "    b=eng.igrf(matlab.double([stLongeo]), matlab.double([stLatgeo]), matlab.double([stAlt]), matlab.double([currentDateMatlab]), nargout=4)\n",
    "    \n",
    "    ratio = (((math.sqrt(pow(x1, 2)+pow(y1, 2)+pow(z1, 2)))/b[3])-1)*100\n",
    "#     indicator = gaussian(ratio, 1, 0)\n",
    "    return np.round(x,10)"
   ]
  },
  {
   "cell_type": "code",
   "execution_count": 6,
   "metadata": {},
   "outputs": [],
   "source": [
    "def AbsoluteValue(array):\n",
    "    return (abs(max(array))+abs(min(array)))/2\n",
    "def gaussian(x, a, b, c):\n",
    "    return a*math.exp(-np.power((x-b),2)/(2*np.power(c,2)))\n",
    "\n",
    "\n",
    "# x = np.linspace(-20, 20, 1000)\n",
    "# fig= plt.figure(figsize=(20,8))\n",
    "# axes= fig.add_axes([0.8,0.8,0.8,0.8])\n",
    "# gauss = np.vectorize(gaussian)\n",
    "# print(gaussian(15, 1, 0, AbsoluteValue(x)))\n",
    "# axes.plot(x, gauss(x, 1, 0, AbsoluteValue(x)))\n",
    "# plt.show()"
   ]
  },
  {
   "cell_type": "code",
   "execution_count": 7,
   "metadata": {},
   "outputs": [
    {
     "name": "stdout",
     "output_type": "stream",
     "text": [
      "CPU times: user 11.1 s, sys: 491 ms, total: 11.6 s\n",
      "Wall time: 17.3 s\n"
     ]
    }
   ],
   "source": [
    "%%time\n",
    "stationIndicatorVariation.clear()\n",
    "stationName = \"clf\"\n",
    "timeBetweenValues = 20\n",
    "dataResolution = 0\n",
    "dataBeforeNormalizaton = np.array([])\n",
    "\n",
    "if 360%(1440/timeBetweenValues)==0:\n",
    "    dataResolution = 360/(1440/timeBetweenValues)\n",
    "    \n",
    "    for st in allStationCodes:\n",
    "        delta = endDate-startDate\n",
    "        totalMinutes = (delta.total_seconds()+1)/60\n",
    "        for i in range(0, np.int16(totalMinutes+1), timeBetweenValues):\n",
    "            try:\n",
    "                update = datetime.timedelta(minutes=i)\n",
    "                currentDate = startDate+update\n",
    "                stationIndicatorVariation[st].append(float(IndicatorCalculation(stationsOut.get(st), i, currentDate)))\n",
    "            except:\n",
    "                None\n",
    "            \n",
    "else:\n",
    "    print(\"!ERROR! -- Your timeBetweenValues must be a multiple of the chosen time delta's amount of minutes -- !ERROR!\")\n",
    "    sys.exit\n",
    "\n"
   ]
  },
  {
   "cell_type": "code",
   "execution_count": 14,
   "metadata": {},
   "outputs": [],
   "source": [
    "normalizedStationIndicatorVariation = defaultdict(list)\n",
    "def NormalizeDataGauss():\n",
    "    for st in allStationCodes:\n",
    "        for i in range(0, len(stationIndicatorVariation[st])):\n",
    "            normalizedStationIndicatorVariation[st].append(gaussian(stationIndicatorVariation[st][i], 1, 0, AbsoluteValue(stationIndicatorVariation[st])))\n",
    "\n",
    "def NormalizeData01(data):\n",
    "    return (data - np.min(data)) / (np.max(data) - np.min(data))\n",
    "\n",
    "NormalizeDataGauss()\n",
    "# NormalizeData01"
   ]
  },
  {
   "cell_type": "code",
   "execution_count": 8,
   "metadata": {},
   "outputs": [
    {
     "data": {
      "image/png": "[encoded data removed]",
      "text/plain": [
       "<Figure size 1440x576 with 1 Axes>"
      ]
     },
     "metadata": {
      "needs_background": "light"
     },
     "output_type": "display_data"
    }
   ],
   "source": [
    "y = np.array(stationIndicatorVariation[\"clf\"])\n",
    "x = np.arange(0, 1440, timeBetweenValues)\n",
    "fig= plt.figure(figsize=(20,8))\n",
    "axes= fig.add_axes([0.8,0.8,0.8,0.8])\n",
    "axes.plot(x,y)\n",
    "plt.show()"
   ]
  },
  {
   "cell_type": "code",
   "execution_count": 9,
   "metadata": {},
   "outputs": [],
   "source": [
    "def AdaptDimensions(vector):\n",
    "    outputVector=np.array([])\n",
    "    shift=360/vector.shape[0]\n",
    "    for y in range(0, vector.shape[0]):\n",
    "        for i in range(0, shift):\n",
    "            outputVector = np.append(outputVector, vector[y])\n",
    "    return outputVector"
   ]
  },
  {
   "cell_type": "code",
   "execution_count": 10,
   "metadata": {},
   "outputs": [],
   "source": [
    "indicatorVariationArray = np.full((180, 360), np.nan)\n",
    "\n",
    "def makeIndicatorVariationArray(normalized):\n",
    "    for st in allStationCodes:\n",
    "        for i in range(-90, 90):\n",
    "            try:\n",
    "                if i == np.round(np.int16(stationsOut[st].get(\"latgeo\")),0):\n",
    "                    if normalized: indicatorVariationArray[i+90]=AdaptDimensions(np.array(normalizedStationIndicatorVariation[st]))\n",
    "                    else: indicatorVariationArray[i+90]=AdaptDimensions(np.array(stationIndicatorVariation[st]))\n",
    "                else:\n",
    "                    None\n",
    "            except:\n",
    "                None\n",
    "                \n",
    "makeIndicatorVariationArray(False)"
   ]
  },
  {
   "cell_type": "code",
   "execution_count": 18,
   "metadata": {},
   "outputs": [],
   "source": [
    "def PredictIndicatorForOneLatitude(wantedLatitude):\n",
    "    timePrediction = np.full((360), np.inf)\n",
    "    for i in range(0, 360, dataResolution):\n",
    "        result = GetIndicatorLongPrediction(wantedLatitude,i)\n",
    "        for y in range(i,i+dataResolution):\n",
    "            timePrediction[y] = result\n",
    "    return timePrediction\n",
    "\n",
    "def AddTimePredictionToGlobal(prediction, latitude):\n",
    "    indicatorVariationArray[latitude] = prediction\n",
    "    \n",
    "# AddTimePredictionToGlobal(PredictIndicatorForOneLatitude(90), 90)"
   ]
  },
  {
   "cell_type": "code",
   "execution_count": null,
   "metadata": {},
   "outputs": [
    {
     "name": "stdout",
     "output_type": "stream",
     "text": [
      "Latitude index 293 predicted out of 720 in total, with hyper parameters {'kernel': 'rbf', 'C': 1000, 'gamma': 0.001}\n"
     ]
    }
   ],
   "source": [
    "def PredictIndicatorForAllLatitudes(baseArray):\n",
    "    for i in range(0,baseArray.shape[0]):\n",
    "        specificLatitudeTimePrediction = np.full((360), np.inf)\n",
    "        params = ParametersTuning(baseArray,180)\n",
    "        print(\"Latitude index {} predicted out of {} in total, with hyper parameters {}\".format(i, baseArray.shape[0],params))\n",
    "        clear_output(wait=True)\n",
    "        if math.isinf(baseArray[i][0]) or math.isnan(baseArray[i][0]):\n",
    "            for y in range(0,baseArray.shape[1],dataResolution):   \n",
    "                result = GetIndicatorLongPrediction(i,y,params,baseArray)\n",
    "                for t in range(y,y+dataResolution):\n",
    "                    specificLatitudeTimePrediction[t] = result\n",
    "            baseArray[i] = specificLatitudeTimePrediction\n",
    "\n",
    "PredictIndicatorForAllLatitudes(indicatorVariationArrayIncreasedResolution)"
   ]
  },
  {
   "cell_type": "code",
   "execution_count": 15,
   "metadata": {},
   "outputs": [],
   "source": [
    "def IncreaseLatitudeResolution(array,resolutionValue):\n",
    "    insertionArray = np.full((array.shape[0]*resolutionValue,360),np.nan)\n",
    "    y=0\n",
    "    for i in range(0, array.shape[0]):\n",
    "        insertionArray[y] = array[i]\n",
    "        y+=resolutionValue\n",
    "    return insertionArray\n",
    "\n",
    "indicatorVariationArrayIncreasedResolution = IncreaseLatitudeResolution(indicatorVariationArray,4)"
   ]
  },
  {
   "cell_type": "code",
   "execution_count": 16,
   "metadata": {},
   "outputs": [
    {
     "data": {
      "image/png": "[encoded data removed]",
      "text/plain": [
       "<Figure size 2160x1080 with 2 Axes>"
      ]
     },
     "metadata": {
      "needs_background": "light"
     },
     "output_type": "display_data"
    }
   ],
   "source": [
    "fig= plt.figure(figsize=(30,15))\n",
    "plt.imshow(indicatorVariationArrayIncreasedResolution, origin='lower', cmap=plt.get_cmap(\"inferno\"), aspect='auto', extent=[0,1440,-90,90])\n",
    "plt.xlabel(\"Temps\")\n",
    "plt.ylabel(\"Latitude\")\n",
    "plt.colorbar()\n",
    "# plt.clim(0, 1)\n",
    "plt.savefig('OutputMatrix.png')\n",
    "plt.show()"
   ]
  },
  {
   "cell_type": "code",
   "execution_count": 11,
   "metadata": {},
   "outputs": [],
   "source": [
    "def GetIndicatorLongPrediction(latitude, longitude, params, baseArray):\n",
    "    indicatorLatVariation = np.array([])\n",
    "    for i in range(0, baseArray.shape[0]):\n",
    "        indicatorLatVariation = np.append(indicatorLatVariation, baseArray[i][longitude])\n",
    "\n",
    "    y = np.array(indicatorLatVariation)\n",
    "    x = np.arange(0, baseArray.shape[0], 1)\n",
    "    x,y = RemoveInfNan(x, y)\n",
    "    return SupportVectorRegression(x,y,params).predict(latitude)"
   ]
  },
  {
   "cell_type": "code",
   "execution_count": 12,
   "metadata": {},
   "outputs": [],
   "source": [
    "from sklearn.svm import SVR\n",
    "\n",
    "def SupportVectorRegression(latValues, indicatorValues,params):\n",
    "    svr_rbf = SVR(kernel='rbf', C=params['C'], gamma=params['gamma'])\n",
    "    SVRmodel = svr_rbf.fit(latValues, indicatorValues)\n",
    "    \n",
    "    return SVRmodel\n",
    "\n",
    "\n",
    "def RemoveInfNan(latValues, indicatorValues):\n",
    "    indexDeleteY = np.array([])\n",
    "    for i in range(0, indicatorValues.shape[0]):\n",
    "        if math.isinf(indicatorValues[i]) or math.isnan(indicatorValues[i]):\n",
    "            indexDeleteY = np.append(indexDeleteY, i)\n",
    "    newY = np.delete(indicatorValues, indexDeleteY)\n",
    "    newX = np.delete(latValues, indexDeleteY)\n",
    "    newY=newY.reshape(newY.shape[0],1)\n",
    "    newX=newX.reshape(newY.shape[0],1)\n",
    "    \n",
    "    return newX, newY"
   ]
  },
  {
   "cell_type": "code",
   "execution_count": 13,
   "metadata": {},
   "outputs": [],
   "source": [
    "# fig, (ax1, ax2) = plt.subplots(1, 2)\n",
    "# ax1.scatter(X_train, y_train)\n",
    "# ax2.scatter(X_test, y_test)\n",
    "# fig.set_size_inches(15,5)"
   ]
  },
  {
   "cell_type": "code",
   "execution_count": 14,
   "metadata": {},
   "outputs": [],
   "source": [
    "from sklearn.model_selection import GridSearchCV\n",
    "from sklearn.model_selection import train_test_split\n",
    "\n",
    "def ParametersTuning(baseArray,long):\n",
    "    indicatorLatVariation = np.array([])\n",
    "    for i in range(0, baseArray.shape[0]):\n",
    "        indicatorLatVariation = np.append(indicatorLatVariation, baseArray[i][long])\n",
    "\n",
    "    y = np.array(indicatorLatVariation)\n",
    "    x = np.arange(0, baseArray.shape[0], 1)\n",
    "\n",
    "    x, y = RemoveInfNan(x, y)\n",
    "    X_train, X_test, y_train, y_test = train_test_split(x, y, test_size=0.5, random_state=0)\n",
    "    parameters = {'kernel':['rbf'], 'gamma': [1e-3, 1e-2, 0.01, 0.1, 0.5, 0.9],'C': [1, 10, 50, 100, 1000]}\n",
    "    svr = GridSearchCV(SVR(), parameters)\n",
    "    svr.fit(X_train, y_train)\n",
    "#     print('score',svr.score(X_test, y_test))\n",
    "    modelBestParams = svr.best_params_\n",
    "#     print (\"Parameters tuning finished, best params: {}\".format(modelBestParams))\n",
    "    return modelBestParams"
   ]
  },
  {
   "cell_type": "code",
   "execution_count": 66,
   "metadata": {},
   "outputs": [
    {
     "name": "stderr",
     "output_type": "stream",
     "text": [
      "/home/cristille/anaconda3/envs/py27/lib/python2.7/site-packages/ipykernel_launcher.py:15: DeprecationWarning: using a non-integer array as obj in delete will result in an error in the future\n",
      "  from ipykernel import kernelapp as app\n",
      "/home/cristille/anaconda3/envs/py27/lib/python2.7/site-packages/ipykernel_launcher.py:16: DeprecationWarning: using a non-integer array as obj in delete will result in an error in the future\n",
      "  app.launch_new_instance()\n"
     ]
    },
    {
     "data": {
      "image/png": "[encoded data removed]",
      "text/plain": [
       "<Figure size 1080x432 with 1 Axes>"
      ]
     },
     "metadata": {
      "needs_background": "light"
     },
     "output_type": "display_data"
    }
   ],
   "source": [
    "def printModelFitForGivenLong(baseArray, long):\n",
    "    indicatorLatVariation = np.array([])\n",
    "    for i in range(0, baseArray.shape[0]):\n",
    "        indicatorLatVariation = np.append(indicatorLatVariation, baseArray[i][long])\n",
    "\n",
    "    y = np.array(indicatorLatVariation)\n",
    "    x = np.arange(0, baseArray.shape[0], 1)\n",
    "\n",
    "    plt.figure(figsize=(15,6))\n",
    "    plt.xlabel(\"Latitude\")\n",
    "    plt.ylabel(\"Indicator\")\n",
    "    plt.scatter(x, y, c = 'blue')\n",
    "    x, y = RemoveInfNan(x, y)\n",
    "    plt.plot(x, SupportVectorRegression(x,y,ParametersTuning(baseArray,long)).predict(x), \"r:\")\n",
    "    plt.show()\n",
    "    \n",
    "printModelFitForGivenLong(indicatorVariationArrayIncreasedResolution, 180)"
   ]
  },
  {
   "cell_type": "code",
   "execution_count": null,
   "metadata": {},
   "outputs": [],
   "source": []
  }
 ],
 "metadata": {
  "kernelspec": {
   "display_name": "Python 2.7 matlab",
   "language": "python",
   "name": "dlwp"
  },
  "language_info": {
   "codemirror_mode": {
    "name": "ipython",
    "version": 2
   },
   "file_extension": ".py",
   "mimetype": "text/x-python",
   "name": "python",
   "nbconvert_exporter": "python",
   "pygments_lexer": "ipython2",
   "version": "2.7.15"
  }
 },
 "nbformat": 4,
 "nbformat_minor": 4
}
